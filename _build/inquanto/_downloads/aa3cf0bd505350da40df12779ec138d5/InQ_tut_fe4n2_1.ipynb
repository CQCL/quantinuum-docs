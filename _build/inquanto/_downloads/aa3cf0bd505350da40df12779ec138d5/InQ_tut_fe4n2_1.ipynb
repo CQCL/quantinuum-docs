{
 "cells": [
  {
   "cell_type": "markdown",
   "id": "591b1b36-67ed-4f01-a3b7-d583890e022c",
   "metadata": {},
   "source": [
    "Fe4N2 - 1 - system construction with AVAS and CASSCF\n",
    "================================================================"
   ]
  },
  {
   "cell_type": "markdown",
   "id": "9db1dc4f-3aa5-4e00-b7d7-6ddfc3930788",
   "metadata": {},
   "source": [
    "In this tutorial, which serves as the introductory part of a three-part series ([second part](InQ_tut_fe4n2_2.ipynb) and [third part](InQ_tut_fe4n2_3.ipynb)), we will explore the classical workflow that must be followed before moving on to quantum computations. We will focus on a system that is more complex compared to a simple diatomic molecule like H$_2$. Additional details regarding the chemical systems, methodologies, and outcomes presented in this tutorial series are available in the associated [research paper](http://arxiv.org/abs/2310.10478). "
   ]
  },
  {
   "cell_type": "markdown",
   "id": "9e884b4d-e42a-4f40-974b-0b1095a9b327",
   "metadata": {},
   "source": [
    "The first step is to run Hartree-Fock (HF) calculations and in our case restricted open-shell Hartree-Fock (ROHF) with the Los Alamos National Laboratory (lanl2dz) effective core potential (`ecp`) and `basis` set. We use an InQuanto-PySCF driver to perform the molecular ROHF calculations, and store the results in an InQuanto `QubitOperator`.\n",
    "\n",
    "The geometry of Fe$_4$N$_2$ has been optimized for several possible spin multiplicities (7, 9, 11 and 13) and we have found that the state with `multiplicity` (2S+1) 7 has the lowest energy. \n",
    "\n",
    "\n",
    "Parameters used:\n",
    "\n",
    "- `geometry` – Molecular geometry.\n",
    "- `basis` – Atomic basis set valid for Mole class.\n",
    "- `ecp` – Effective core potentials.\n",
    "- `charge`  – Total charge.\n",
    "- `multiplicity` – Spin multiplicity, 2S+1.\n",
    "- `point_group_symmetry`  – Enable point group symmetry.\n",
    "- `soscf` – Use Second-Order SCF solver (Newton’s method).\n",
    "- `verbose` – Control PySCF verbosity.\n",
    "\n",
    "Even with a very good initial guess, making the Self-consistent field (SCF) procedure converge is sometimes challenging. To achieve quadratic convergence in the orbital optimization, PySCF implements a general second-order solver called the co-iterative augmented hessian (CIAH) method. By setting the `soscf` parameter to True, you can activate this method."
   ]
  },
  {
   "cell_type": "code",
   "execution_count": null,
   "id": "20663925-2777-4040-9641-f77e011cf164",
   "metadata": {},
   "outputs": [],
   "source": [
    "%reset -f \n",
    "# native pyscf\n",
    "from pyscf import gto, scf\n",
    "\n",
    "geometry = [\n",
    "[\"Fe\",[  0.27291543,  -1.18421072,  -0.99978567]],\n",
    "[\"Fe\",[ -1.35922190,   0.45608027,  -0.52389493]],\n",
    "[\"Fe\",[ -0.97901234,  -1.08834609,   1.07468517]],\n",
    "[\"Fe\",[  0.30675371,   0.72527495,   1.22446007]],\n",
    "[\"N\", [  1.32881018,   0.05991762,  -0.18585483]],\n",
    "[\"N\", [  0.42975492,   1.03128398,  -0.58960981]],    \n",
    "]\n",
    "\n",
    "basis = \"lanl2dz\"\n",
    "ecp = {'Fe':'lanl2dz'}\n",
    "point_group_symmetry = False\n",
    "multiplicity = 7\n",
    "charge = 0\n",
    "verbose = 1\n",
    "\n",
    "\n",
    "import warnings\n",
    "warnings.filterwarnings('ignore')"
   ]
  },
  {
   "cell_type": "code",
   "execution_count": null,
   "id": "645eab7b-1564-4f92-bd07-260f2d458fb7",
   "metadata": {},
   "outputs": [
    {
     "data": {
      "text/plain": [
       "-598.4570485072064"
      ]
     },
     "execution_count": null,
     "metadata": {},
     "output_type": "execute_result"
    }
   ],
   "source": [
    "from inquanto.extensions.pyscf import ChemistryDriverPySCFMolecularROHF, CASSCF\n",
    "\n",
    "driver = ChemistryDriverPySCFMolecularROHF(geometry=geometry, basis=basis, ecp=ecp,charge=charge, \n",
    "                                           multiplicity=multiplicity, point_group_symmetry=point_group_symmetry,\n",
    "                                           soscf=True, verbose=verbose)\n",
    "driver.run_hf()"
   ]
  },
  {
   "cell_type": "markdown",
   "id": "63741253-6cd1-4009-9532-90308d454cc0",
   "metadata": {},
   "source": [
    "The NGLView visualizer for InQuanto can be used to display the system."
   ]
  },
  {
   "cell_type": "code",
   "execution_count": null,
   "id": "e1caf51e-b097-4469-b117-56d3f6d67c36",
   "metadata": {},
   "outputs": [],
   "source": [
    "from inquanto.geometries import GeometryMolecular\n",
    "from inquanto.extensions.nglview import VisualizerNGL\n",
    "\n",
    "fe4n2_geom = GeometryMolecular(geometry)\n",
    "visualizer = VisualizerNGL(fe4n2_geom)"
   ]
  },
  {
   "cell_type": "code",
   "execution_count": null,
   "id": "3a8d4a6a",
   "metadata": {},
   "outputs": [],
   "source": [
    "#visualizer.visualize_molecule(atom_labels=\"index\")"
   ]
  },
  {
   "cell_type": "markdown",
   "id": "b74e7f1d",
   "metadata": {},
   "source": [
    "![1](_images/fe4n2_structure.png)"
   ]
  },
  {
   "cell_type": "markdown",
   "id": "3fa9dce3-83ca-4df4-b4c5-1ef3b9be305a",
   "metadata": {},
   "source": [
    "To limit the hardware resources we can employ a smaller active space using Atomic Valence Active Space [(AVAS)](https://docs.quantinuum.com/inquanto/api/extensions/inquanto-pyscf_api.html#inquanto.extensions.pyscf.AVAS) approximation in the PySCF extension of InQuanto. AVAS is a simple and well-defined automated technique for constructing active orbital spaces for use in multi-configuration and multireference electronic structure calculations. Concretely, the technique constructs active molecular orbitals capable of describing all relevant electronic configurations emerging from a targeted set of atomic valence orbitals (e.g., the metal d orbitals in a coordination complex). This is achieved via a linear transformation of the occupied and unoccupied orbital spaces from an easily obtainable single-reference wavefunction (such as from a Hartree-Fock or Kohn-Sham calculations) based on projectors to targeted atomic valence orbitals. More information can be found in the original [paper.](https://arxiv.org/abs/1701.07862)  \n",
    "\n",
    "Parameters used:\n",
    "\n",
    "- `aolabels` – AO labels for AO active space.\n",
    "- `aolabels_vir` – If given, separate AO labels for the virtual orbitals. If not given, aolabels is used.\n",
    "- `n_occ` – None or number of localized occupied orbitals to create. If specified, the value of threshold is ignored.\n",
    "- `n_vir` – None or number of localized virtual orbitals to create. If specified, the value of threshold_vir is ignored.\n",
    "- `force_halves_active`  – How to handle singly-occupied orbitals in the active space. The singly-occupied orbitals are projected as part of alpha orbitals if False (default), or completely kept in active space if True. \n",
    "- `freeze_half_filled` – If True, all half-filled orbitals (if present) are frozen, i.e. excluded from the AVAS transformation and from the active space.\n",
    "\n",
    "The reference AO basis for the virtual orbitals is always the computational basis, in contrast to original AVAS but as in the [RE method.](https://dx.doi.org/10.1021/acs.jpclett.0c03274)\n",
    "\n",
    "For the Fe$_4$N$_2$ cluster if one constructs the active space from (partially) filled Fe d orbitals and the N-N occupied and virtual orbitals, no excitations from Fe 3d to N-N $\\sigma$ or $\\pi$ orbitals are found in the CI wavefunction. We have also separately verified that excitations from the occupied N-N orbitals to the empty Fe-3d orbitals do not contribute. This means that the excitations in the Fe d manifold and in the N-N bond are not coupled and that a reduced active space can be created consisting of orbitals of the dinitrogen system and selected Fe orbitals interacting with it, i.e. excluding all half-filled 3d-like orbitals on Fe.\n",
    "\n",
    "Here, we directly specify the number of localized occupied orbitals (`n_occ`) and the number of localized virtual orbitals (`n_vir`). Our selection of the occupied and virtual orbitals is influenced by the available computational resources. In this particular problem, we opt for a compact (4,3) active space, which is well-suited for the upcoming quantum calculations involving 6 qubits.\n",
    "\n",
    "Alternatively, it is also possible to define the values of `threshold` and `threshold_vir`. These represent the truncation thresholds for the AO-projector, above which atomic orbitals (AOs) are retained within the active space for occupied and virtual orbitals, respectively."
   ]
  },
  {
   "cell_type": "code",
   "execution_count": null,
   "id": "9ce135b4-85c8-419d-83b2-36a9d6f3e4ad",
   "metadata": {},
   "outputs": [],
   "source": [
    "from inquanto.extensions.pyscf import AVAS\n",
    "\n",
    "ao_pattern = ['N 2p']\n",
    "ao_pattern_vir = ['N 2p', 'Fe 3d']\n",
    "avas = AVAS(aolabels=ao_pattern, aolabels_vir=ao_pattern_vir, \n",
    "            n_occ=2, n_vir=1,force_halves_active=False, \n",
    "            freeze_half_filled=True, verbose=verbose)\n"
   ]
  },
  {
   "cell_type": "markdown",
   "id": "86bb837c-a861-4144-a871-2ccffccc7e90",
   "metadata": {},
   "source": [
    "We can now create a fresh InQuanto Hamiltonian object using the active space we have defined with AVAS.\n",
    "\n",
    "Parameters used:\n",
    "\n",
    "- `frozen`  – Frozen orbital information.\n",
    "- `transf`  – Orbital transformer."
   ]
  },
  {
   "cell_type": "code",
   "execution_count": null,
   "id": "0a26cc06-73ed-4ab6-ace4-ccb65093d093",
   "metadata": {},
   "outputs": [],
   "source": [
    "driver_AVAS = ChemistryDriverPySCFMolecularROHF(geometry=geometry, basis=basis, ecp=ecp,charge=charge, \n",
    "                                                multiplicity=multiplicity, point_group_symmetry=point_group_symmetry, \n",
    "                                                soscf=True, transf=avas, frozen=avas.frozenf, verbose=verbose)"
   ]
  },
  {
   "cell_type": "markdown",
   "id": "12616d5a-fa64-4652-b1fd-1670dab51482",
   "metadata": {},
   "source": [
    "The next step involves performing CASSCF calculations. However, as these calculations tend to be more computationally intensive, it is prudent to visualize the selected active orbitals beforehand. Once more, we will utilize the NGLView visualizer for this purpose."
   ]
  },
  {
   "cell_type": "code",
   "execution_count": null,
   "id": "73f4423b-abaa-4296-99cb-1ec777d77de7",
   "metadata": {},
   "outputs": [],
   "source": [
    "orbital_cubes = driver_AVAS.get_cube_orbitals()\n",
    "orbitals = [visualizer.visualize_orbitals(orb,red_isolevel=-2.0, blue_isolevel=2.0) for orb in orbital_cubes]"
   ]
  },
  {
   "cell_type": "code",
   "execution_count": null,
   "id": "71e8b4ff-325e-4281-a66d-9cf5ffe6c29c",
   "metadata": {},
   "outputs": [],
   "source": [
    "#orbitals[0]"
   ]
  },
  {
   "cell_type": "markdown",
   "id": "13b9bdda",
   "metadata": {},
   "source": [
    "![2](_images/fe4n2_avas_1.png)"
   ]
  },
  {
   "cell_type": "code",
   "execution_count": null,
   "id": "f51b4cce-e9aa-4356-9115-f839213f90ed",
   "metadata": {},
   "outputs": [],
   "source": [
    "#orbitals[1]"
   ]
  },
  {
   "cell_type": "markdown",
   "id": "cee23912",
   "metadata": {},
   "source": [
    "![3](_images/fe4n2_avas_2.png)"
   ]
  },
  {
   "cell_type": "code",
   "execution_count": null,
   "id": "e80de73c-a540-4c5f-bcc0-b6747c76aa7e",
   "metadata": {},
   "outputs": [],
   "source": [
    "#orbitals[2]"
   ]
  },
  {
   "cell_type": "markdown",
   "id": "9ae9683f",
   "metadata": {},
   "source": [
    "![4](_images/fe4n2_avas_3.png)"
   ]
  },
  {
   "cell_type": "markdown",
   "id": "fbc608c5-6b03-4fe9-94b7-b4794d377c0b",
   "metadata": {},
   "source": [
    "For the CASSCF calculation, we will employ the most minimal strategy, which involves selecting orbitals (and electrons) around the Fermi level to match the user-specified number of orbitals and electrons. More information on running CASSCF with InQuanto-PySCF extension can be found [here.](https://docs.quantinuum.com/inquanto/api/extensions/inquanto-pyscf_api.html#inquanto.extensions.pyscf.CASSCF)\n",
    "\n",
    "In order to construct the Hamiltonian based on the CASSCF orbitals, it is necessary to create a new, final InQuanto Hamiltonian object. In this instance, we have employed 9 active spatial orbitals and 10 active electrons for the CASSCF calculation. This choice strikes a balance between obtaining an accurate representation of our system and conducting a calculation that does not demand excessive computational resources.\n",
    "\n",
    "Additionally, in this step we can analyze the configuration interaction (CI) coefficients by setting the `print_ci_coeff` parameter to True. This is very important in deciding the suitability of our chosen active space. Notably, only the first[0], second[1], and ninth[8] active orbitals are significantly active. We can visualize these orbitals using NGLView visualizer. It is important to avoid a scenario where only the d orbitals of the Fe atoms are active, as this would result in a state comprising an equal mixture of 6 configurations distinguished by the placement of electrons within the d orbitals. Expanding the active space to include the orbitals of the nitrogen atoms would lead to an overly large active space, involving a minimum of 10 spatial orbitals.\n",
    "\n",
    "There is not any standardized approach for selecting the atomic orbital (AO) labels and  the number of localized occupied and virtual orbitals. However, the choice depends on the system's characteristics and the allowable size of the active space. We can manipulate various attributes of the AVAS method to achieve the desired outcome, adapting it to the specific needs of the system.\n",
    "\n",
    "Parameters used:\n",
    "\n",
    "- `init_orbitals` – Initial orbital coefficients, can be from a different geometry.\n",
    "- `print_ci_coeff` –  If True, the determinants which have coefficients > ci_print_cutoff will be printed out.\n",
    "- `ci_print_cutoff` – Tolerance for printing CI coefficients.\n",
    "- `max_cycle` – Maximum number of CASSCF macroiterations"
   ]
  },
  {
   "cell_type": "code",
   "execution_count": null,
   "id": "9099e4d4-4b47-4499-8abb-5d8630c0428b",
   "metadata": {},
   "outputs": [
    {
     "name": "stdout",
     "output_type": "stream",
     "text": [
      "** Largest CI components **\n",
      "  [alpha occ-orbitals] [beta occ-orbitals] CI coefficient\n",
      "   [0 1 2 3 4 5 6 7] [0 1] -0.914034639529\n",
      "   [0 1 2 3 4 5 6 7] [0 8] -0.087749343782\n",
      "   [0 1 2 4 5 6 7 8] [0 3] -0.109127674188\n",
      "   [0 1 3 4 5 6 7 8] [0 1] -0.033936544018\n",
      "   [0 1 3 4 5 6 7 8] [0 8] 0.039567732683\n",
      "   [0 2 3 4 5 6 7 8] [0 1] 0.089215434900\n",
      "   [0 2 3 4 5 6 7 8] [0 2] 0.083166002823\n",
      "   [0 2 3 4 5 6 7 8] [0 8] 0.342939298962\n",
      "   [1 2 3 4 5 6 7 8] [1 8] 0.054090558795\n"
     ]
    }
   ],
   "source": [
    "import numpy as np\n",
    "\n",
    "\n",
    "final_driver = ChemistryDriverPySCFMolecularROHF(geometry=geometry, basis=basis, ecp=ecp,charge=charge, \n",
    "                                                multiplicity=multiplicity, point_group_symmetry=point_group_symmetry, \n",
    "                                                soscf=True, verbose=verbose, frozen=avas.frozenf,\n",
    "                                                transf=CASSCF(9, 10, init_orbitals=driver_AVAS.get_orbital_coefficients(),\n",
    "                                                print_ci_coeff=True, ci_print_cutoff=0.03, max_cycle=100))\n",
    "\n",
    "hamiltonian, space, state = final_driver.get_system()\n",
    "\n",
    "qubit_hamiltonian = hamiltonian.qubit_encode()"
   ]
  },
  {
   "cell_type": "markdown",
   "id": "7aeaee96-2d8c-4bea-a9a5-615d81e2edae",
   "metadata": {},
   "source": [
    "Once more, we employ the NGLView visualizer to display the orbitals using our final InQuanto driver."
   ]
  },
  {
   "cell_type": "code",
   "execution_count": null,
   "id": "2b2066b1-49ec-4e65-9e85-1c8b012ca03e",
   "metadata": {},
   "outputs": [],
   "source": [
    "orbital_cubes_final = final_driver.get_cube_orbitals()\n",
    "orbitals_final = [visualizer.visualize_orbitals(orb,red_isolevel=-2.0, blue_isolevel=2.0) for orb in orbital_cubes_final]"
   ]
  },
  {
   "cell_type": "code",
   "execution_count": null,
   "id": "efc92fae-89ca-4518-b445-d29aee48dd9e",
   "metadata": {},
   "outputs": [],
   "source": [
    "#orbitals_final[0]"
   ]
  },
  {
   "cell_type": "markdown",
   "id": "02456b86",
   "metadata": {},
   "source": [
    "![5](_images/fe4n2_casscf_1.png)"
   ]
  },
  {
   "cell_type": "code",
   "execution_count": null,
   "id": "5d211d05-0f35-4df2-b26a-ea65eb9e78b1",
   "metadata": {},
   "outputs": [],
   "source": [
    "#orbitals_final[1]"
   ]
  },
  {
   "cell_type": "markdown",
   "id": "4cbac9c4",
   "metadata": {},
   "source": [
    "![6](_images/fe4n2_casscf_2.png)"
   ]
  },
  {
   "cell_type": "code",
   "execution_count": null,
   "id": "819bc9ba-5bb5-43c7-8c48-92bdf031d0ee",
   "metadata": {},
   "outputs": [],
   "source": [
    "#orbitals_final[2]"
   ]
  },
  {
   "cell_type": "markdown",
   "id": "f33ee459",
   "metadata": {},
   "source": [
    "![7](_images/fe4n2_casscf_3.png)"
   ]
  },
  {
   "cell_type": "markdown",
   "id": "cd6e3890",
   "metadata": {},
   "source": [
    "Once the space and state are defined, we can utilize the `print_state` method to showcase the fermionic state and verify the number of qubits required for the quantum calculations."
   ]
  },
  {
   "cell_type": "code",
   "execution_count": null,
   "id": "9d0e0007",
   "metadata": {},
   "outputs": [
    {
     "name": "stdout",
     "output_type": "stream",
     "text": [
      " 0 0a         :  1    \n",
      " 1 0b         :  1    \n",
      " 2 1a         :  1    \n",
      " 3 1b         :  1    \n",
      " 4 2a         :  0    \n",
      " 5 2b         :  0    \n"
     ]
    }
   ],
   "source": [
    "space.print_state(state)"
   ]
  },
  {
   "cell_type": "markdown",
   "id": "d533cb3f-6ef1-4ccc-8c70-79d760dd459a",
   "metadata": {},
   "source": [
    "As a final step, we can pickle the qubit Hamiltonian, space and state making it convenient for us to import and utilize them in the [second part](InQ_tut_fe4n2_2.ipynb) of this tutorial. "
   ]
  },
  {
   "cell_type": "code",
   "execution_count": null,
   "id": "2cde4820-e54f-4075-a050-9485d686a234",
   "metadata": {},
   "outputs": [],
   "source": [
    "import pickle\n",
    "\n",
    "with open('InQ_tut_fe4n2_space.pickle', 'wb') as handle:\n",
    "    pickle.dump(space, handle, protocol=pickle.HIGHEST_PROTOCOL)\n",
    "\n",
    "with open('InQ_tut_fe4n2_state.pickle', 'wb') as handle:\n",
    "    pickle.dump(state, handle, protocol=pickle.HIGHEST_PROTOCOL)\n",
    "    \n",
    "with open('InQ_tut_fe4n2_qubit_hamiltonian.pickle', 'wb') as handle:\n",
    "    pickle.dump(qubit_hamiltonian, handle, protocol=pickle.HIGHEST_PROTOCOL)    "
   ]
  }
 ],
 "metadata": {
  "kernelspec": {
   "display_name": "Python 3 (ipykernel)",
   "language": "python",
   "name": "python3"
  },
  "language_info": {
   "codemirror_mode": {
    "name": "ipython",
    "version": 3
   },
   "file_extension": ".py",
   "mimetype": "text/x-python",
   "name": "python",
   "nbconvert_exporter": "python",
   "pygments_lexer": "ipython3",
   "version": "3.11.0"
  }
 },
 "nbformat": 4,
 "nbformat_minor": 5
}
