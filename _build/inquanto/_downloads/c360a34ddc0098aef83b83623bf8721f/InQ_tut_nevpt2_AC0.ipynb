{
 "cells": [
  {
   "cell_type": "markdown",
   "id": "591b1b36-67ed-4f01-a3b7-d583890e022c",
   "metadata": {},
   "source": [
    "NEVPT2 and AC0 energy corrections\n",
    "=========================================================="
   ]
  },
  {
   "cell_type": "markdown",
   "id": "9db1dc4f-3aa5-4e00-b7d7-6ddfc3930788",
   "metadata": {},
   "source": [
    "In this tutorial, we will explore the use of NEVPT2 (N-electron valence state perturbation theory with second-order approximations) as a perturbation theory approach that can be used to improve the accuracy of our electronic structure calculations beyond the mean-field methods like Hartree-Fock or density functional theory (DFT) when running quantum computations. Our focus will be on the Li$_2$ system, which presents a higher level of complexity compared to the H$_2$ molecule while still maintaining a reasonable level of simplicity."
   ]
  },
  {
   "cell_type": "markdown",
   "id": "9e884b4d-e42a-4f40-974b-0b1095a9b327",
   "metadata": {},
   "source": [
    "A novel approach that combines quantum and classical methods for strongly contracted N-electron Valence State 2nd-order Perturbation Theory (SC-NEVPT2) is implemented in InQuanto. In this method, the static correlation effects typically handled by the Complete Active Space Configuration Interaction (CASCI) step are replaced by quantum computer simulations. Specifically, we use a quantum computer to measure n-particle Reduced Density Matrices (n-RDMs), and these measurements are then employed in a classical SC-NEVPT2 calculation to approximate the remaining dynamic electron correlation effects. Additionally, we explore the application of the cumulant expansion to either approximate the entire 4-RDM matrix or only its zero elements. This work not only showcases noiseless state-vector quantum simulations but also marks the first instance of a hybrid quantum-classical calculation for multi-reference perturbation theory, with the quantum component executed on a quantum computer. \n",
    "\n",
    "\n",
    "The flowchart depicted below provides a concise overview of this approach, with the \"State preparation\" step in the current implementation being handled by the Variational Quantum Eigensolver (VQE). For further details and comprehensive information about this approach, see [Krompiec & Muñoz Ramo (2022)](https://arxiv.org/pdf/2210.05702.pdf).\n",
    "\n",
    "<img src=\"_images/nevpt2.png\" width=\"600\">\n",
    "\n",
    "As an alternative approach, we can calculate the energy's AC0 correction using the provided density matrices. Here, one- and two-particle reduced density matrices are employed to account for electron correlation effects. The AC-CAS (Adiabatic Connection Construction and Extended Random Phase Approximation for Complete Active Space Wave Functions) is a computational method within the field of quantum chemistry employed to investigate the electronic structure and properties of molecular systems. This method combines two crucial techniques: the adiabatic connection (AC) method and the complete active space (CAS) approach, along with the extended random phase approximation.\n",
    "\n",
    "In this context, we have utilized the AC0-CAS method, known as the First-Order Expansion of the AC Integrand at α = 0. Starting with α = 0 essentially means beginning with the simplest form of the system, which corresponds to the reference system with non-interacting electrons. Subsequently, electron-electron interactions are introduced perturbatively, taking into account only the first-order effects. This approach is commonly employed in quantum chemistry to make calculations more manageable while still capturing some degree of electron correlation. AC0-CAS proves particularly valuable in striking a balance between computational efficiency and accuracy in electronic structure calculations. While it may not encompass the full spectrum of electron correlation effects, it can still yield reasonably accurate results for a broad range of molecular systems. Further information on the AC0 correction can be found in [Pastorczak & Pernal (2018)](https://pubs.acs.org/doi/10.1021/acs.jctc.8b00213).\n",
    "\n",
    "\n",
    "The following steps outline the process:\n",
    "\n",
    "- Define the system\n",
    "- Compute the NEVPT2 correction to the energy using RDMs from VQE\n",
    "- Compute the NEVPT2 correction to the energy using RDMs from CASCI\n",
    "- Compute the AC0 correction to the energy "
   ]
  },
  {
   "cell_type": "markdown",
   "id": "80cb016c-5946-420d-91b2-7a8206589214",
   "metadata": {},
   "source": [
    "The first step is to run Hartree-Fock (HF) calculations and in our case restricted Hartree-Fock (RHF) with the 6-31G `basis` set. We use an InQuanto-PySCF driver to perform the molecular RHF calculations, and store the resulting Hamiltonian after it is qubit encoded.\n",
    "\n",
    "Parameters used:\n",
    "\n",
    "`geometry` – Molecular geometry.\n",
    "\n",
    "`basis` – Atomic basis set valid for Mole class.\n",
    "\n",
    "`charge`  – Total charge.\n",
    "\n",
    "`transf`  – Orbital transformer.\n",
    "\n",
    "`frozen`  – Frozen orbital information.\n",
    "\n",
    "`point_group_symmetry`  – Enable point group symmetry.\n",
    "\n",
    "`verbose` – Control PySCF verbosity.\n",
    "\n",
    "\n",
    "The `FromActiveSpace` function aids in determining the frozen orbital list based on the information provided about the active space. In this context, `ncas` represents the number of active orbitals, and `nelecas` represents the number of active electrons. In this case, we have opted to perform postprocessing of orbitals using the Complete Active Space Self-Consistent Field (CASSCF) method to construct molecular integrals. We pass two key parameters, `ncas` (the number of active spatial orbitals) and `nelecas` (the number of active electrons), to `pyscf.mcscf.CASSCF`. This approach allows us to effectively utilize the CASSCF method for the subsequent steps involving molecular integrals."
   ]
  },
  {
   "cell_type": "code",
   "execution_count": null,
   "id": "57d33783-a26a-497c-b4fd-eeab11e88d98",
   "metadata": {},
   "outputs": [
    {
     "data": {
      "text/plain": [
       "-14.864996327400355"
      ]
     },
     "execution_count": null,
     "metadata": {},
     "output_type": "execute_result"
    }
   ],
   "source": [
    "import warnings\n",
    "warnings.filterwarnings('ignore')\n",
    "\n",
    "from inquanto.extensions.pyscf import ChemistryDriverPySCFMolecularRHF, CASSCF, FromActiveSpace\n",
    "\n",
    "geometry = [[\"Li\", [0.0, 0.0, 0.0]], [\"Li\", [2.63, 0.0, 0.0]]]\n",
    "\n",
    "ncas, nelecas = 4, 2\n",
    "driver = ChemistryDriverPySCFMolecularRHF(\n",
    "    basis=\"6-31G\",\n",
    "    charge=0,\n",
    "    geometry=geometry,\n",
    "    transf=CASSCF(ncas, nelecas),\n",
    "    frozen=FromActiveSpace(ncas, nelecas),\n",
    "    point_group_symmetry=True,\n",
    "    verbose=0,\n",
    ")\n",
    "\n",
    "driver.run_hf()"
   ]
  },
  {
   "cell_type": "markdown",
   "id": "7afe2952-3ae7-44e0-8f2b-f05aaed0d3f4",
   "metadata": {},
   "source": [
    "The `get_system` function is responsible for computing the fermionic Hamiltonian operator, Fock space, and Hartree Fock state. The `qubit_encode` function carries out qubit encoding, utilizing the mapping class associated with the current integral operator. The default mapping is Jordan-Wigner (used throughout this tutorial). "
   ]
  },
  {
   "cell_type": "code",
   "execution_count": null,
   "id": "e9d45dfd-04b5-4fc6-9d07-dc3b9e1a5426",
   "metadata": {},
   "outputs": [],
   "source": [
    "chemistry_hamiltonian, space, state = driver.get_system()\n",
    "qubit_hamiltonian = chemistry_hamiltonian.qubit_encode()"
   ]
  },
  {
   "cell_type": "markdown",
   "id": "bc3fd099-ac0f-442e-99e2-0e6b27b47a2e",
   "metadata": {},
   "source": [
    "To construct our ansatz for the specified fermion space and fermion state, we have employed the Chemically Aware Unitary Coupled Cluster with singles and doubles excitations (UCCSD)."
   ]
  },
  {
   "cell_type": "code",
   "execution_count": null,
   "id": "5587e878-e1e2-4fef-a1a8-7de8d1504328",
   "metadata": {},
   "outputs": [],
   "source": [
    "from inquanto.ansatzes import FermionSpaceAnsatzChemicallyAwareUCCSD\n",
    "\n",
    "ansatz = FermionSpaceAnsatzChemicallyAwareUCCSD(space, state)"
   ]
  },
  {
   "cell_type": "markdown",
   "id": "0e0704d7-9ba9-4769-9a92-246dfbc17728",
   "metadata": {},
   "source": [
    "Here, we conduct a simple VQE experiment to determine the ground state energy of our system. For a more comprehensive guide on performing VQE calculations using InQuanto on quantum computers, we recommend referring to the [ VQE tutorial.](InQ_tut_vqe_1.ipynb) To define where the computation is performed we set the `backend` to `AerStateBackend()`."
   ]
  },
  {
   "cell_type": "code",
   "execution_count": null,
   "id": "011e0570-7087-4b7a-b6c2-8ce25d650826",
   "metadata": {},
   "outputs": [
    {
     "name": "stdout",
     "output_type": "stream",
     "text": [
      "# TIMER BLOCK-1 BEGINS AT 2024-02-15 19:05:04.004600\n",
      "# TIMER BLOCK-1 ENDS - DURATION (s):  0.6568890 [0:00:00.656889]\n"
     ]
    }
   ],
   "source": [
    "from pytket.extensions.qiskit import AerStateBackend\n",
    "from inquanto.express import run_vqe\n",
    "from inquanto.minimizers import MinimizerRotosolve\n",
    "\n",
    "backend = AerStateBackend()\n",
    "\n",
    "vqe = run_vqe(\n",
    "    ansatz,\n",
    "    qubit_hamiltonian,\n",
    "    backend=backend,\n",
    "    with_gradient=False,\n",
    "    minimizer=MinimizerRotosolve(),\n",
    ")"
   ]
  },
  {
   "cell_type": "markdown",
   "id": "f83269da-84ce-4c47-aca5-a0985457a17d",
   "metadata": {},
   "source": [
    "The InQuanto `inquanto.spaces.QubitSpace.symmetry_operators_z2` function is employed to retrieve a list of symmetry operators applicable to our system. These symmetry operators are associated with the point group, spin parity, and particle number parity $\\mathbb{Z}_2$ symmetries that uphold a specific symmetry sector."
   ]
  },
  {
   "cell_type": "code",
   "execution_count": null,
   "id": "5dd94bc1-a59c-4ee4-b91f-9c47dd738287",
   "metadata": {},
   "outputs": [],
   "source": [
    "from inquanto.spaces import QubitSpace\n",
    "\n",
    "symmetry_operators = QubitSpace(space.n_spin_orb).symmetry_operators_z2(\n",
    "    qubit_hamiltonian\n",
    ")"
   ]
  },
  {
   "cell_type": "markdown",
   "id": "a93ae669-0b1f-467c-96bf-258e73a97fc5",
   "metadata": {},
   "source": [
    "The NEVPT2 implementation in PySCF, which is used in InQuanto, utilizes Pre-Density Matrices (PDMs). These PDMs are defined using the same creation and annihilation operators as the corresponding Reduced Density Matrices (RDMs), but they are applied in a different order. The class `inquanto.computables.composite.PDM1234RealComputable` computes the 1st, 2nd, 3rd, and 4th PDMs for a specific state, as determined by the provided ansatz and parameters.\n",
    "\n",
    "Parameters used:\n",
    "\n",
    "`space` – Fermion occupation space spanned by this RDM.\n",
    "\n",
    "`ansatz` – Ansatz state with respect to which expectation values are computed.\n",
    "\n",
    "`encoding`  – Fermion to qubit mapping.\n",
    "\n",
    "`symmetry_operators` – $\\mathbb{Z}_2$ symmetries of the Hamiltonian.\n",
    "\n",
    "`cas_elec` – Number of active electrons.\n",
    "\n",
    "`cas_orbs` – Number of active orbitals.\n",
    "\n",
    "\n",
    "The computation of the 4-RDM can be computationally expensive. Therefore, for chemical systems with more than 3 active electrons (where the 4-RDM is non-negligible), we estimate the 4-PDM using the cumulant expansion approximation. This approximation is set by the class parameter `cu4`, which is `True` by default. If this parameter is set to `False`, the 4-PDM is directly computed. For further insights into the impact of this approximation on both computational cost and accuracy, please refer to [Krompiec & Muñoz Ramo (2022)](https://arxiv.org/pdf/2210.05702.pdf)."
   ]
  },
  {
   "cell_type": "code",
   "execution_count": null,
   "id": "9e1c7f19-e406-4466-bfa9-c4a0aa353c6f",
   "metadata": {},
   "outputs": [],
   "source": [
    "from inquanto.computables.composite import PDM1234RealComputable\n",
    "from inquanto.mappings import QubitMappingJordanWigner\n",
    "\n",
    "pdm_computables = PDM1234RealComputable(\n",
    "    space=space,\n",
    "    ansatz=ansatz,\n",
    "    encoding=QubitMappingJordanWigner(),\n",
    "    symmetry_operators=symmetry_operators,\n",
    "    cas_elec=nelecas,\n",
    "    cas_orbs=ncas,\n",
    ")"
   ]
  },
  {
   "cell_type": "markdown",
   "id": "58248741-f6e6-434b-982a-a3183021f8e3",
   "metadata": {},
   "source": [
    "Subsequently, the evaluation PDMs is carried out using the `inquanto.protocols.SparseStatevectorProtocol` class, which is designed for sparse statevector calculations while utilizing caching. The `get_evaluator` method is employed to generate and provide a function (evaluator) that receives a specific quantum computable and computes it based on its type. "
   ]
  },
  {
   "cell_type": "code",
   "execution_count": null,
   "id": "58a37e1f-776b-47ca-a8bd-aa2f83126387",
   "metadata": {},
   "outputs": [],
   "source": [
    "from inquanto.protocols import SparseStatevectorProtocol\n",
    "\n",
    "pdms = pdm_computables.evaluate(\n",
    "    SparseStatevectorProtocol(backend).get_evaluator(vqe.final_parameters)\n",
    ")"
   ]
  },
  {
   "cell_type": "markdown",
   "id": "1b12faa7-c2c5-4f57-94bb-b51181899c0f",
   "metadata": {},
   "source": [
    "Finally, the `get_nevpt2_correction` function is employed to calculate the strongly contracted NEVPT2 correction to the energy using the provided density matrices."
   ]
  },
  {
   "cell_type": "code",
   "execution_count": null,
   "id": "8d5e1b5d-0410-4a5d-9498-ce7c44bf082f",
   "metadata": {},
   "outputs": [],
   "source": [
    "nevpt2_energy = driver.get_nevpt2_correction(pdms)"
   ]
  },
  {
   "cell_type": "markdown",
   "id": "5d126e12-197f-4234-80fb-d862b65bc207",
   "metadata": {},
   "source": [
    "In a similar way, using the same driver, we can calculate the AC0 energy correction, but this time we will make use of the `inquanto.computables.composite.SpinlessNBodyRDMArrayRealComputable` class which calculates a general n-body RDM $\\Gamma_{n...m}^{i...j} = \\left \\langle \\Psi_0 \\left | \\hat{E}_{n...m}^{i...j} \\right |\\Psi_0  \\right \\rangle$ where $\\hat{E}_{n...m}^{i...j}$ is a spin-traced excitation operator.\n",
    "For example, in the one-body case this is:\n",
    "$$\n",
    "\\hat{E}^{p}_{q} = \\hat{a}^{\\dagger}_{p\\uparrow}\\hat{a}_{q\\uparrow}+\n",
    "    \\hat{a}^{\\dagger}_{p\\downarrow}\\hat{a}_{q\\downarrow}\n",
    "$$\n",
    "\n",
    "And in the two-body case:\n",
    "\n",
    "$$\n",
    "\\hat{E}^{pr}_{qs}=\n",
    "    \\hat{a}^{\\dagger}_{p\\uparrow}\\hat{a}^{\\dagger}_{r\\uparrow}\\hat{a}_{s\\uparrow}\\hat{a}_{q\\uparrow}\n",
    "    +\\hat{a}^{\\dagger}_{p\\uparrow}\\hat{a}^{\\dagger}_{r\\downarrow}\\hat{a}_{s\\downarrow}\\hat{a}_{q\\uparrow}\n",
    "    +\\hat{a}^{\\dagger}_{p\\downarrow}\\hat{a}^{\\dagger}_{r\\uparrow}\\hat{a}_{s\\uparrow}\\hat{a}_{q\\downarrow}\n",
    "    +\\hat{a}^{\\dagger}_{p\\downarrow}\\hat{a}^{\\dagger}_{r\\downarrow}\\hat{a}_{s\\downarrow}\\hat{a}_{q\\downarrow}\n",
    "$$\n",
    "\n",
    "Spin-traced 1-RDM and 2-RDM refer to reduced density matrices where the electron spin degrees of freedom have been summed over or \"traced out.\" This is done to obtain the spatial (orbital) electronic density matrices, which describe the distribution of electrons in terms of their spatial coordinates or orbitals, while ignoring their spin states.\n",
    "\n",
    "Parameters used:\n",
    "\n",
    "`n` – Rank of the spin-traced RDM (n-RDM).\n",
    "\n",
    "`fermion_space` – Fermion space where the operators are defined.\n",
    "\n",
    "`ansatz` – Ansatz with respect to which the expectation values are computed.\n",
    "\n",
    "`encoding` – Qubit encoding from fermion space to qubit space.\n",
    "\n",
    "`symmetry_operators` – List of $\\mathbb{Z}_2$ symmetries of the Hamiltonian.\n",
    "\n",
    "`taperer` – Optional taperer object.\n",
    "\n",
    "The `inquanto.protocols.SparseStatevectorProtocol` class and its `get_evaluator` method are utilized in the same way as previously."
   ]
  },
  {
   "cell_type": "code",
   "execution_count": null,
   "id": "b57f372f-bfde-45a1-90e7-5cb9cf59aaab",
   "metadata": {},
   "outputs": [],
   "source": [
    "from inquanto.computables.composite import SpinlessNBodyRDMArrayRealComputable\n",
    "from inquanto.computables import ComputableList\n",
    "\n",
    "rdm_computable = ComputableList(\n",
    "    [\n",
    "        SpinlessNBodyRDMArrayRealComputable(\n",
    "            n=n,\n",
    "            fermion_space=space,\n",
    "            ansatz=ansatz,\n",
    "            encoding=QubitMappingJordanWigner(),\n",
    "            symmetry_operators=symmetry_operators,\n",
    "            taperer=None,\n",
    "        )\n",
    "        for n in (1, 2)\n",
    "    ]\n",
    ")\n",
    "rdm_computed = rdm_computable.evaluate(\n",
    "    SparseStatevectorProtocol(backend).get_evaluator(vqe.final_parameters)\n",
    ")\n",
    "\n",
    "dm1 = rdm_computed[0]\n",
    "dm2 = rdm_computed[1]"
   ]
  },
  {
   "cell_type": "markdown",
   "id": "b49ed4ad-d2c8-4086-9ac4-bd0f6358f793",
   "metadata": {},
   "source": [
    "The `get_ac0_correction` function is employed to compute the AC0 correction to the energy from the provided density matrices."
   ]
  },
  {
   "cell_type": "code",
   "execution_count": null,
   "id": "3f9d51b8-8bff-4ddb-a3d0-0bc24b0b71f7",
   "metadata": {},
   "outputs": [],
   "source": [
    "ac0_energy = driver.get_ac0_correction((dm1, dm2))"
   ]
  },
  {
   "cell_type": "markdown",
   "id": "39c65e30-23fc-49e6-b50c-2aaaa0d1f6b2",
   "metadata": {},
   "source": [
    "We can now compare the various energy results."
   ]
  },
  {
   "cell_type": "markdown",
   "id": "32964b90-43f4-4056-a68b-f5ea8a534b1b",
   "metadata": {},
   "source": [
    "An alternative approach would be to perform CASSCF calculations to obtain the PDMs and RDMs. In this process, we initially compute the PDMs by executing the CASSCF calculation using the PySCF package. For additional details, you can refer to the relevant PySCF [documentation](https://pyscf.org/user/mcscf.html). Following this, our RHF InQuanto driver has been created and the HF orbital coefficients have been replaced with those obtained from the CASSCF calculation in order to improve the description of the orbitals and enhance the representation of the system."
   ]
  },
  {
   "cell_type": "code",
   "execution_count": null,
   "id": "da929c62-cab1-4712-b0c8-b482b8c1a98f",
   "metadata": {},
   "outputs": [
    {
     "name": "stdout",
     "output_type": "stream",
     "text": [
      "converged SCF energy = -14.8652654987828\n",
      "CASSCF energy = -14.8887816132799\n",
      "CASCI E = -14.8887816132799  E(CI) = -0.619242398867161  S^2 = 0.0000000\n"
     ]
    }
   ],
   "source": [
    "from pyscf import gto, scf, fci, mcscf\n",
    "\n",
    "mf = gto.M(atom=geometry, basis=\"6-31g\").apply(scf.RHF).run()\n",
    "mc = mcscf.CASSCF(mf, ncas, nelecas )\n",
    "mc.run()\n",
    "mf.mo_coeff=mc.mo_coeff\n",
    "(pdm1, pdm2, pdm3, pdm4) = fci.rdm.make_dm1234(\n",
    "    \"FCI4pdm_kern_sf\", mc.ci, mc.ci, ncas, nelecas\n",
    ")\n",
    "\n",
    "driver_casscf = ChemistryDriverPySCFMolecularRHF.from_mf(\n",
    "    mf, frozen=FromActiveSpace(ncas, nelecas)(mf)\n",
    ")"
   ]
  },
  {
   "cell_type": "markdown",
   "id": "1c153098-62e7-4a45-a898-f6c4f4ca7221",
   "metadata": {},
   "source": [
    "We can once again employ the `get_nevpt2_correction` function to compute the strongly contracted NEVPT2 correction to the energy."
   ]
  },
  {
   "cell_type": "code",
   "execution_count": null,
   "id": "39ed7daf-e5b0-413e-a466-c4fa98c70be7",
   "metadata": {},
   "outputs": [
    {
     "name": "stdout",
     "output_type": "stream",
     "text": [
      "Sr    (-1)',   E = 0.00000000000063\n",
      "Si    (+1)',   E = -0.00001592230223\n",
      "Sijrs (0)  ,   E = -0.00022778404137\n",
      "Sijr  (+1) ,   E = -0.00007024183793\n",
      "Srsi  (-1) ,   E = -0.00023752538838\n",
      "Srs   (-2) ,   E = -0.00127421582345\n",
      "Sij   (+2) ,   E = -0.00002668012481\n",
      "Sir   (0)' ,   E = -0.00013325632488\n",
      "Nevpt2 Energy = -0.001985625842400\n"
     ]
    }
   ],
   "source": [
    "nevpt2_energy_casscf = driver_casscf.get_nevpt2_correction(rdms=(pdm1, pdm2, pdm3, pdm4))"
   ]
  },
  {
   "cell_type": "markdown",
   "id": "6ef2f597-ee9b-4a16-9d8c-e4d0edbe9c10",
   "metadata": {},
   "source": [
    "The `make_dm1234` function in PySCF calculates the PDMs, which do not directly correspond to the 1-, 2-, 3-, and 4-particle density matrices. The `reorder_dm12` function is then used to convert these PDMs into the actual 1- and 2-particle density matrices."
   ]
  },
  {
   "cell_type": "code",
   "execution_count": null,
   "id": "08aec24d-1ae4-456e-8783-8dd230332706",
   "metadata": {},
   "outputs": [],
   "source": [
    "rdm1, rdm2 = fci.rdm.reorder_dm12(pdm1, pdm2)\n",
    "\n",
    "ac0_energy_casscf = driver_casscf.get_ac0_correction((rdm1, rdm2))"
   ]
  },
  {
   "cell_type": "markdown",
   "id": "3915ef4d",
   "metadata": {},
   "source": [
    "As the final step, we can compare the ground-state energy results obtained using different methods."
   ]
  },
  {
   "cell_type": "code",
   "execution_count": null,
   "id": "00166991-d1b9-46e2-9889-e304f915b98f",
   "metadata": {},
   "outputs": [
    {
     "name": "stdout",
     "output_type": "stream",
     "text": [
      "VQE Energy: -14.888722 Ha\n",
      "VQE correction to HF: -0.023726 Ha\n",
      "NEVPT2 correction using VQE PDMs: -0.002049 Ha\n",
      "Total VQE+NEVPT2 energy: -14.890771 Ha\n",
      "NEVPT2 correction using CASSCF PDMs: -0.001986 Ha\n",
      "Total VQE+NEVPT2 energy: -14.890708 Ha\n",
      "AC0 correction using VQE PDMs: -0.003039 Ha\n",
      "Total VQE+AC0 energy: -14.891761 Ha\n",
      "AC0 correction using CASSCF PDMs: -0.002515 Ha\n",
      "Total VQE+AC0 energy: -14.891237 Ha\n"
     ]
    }
   ],
   "source": [
    "print(\"VQE Energy: {:.6f} Ha\".format(vqe.generate_report()[\"final_value\"]))\n",
    "print(\"VQE correction to HF: {:.6f} Ha\".format(vqe.generate_report()[\"final_value\"]-driver.run_hf()))\n",
    "\n",
    "print(\"NEVPT2 correction using VQE PDMs: {:.6f} Ha\".format(nevpt2_energy))\n",
    "print(\"Total VQE+NEVPT2 energy: {:.6f} Ha\".format(vqe.generate_report()[\"final_value\"]+nevpt2_energy))\n",
    "\n",
    "print(\"NEVPT2 correction using CASSCF PDMs: {:.6f} Ha\".format(nevpt2_energy_casscf))\n",
    "print(\"Total VQE+NEVPT2 energy: {:.6f} Ha\".format(vqe.generate_report()[\"final_value\"]+nevpt2_energy_casscf))\n",
    "\n",
    "\n",
    "print(\"AC0 correction using VQE PDMs: {:.6f} Ha\".format(ac0_energy))\n",
    "print(\"Total VQE+AC0 energy: {:.6f} Ha\".format(vqe.generate_report()[\"final_value\"]+ac0_energy))\n",
    "\n",
    "print(\"AC0 correction using CASSCF PDMs: {:.6f} Ha\".format(ac0_energy_casscf))\n",
    "print(\"Total VQE+AC0 energy: {:.6f} Ha\".format(vqe.generate_report()[\"final_value\"]+ac0_energy_casscf))"
   ]
  }
 ],
 "metadata": {
  "kernelspec": {
   "display_name": "Python 3 (ipykernel)",
   "language": "python",
   "name": "python3"
  },
  "language_info": {
   "codemirror_mode": {
    "name": "ipython",
    "version": 3
   },
   "file_extension": ".py",
   "mimetype": "text/x-python",
   "name": "python",
   "nbconvert_exporter": "python",
   "pygments_lexer": "ipython3",
   "version": "3.10.12"
  }
 },
 "nbformat": 4,
 "nbformat_minor": 5
}
