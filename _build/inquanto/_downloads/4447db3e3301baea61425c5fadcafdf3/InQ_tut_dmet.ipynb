{
 "cells": [
  {
   "attachments": {},
   "cell_type": "markdown",
   "id": "d29537f8-fd49-411a-a4bd-78d07c2f4044",
   "metadata": {},
   "source": [
    "Tackling larger systems with fragmentation\n",
    "===========================================\n",
    "\n",
    "In the [basic VQE](InQ_tut_vqe_1.ipynb) and [extended VQE](InQ_tut_vqe_2.ipynb) tutorials, we covered how to run a simple VQE calculation using InQuanto and some optimizations that can be performed.  Here, we look at using Density Matrix Embedding Theory (DMET) to examine a larger system by fragmenting it.  As an example, we consider HCOOH (formic acid).  Without considering symmetry or active space reductions, this system would require 34 qubits to simulate using an STO-3G basis.  This requires more resources than are available on current quantum computers, and will be extremely expensive to simulate on a classical device.\n",
    "\n",
    "DMET is a method of studying large molecules by partitioning the system into fragments containing a smaller number of atoms.  Each fragment is treated independently in a bath corresponding to the molecular environment.  Crucially, DMET allows for different fragments to be treated using different electronic structure methods.  For example, we could imagine using VQE on the quantum computer to treat one particular fragment of interest.  We focus here on a simplified implementation of DMET -- the so-called one-shot DMET. More examples are in the examples/embeddings folder. For discussion of the theory underpinning DMET, see [Knizia & Chan (2012)](https://journals.aps.org/prl/abstract/10.1103/PhysRevLett.109.186404).  As DMET relies heavily on performing classical electronic structure calculations in addition to any quantum computations, we need to import a driver and the fragment solvers from the `inquanto-pyscf` extension."
   ]
  },
  {
   "cell_type": "code",
   "execution_count": null,
   "id": "dfc0b93e-14ab-4cbf-b411-a2f2b16814c2",
   "metadata": {},
   "outputs": [
    {
     "name": "stderr",
     "output_type": "stream",
     "text": [
      "~/lib/python3.11/site-packages/pyscf/dft/libxc.py:771: UserWarning: Since PySCF-2.3, B3LYP (and B3P86) are changed to the VWN-RPA variant, corresponding to the original definition by Stephens et al. (issue 1480) and the same as the B3LYP functional in Gaussian. To restore the VWN5 definition, you can put the setting \"B3LYP_WITH_VWN5 = True\" in pyscf_conf.py\n",
      "  warnings.warn('Since PySCF-2.3, B3LYP (and B3P86) are changed to the VWN-RPA variant, '\n"
     ]
    }
   ],
   "source": [
    "from inquanto.geometries import GeometryMolecular\n",
    "from inquanto.embeddings import DMETRHF\n",
    "from inquanto.extensions.pyscf import ChemistryDriverPySCFMolecularRHF\n",
    "from inquanto.extensions.pyscf import DMETRHFFragmentPySCFCCSD, get_fragment_orbital_masks, get_fragment_orbitals\n",
    "from pytket.extensions.qiskit import AerStateBackend"
   ]
  },
  {
   "attachments": {},
   "cell_type": "markdown",
   "id": "be2e7a06-a884-4e37-9b21-d349055fca0c",
   "metadata": {},
   "source": [
    "In order to use DMET to study our system, we must choose a scheme to split the molecule into fragments.  In general, this is a task which requires chemical intuition and an awareness of the resource implications of the size of each fragment.  As our goal here is to perform a simulation that runs quickly (and not to obtain highly accurate results), we choose a very fine fragmentation scheme with several small fragments.\n",
    "\n",
    "![](_images/tutorial_3_formic.png)\n",
    "\n",
    "The above figure shows the fragmentation scheme graphically.  We see that other than the hydroxyl, each atom is in its own fragment.  This ensures that the maximum number of qubits required to simulate an individual fragment would be 12 (the hydroxyl fragment), a reasonable number of qubits to simulate on a large classical computer."
   ]
  },
  {
   "cell_type": "code",
   "execution_count": null,
   "id": "ba6b44d0-2ae6-4eb1-9396-283362f870a3",
   "metadata": {},
   "outputs": [],
   "source": [
    "# ################# #\n",
    "# MOLECULE & DRIVER #\n",
    "# ################# #\n",
    "\n",
    "xyz = [['C', [0.000, 0.442, 0.000]],\n",
    "            ['O', [-1.046, -0.467, 0.000]],\n",
    "            ['O', [1.171, 0.120, 0.000]],\n",
    "            ['H', [-0.389, 1.475, 0.000]],\n",
    "            ['H', [-0.609, -1.355, 0.000]]]\n",
    "\n",
    "geometry = GeometryMolecular(xyz)\n",
    "\n",
    "basis = 'sto-3g'\n",
    "charge = 0\n",
    "driver = ChemistryDriverPySCFMolecularRHF(basis='sto-3g',\n",
    "                                        geometry=geometry,\n",
    "                                              charge=0,\n",
    "                                              verbose=0)\n",
    "\n",
    "hamiltonian_operator, space, rdm1 = driver.get_lowdin_system()\n",
    "\n",
    "dmet = DMETRHF(hamiltonian_operator, rdm1)"
   ]
  },
  {
   "attachments": {},
   "cell_type": "markdown",
   "id": "0a40b1ef",
   "metadata": {},
   "source": [
    "As before, we first initialise the driver. The initialization of the driver is much the same as in standard VQE with regards to the molecule geometry, basis and charge specification.  However,  because of the spatial fragmentation, DMET requires the localisation of the molecular orbitals. Therefore, when we compute the Hamiltonian operator, instead of `get_system()` we call the `get_lowdin_system()` method. This will perform an RHF simulation of the molecule, and will return the mean-field 1e-RDM as `rdm1`, the `space` and the `hamiltonian_operator` in the Löwdin basis, that is computed by Löwdin symmetric orthogonalization of the atomic orbitals.\n",
    "\n",
    "Finally, we initialize the DMET method with the `hamiltonian_operator` and the `rdm1`.\n",
    "\n",
    "At this stage, we have not specified any particular fragmentation scheme.  Fragments in InQuanto are associated with the level of electronic structure theory that will be used to simulate them.  As a first test, we try specifying that each fragment should be treated with classical CCSD."
   ]
  },
  {
   "attachments": {},
   "cell_type": "markdown",
   "id": "c34f707e",
   "metadata": {},
   "source": [
    "In order to specify a fragment, we need to determine the corresponding Löwdin orbitals. The easiest way to specify the fragments is by atoms. Based on the indices in the `xyz` table, we can make four sets of atom indices, and using the `get_fragment_orbitals()` utility function we can tabulate the orbitals and the four orbital fragment masks that select the Löwdin orbitals corresponding to the fragments:"
   ]
  },
  {
   "cell_type": "code",
   "execution_count": null,
   "id": "2b4a747d",
   "metadata": {},
   "outputs": [
    {
     "data": {
      "text/html": [
       "<div>\n",
       "<style scoped>\n",
       "    .dataframe tbody tr th:only-of-type {\n",
       "        vertical-align: middle;\n",
       "    }\n",
       "\n",
       "    .dataframe tbody tr th {\n",
       "        vertical-align: top;\n",
       "    }\n",
       "\n",
       "    .dataframe thead th {\n",
       "        text-align: right;\n",
       "    }\n",
       "</style>\n",
       "<table border=\"1\" class=\"dataframe\">\n",
       "  <thead>\n",
       "    <tr style=\"text-align: right;\">\n",
       "      <th></th>\n",
       "      <th>0</th>\n",
       "      <th>1</th>\n",
       "      <th>2</th>\n",
       "      <th>3</th>\n",
       "      <th>4</th>\n",
       "    </tr>\n",
       "  </thead>\n",
       "  <tbody>\n",
       "    <tr>\n",
       "      <th>0</th>\n",
       "      <td>0 C 1s</td>\n",
       "      <td>True</td>\n",
       "      <td>False</td>\n",
       "      <td>False</td>\n",
       "      <td>False</td>\n",
       "    </tr>\n",
       "    <tr>\n",
       "      <th>1</th>\n",
       "      <td>0 C 2s</td>\n",
       "      <td>True</td>\n",
       "      <td>False</td>\n",
       "      <td>False</td>\n",
       "      <td>False</td>\n",
       "    </tr>\n",
       "    <tr>\n",
       "      <th>2</th>\n",
       "      <td>0 C 2px</td>\n",
       "      <td>True</td>\n",
       "      <td>False</td>\n",
       "      <td>False</td>\n",
       "      <td>False</td>\n",
       "    </tr>\n",
       "    <tr>\n",
       "      <th>3</th>\n",
       "      <td>0 C 2py</td>\n",
       "      <td>True</td>\n",
       "      <td>False</td>\n",
       "      <td>False</td>\n",
       "      <td>False</td>\n",
       "    </tr>\n",
       "    <tr>\n",
       "      <th>4</th>\n",
       "      <td>0 C 2pz</td>\n",
       "      <td>True</td>\n",
       "      <td>False</td>\n",
       "      <td>False</td>\n",
       "      <td>False</td>\n",
       "    </tr>\n",
       "    <tr>\n",
       "      <th>5</th>\n",
       "      <td>1 O 1s</td>\n",
       "      <td>False</td>\n",
       "      <td>False</td>\n",
       "      <td>True</td>\n",
       "      <td>False</td>\n",
       "    </tr>\n",
       "    <tr>\n",
       "      <th>6</th>\n",
       "      <td>1 O 2s</td>\n",
       "      <td>False</td>\n",
       "      <td>False</td>\n",
       "      <td>True</td>\n",
       "      <td>False</td>\n",
       "    </tr>\n",
       "    <tr>\n",
       "      <th>7</th>\n",
       "      <td>1 O 2px</td>\n",
       "      <td>False</td>\n",
       "      <td>False</td>\n",
       "      <td>True</td>\n",
       "      <td>False</td>\n",
       "    </tr>\n",
       "    <tr>\n",
       "      <th>8</th>\n",
       "      <td>1 O 2py</td>\n",
       "      <td>False</td>\n",
       "      <td>False</td>\n",
       "      <td>True</td>\n",
       "      <td>False</td>\n",
       "    </tr>\n",
       "    <tr>\n",
       "      <th>9</th>\n",
       "      <td>1 O 2pz</td>\n",
       "      <td>False</td>\n",
       "      <td>False</td>\n",
       "      <td>True</td>\n",
       "      <td>False</td>\n",
       "    </tr>\n",
       "    <tr>\n",
       "      <th>10</th>\n",
       "      <td>2 O 1s</td>\n",
       "      <td>False</td>\n",
       "      <td>True</td>\n",
       "      <td>False</td>\n",
       "      <td>False</td>\n",
       "    </tr>\n",
       "    <tr>\n",
       "      <th>11</th>\n",
       "      <td>2 O 2s</td>\n",
       "      <td>False</td>\n",
       "      <td>True</td>\n",
       "      <td>False</td>\n",
       "      <td>False</td>\n",
       "    </tr>\n",
       "    <tr>\n",
       "      <th>12</th>\n",
       "      <td>2 O 2px</td>\n",
       "      <td>False</td>\n",
       "      <td>True</td>\n",
       "      <td>False</td>\n",
       "      <td>False</td>\n",
       "    </tr>\n",
       "    <tr>\n",
       "      <th>13</th>\n",
       "      <td>2 O 2py</td>\n",
       "      <td>False</td>\n",
       "      <td>True</td>\n",
       "      <td>False</td>\n",
       "      <td>False</td>\n",
       "    </tr>\n",
       "    <tr>\n",
       "      <th>14</th>\n",
       "      <td>2 O 2pz</td>\n",
       "      <td>False</td>\n",
       "      <td>True</td>\n",
       "      <td>False</td>\n",
       "      <td>False</td>\n",
       "    </tr>\n",
       "    <tr>\n",
       "      <th>15</th>\n",
       "      <td>3 H 1s</td>\n",
       "      <td>False</td>\n",
       "      <td>False</td>\n",
       "      <td>False</td>\n",
       "      <td>True</td>\n",
       "    </tr>\n",
       "    <tr>\n",
       "      <th>16</th>\n",
       "      <td>4 H 1s</td>\n",
       "      <td>False</td>\n",
       "      <td>False</td>\n",
       "      <td>True</td>\n",
       "      <td>False</td>\n",
       "    </tr>\n",
       "  </tbody>\n",
       "</table>\n",
       "</div>"
      ],
      "text/plain": [
       "             0      1      2      3      4\n",
       "0   0 C 1s       True  False  False  False\n",
       "1   0 C 2s       True  False  False  False\n",
       "2   0 C 2px      True  False  False  False\n",
       "3   0 C 2py      True  False  False  False\n",
       "4   0 C 2pz      True  False  False  False\n",
       "5   1 O 1s      False  False   True  False\n",
       "6   1 O 2s      False  False   True  False\n",
       "7   1 O 2px     False  False   True  False\n",
       "8   1 O 2py     False  False   True  False\n",
       "9   1 O 2pz     False  False   True  False\n",
       "10  2 O 1s      False   True  False  False\n",
       "11  2 O 2s      False   True  False  False\n",
       "12  2 O 2px     False   True  False  False\n",
       "13  2 O 2py     False   True  False  False\n",
       "14  2 O 2pz     False   True  False  False\n",
       "15  3 H 1s      False  False  False   True\n",
       "16  4 H 1s      False  False   True  False"
      ]
     },
     "execution_count": null,
     "metadata": {},
     "output_type": "execute_result"
    }
   ],
   "source": [
    "get_fragment_orbitals(driver, [0], [2], [1, 4], [3])"
   ]
  },
  {
   "cell_type": "markdown",
   "id": "2bcf7d26",
   "metadata": {},
   "source": [
    "With another utility function `get_fragment_orbital_masks(...)` we can obtain the orbital fragment masks as arrays. Once we have the orbital masks we can complete the DMET simulation. "
   ]
  },
  {
   "cell_type": "code",
   "execution_count": null,
   "id": "a5cb88b2",
   "metadata": {},
   "outputs": [
    {
     "name": "stdout",
     "output_type": "stream",
     "text": [
      "# STARTING CHEMICAL POTENTIAL 0.0\n",
      "# STARTING CORR POTENTIAL PARAMETERS []\n",
      "\n",
      "# FULL SCF ITERATION 0\n",
      "# NEWTON ITERATION - CHEMICAL POTENTIAL 0.0\n",
      "# FRAGMENT 0 - C: <H>=-186.31338432615368  EFR=-58.83801802368312  Q=0.020105631085688636 \n",
      "# FRAGMENT 1 - O: <H>=-186.31338532077353  EFR=-94.07923540836005  Q=-0.08915722472857546 \n",
      "# FRAGMENT 2 - OH: <H>=-186.29269508290201  EFR=-98.21603860323467  Q=-0.07076155306003251 \n",
      "# FRAGMENT 3 - H: <H>=-186.23216575139472  EFR=-3.8054069201359595  Q=0.002986786186124024 \n",
      "# NEWTON ITERATION - CHEMICAL POTENTIAL 0.0001\n",
      "# FRAGMENT 0 - C: <H>=-186.31396619851338  EFR=-58.83898988857606  Q=0.020314471024403424 \n",
      "# FRAGMENT 1 - O: <H>=-186.31419656704082  EFR=-94.0797095185983  Q=-0.08903855658752668 \n",
      "# FRAGMENT 2 - OH: <H>=-186.29359289137557  EFR=-98.21647309737236  Q=-0.07064482022362562 \n",
      "# FRAGMENT 3 - H: <H>=-186.23226272837812  EFR=-3.805683950277535  Q=0.003066335733261094 \n",
      "# NEWTON ITERATION - CHEMICAL POTENTIAL 0.02612234664464692\n",
      "# FRAGMENT 0 - C: <H>=-186.4660997003911  EFR=-59.09129439130406  Q=0.07462903595820602 \n",
      "# FRAGMENT 1 - O: <H>=-186.52571212206996  EFR=-94.20327799731078  Q=-0.05804063711884311 \n",
      "# FRAGMENT 2 - OH: <H>=-186.52760819713768  EFR=-98.32803927524827  Q=-0.04067365994348471 \n",
      "# FRAGMENT 3 - H: <H>=-186.25776880475564  EFR=-3.8776501906423517  Q=0.023767280256090095 \n",
      "# NEWTON ITERATION - CHEMICAL POTENTIAL 0.02618319569991223\n",
      "# FRAGMENT 0 - C: <H>=-186.46645711276085  EFR=-59.091882980913326  Q=0.07475597327765104 \n",
      "# FRAGMENT 1 - O: <H>=-186.5262076771364  EFR=-94.203567426381  Q=-0.05796786917953156 \n",
      "# FRAGMENT 2 - OH: <H>=-186.52815629411148  EFR=-98.3282967036768  Q=-0.04060450873466159 \n",
      "# FRAGMENT 3 - H: <H>=-186.25782907787817  EFR=-3.877818167978842  Q=0.023815682210136968 \n",
      "# CHEMICAL POTENTIAL 0.02618333425876916\n",
      "# FINAL PARAMETERS: []\n",
      "# FINAL CHEMICAL POTENTIAL: 0.02618333425876916\n",
      "# FINAL ENERGY: -186.53116138512055\n"
     ]
    }
   ],
   "source": [
    "maskC, maskO, maskOH, maskH = get_fragment_orbital_masks(driver, [0], [2], [1, 4], [3])\n",
    "\n",
    "fragments = [DMETRHFFragmentPySCFCCSD(dmet, maskC, name=\"C\")]\n",
    "fragments += [DMETRHFFragmentPySCFCCSD(dmet, maskO, name=\"O\")]\n",
    "fragments += [DMETRHFFragmentPySCFCCSD(dmet, maskOH, name=\"OH\")]\n",
    "fragments += [DMETRHFFragmentPySCFCCSD(dmet, maskH, name=\"H\")]\n",
    "\n",
    "result = dmet.run(fragments)"
   ]
  },
  {
   "attachments": {},
   "cell_type": "markdown",
   "id": "9e4306ad",
   "metadata": {},
   "source": [
    "In the first block, we have specified our fragments as a list.  We use the `inquanto.extensions.pyscf.DMETRHFFragmentPySCFCCSD` class as we want to look at each fragment using classical coupled cluster.  Each fragment takes the `dmet` as an argument in addition to an arbitrary string giving the fragment name.  It also requires the masks for the orbitals within the fragment to be specified.  These are given as an array of booleans, marking the index of orbitals with `True` if it is in the fragment and `False` if it is outside it.\n",
    "\n",
    "The `dmet.run()` method is then invoked passing the fragments as a list.  During the execution we can observe details about the calculation.  The FINAL ENERGY line in the end gives us the final ground state energy of the system calculated by DMET."
   ]
  },
  {
   "cell_type": "code",
   "execution_count": null,
   "id": "ff55637a",
   "metadata": {},
   "outputs": [
    {
     "name": "stdout",
     "output_type": "stream",
     "text": [
      "REFERENCE MP2  ENERGY:  -186.37687192609545\n",
      "REFERENCE CCSD ENERGY:  -186.40300888507934\n"
     ]
    }
   ],
   "source": [
    "print(\"REFERENCE MP2  ENERGY: \", driver.run_mp2())\n",
    "print(\"REFERENCE CCSD ENERGY: \", driver.run_ccsd())"
   ]
  },
  {
   "attachments": {},
   "cell_type": "markdown",
   "id": "ecf371c9",
   "metadata": {},
   "source": [
    "As a reference we computed MP2 and CCSD energies.  We can see that in this instance DMET obtains about 0.13 Ha more correlation energy than non-DMET classical CCSD.  Although defeating the point of fragmenting the system to reduce resource requirements, benchmarking a DMET calculation with the same level of theory for each fragment against a non-DMET calculation is a good way to estimate the error incurred with the fragmentation scheme.  Note that DMET is non-variational and thus can yield energies lower than the exact (i.e. FCI-level) energy.\n",
    "\n",
    "DMET allows the use of different levels of theory for each fragment. By using the [examples](https://docs.quantinuum.com/inquanto/tutorials/examples_overview.html), we encourage the reader to modify this notebook such that some of the fragments (for example the lone hydrogen atom) are using the VQE method with a state vector simulator. "
   ]
  }
 ],
 "metadata": {
  "kernelspec": {
   "display_name": "Python 3 (ipykernel)",
   "language": "python",
   "name": "python3"
  },
  "language_info": {
   "codemirror_mode": {
    "name": "ipython",
    "version": 3
   },
   "file_extension": ".py",
   "mimetype": "text/x-python",
   "name": "python",
   "nbconvert_exporter": "python",
   "pygments_lexer": "ipython3"
  },
  "vscode": {
   "interpreter": {
    "hash": "8c3111bfa7f0acc1391da60dde72c076e045c3fb812f35cb00c5c968566ab511"
   }
  }
 },
 "nbformat": 4,
 "nbformat_minor": 5
}
