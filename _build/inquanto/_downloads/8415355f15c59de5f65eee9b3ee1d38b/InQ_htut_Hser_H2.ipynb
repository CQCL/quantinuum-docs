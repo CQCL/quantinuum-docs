{
 "cells": [
  {
   "cell_type": "markdown",
   "id": "083f9cb1-82a6-4147-8594-b32ff4dc9666",
   "metadata": {},
   "source": [
    "Running on Quantinuum H-Series \n",
    "==============================="
   ]
  },
  {
   "attachments": {},
   "cell_type": "markdown",
   "id": "60c1176b-3c18-414b-a031-420dd2526699",
   "metadata": {},
   "source": [
    "In this tutorial, we demonstrate how to perform a simple quantum chemical calculation on Quantinuum H-Series.\n",
    "\n",
    "Since this tutorial focuses on practical quantum computation, we will perform a simple calculation: the single point (i.e. not optimized/not variationally solved) total energy evaluation of the H2 molecule in the Unitary Coupled Cluster (UCC) ansatz for a set value of the ansatz variational parameter.\n",
    "\n",
    "This tutorial will require that you have access to Quantinuum backends, which can be obtained through your InQuanto administrator or contacting Quantinuum support. You will need credentials to run on a machine for a short time. For more information on Quantinuum H-Series and instructions on granting access (for administrators), see [Quantinuum H-Series page](quantinuum_hardware.rst).\n",
    "\n",
    "The steps below are such:\n",
    "\n",
    "- Define the system\n",
    "- Perform computation with emulated hardware noise  (QuantinuumBackend emulator + machine noise profile)\n",
    "- Demonstrate error mitigation methods on emulated hardware (PMSV)"
   ]
  },
  {
   "cell_type": "markdown",
   "id": "814ffcc8-65e2-4cc8-8714-290aac3c6431",
   "metadata": {},
   "source": [
    "### 1. Define the system "
   ]
  },
  {
   "cell_type": "code",
   "execution_count": null,
   "id": "7e89ef34-63f2-4877-a477-8722c3a9fc8e",
   "metadata": {},
   "outputs": [
    {
     "name": "stdout",
     "output_type": "stream",
     "text": [
      "   ordering symbol     value\n",
      "0         0     d0  0.499676\n",
      "<inquanto.operators._chemistry_integral_operator.ChemistryRestrictedIntegralOperator object at 0x7fde25afa010>\n"
     ]
    },
    {
     "data": {
      "text/html": [
       "\n",
       "\n",
       "\n",
       "\n",
       "\n",
       "\n",
       "<div style=\"resize: vertical; overflow: auto; height: 400px; display: block\">\n",
       "    <iframe srcdoc=\"\n",
       "&lt;!DOCTYPE html&gt;\n",
       "&lt;html lang=&#34;en&#34;&gt;\n",
       "&lt;head&gt;\n",
       "    &lt;meta charset=&#34;UTF-8&#34;&gt;\n",
       "    &lt;!-- Download Vue 3--&gt;\n",
       "&lt;script type=&#34;application/javascript&#34; src=&#34;https://cdn.jsdelivr.net/npm/vue@3&#34;&gt;&lt;/script&gt;\n",
       "&lt;!-- Download Circuit Renderer with styles --&gt;\n",
       "&lt;script type=&#34;application/javascript&#34; src=&#34;https://unpkg.com/pytket-circuit-renderer@0.7/dist/pytket-circuit-renderer.umd.js&#34;&gt;&lt;/script&gt;\n",
       "&lt;link rel=&#34;stylesheet&#34; href=&#34;https://unpkg.com/pytket-circuit-renderer@0.7/dist/pytket-circuit-renderer.css&#34;&gt;\n",
       "&lt;/head&gt;\n",
       "&lt;body&gt;\n",
       "\n",
       "\n",
       "\n",
       "    &lt;div id=&#34;circuit-display-vue-container-1a4cd885-2fda-4d53-824b-57e12c56360d&#34; class=&#34;pytket-circuit-display-container&#34;&gt;\n",
       "        &lt;div style=&#34;display: none&#34;&gt;\n",
       "            &lt;div id=&#34;circuit-json-to-display&#34;&gt;{&#34;bits&#34;: [], &#34;commands&#34;: [{&#34;args&#34;: [[&#34;q&#34;, [0]]], &#34;op&#34;: {&#34;type&#34;: &#34;X&#34;}}, {&#34;args&#34;: [[&#34;q&#34;, [1]]], &#34;op&#34;: {&#34;type&#34;: &#34;S&#34;}}, {&#34;args&#34;: [[&#34;q&#34;, [2]]], &#34;op&#34;: {&#34;type&#34;: &#34;V&#34;}}, {&#34;args&#34;: [[&#34;q&#34;, [3]]], &#34;op&#34;: {&#34;type&#34;: &#34;S&#34;}}, {&#34;args&#34;: [[&#34;q&#34;, [0]]], &#34;op&#34;: {&#34;type&#34;: &#34;Sdg&#34;}}, {&#34;args&#34;: [[&#34;q&#34;, [1]]], &#34;op&#34;: {&#34;type&#34;: &#34;H&#34;}}, {&#34;args&#34;: [[&#34;q&#34;, [3]]], &#34;op&#34;: {&#34;type&#34;: &#34;H&#34;}}, {&#34;args&#34;: [[&#34;q&#34;, [0]]], &#34;op&#34;: {&#34;type&#34;: &#34;Vdg&#34;}}, {&#34;args&#34;: [[&#34;q&#34;, [1]]], &#34;op&#34;: {&#34;type&#34;: &#34;S&#34;}}, {&#34;args&#34;: [[&#34;q&#34;, [3]]], &#34;op&#34;: {&#34;type&#34;: &#34;S&#34;}}, {&#34;args&#34;: [[&#34;q&#34;, [2]], [&#34;q&#34;, [0]]], &#34;op&#34;: {&#34;type&#34;: &#34;CX&#34;}}, {&#34;args&#34;: [[&#34;q&#34;, [1]]], &#34;op&#34;: {&#34;type&#34;: &#34;V&#34;}}, {&#34;args&#34;: [[&#34;q&#34;, [3]]], &#34;op&#34;: {&#34;type&#34;: &#34;V&#34;}}, {&#34;args&#34;: [[&#34;q&#34;, [0]]], &#34;op&#34;: {&#34;params&#34;: [&#34;0.499675593135811/pi&#34;], &#34;type&#34;: &#34;Rz&#34;}}, {&#34;args&#34;: [[&#34;q&#34;, [2]]], &#34;op&#34;: {&#34;type&#34;: &#34;H&#34;}}, {&#34;args&#34;: [[&#34;q&#34;, [2]]], &#34;op&#34;: {&#34;params&#34;: [&#34;-0.499675593135811/pi&#34;], &#34;type&#34;: &#34;Rz&#34;}}, {&#34;args&#34;: [[&#34;q&#34;, [2]]], &#34;op&#34;: {&#34;type&#34;: &#34;H&#34;}}, {&#34;args&#34;: [[&#34;q&#34;, [2]], [&#34;q&#34;, [0]]], &#34;op&#34;: {&#34;type&#34;: &#34;CX&#34;}}, {&#34;args&#34;: [[&#34;q&#34;, [0]]], &#34;op&#34;: {&#34;type&#34;: &#34;V&#34;}}, {&#34;args&#34;: [[&#34;q&#34;, [2]]], &#34;op&#34;: {&#34;type&#34;: &#34;Vdg&#34;}}, {&#34;args&#34;: [[&#34;q&#34;, [0]]], &#34;op&#34;: {&#34;type&#34;: &#34;S&#34;}}, {&#34;args&#34;: [[&#34;q&#34;, [2]]], &#34;op&#34;: {&#34;type&#34;: &#34;S&#34;}}, {&#34;args&#34;: [[&#34;q&#34;, [0]]], &#34;op&#34;: {&#34;type&#34;: &#34;S&#34;}}, {&#34;args&#34;: [[&#34;q&#34;, [2]]], &#34;op&#34;: {&#34;type&#34;: &#34;H&#34;}}, {&#34;args&#34;: [[&#34;q&#34;, [0]]], &#34;op&#34;: {&#34;type&#34;: &#34;H&#34;}}, {&#34;args&#34;: [[&#34;q&#34;, [2]]], &#34;op&#34;: {&#34;type&#34;: &#34;S&#34;}}, {&#34;args&#34;: [[&#34;q&#34;, [0]]], &#34;op&#34;: {&#34;type&#34;: &#34;S&#34;}}, {&#34;args&#34;: [[&#34;q&#34;, [2]]], &#34;op&#34;: {&#34;type&#34;: &#34;V&#34;}}, {&#34;args&#34;: [[&#34;q&#34;, [0]]], &#34;op&#34;: {&#34;type&#34;: &#34;V&#34;}}, {&#34;args&#34;: [[&#34;q&#34;, [2]], [&#34;q&#34;, [3]]], &#34;op&#34;: {&#34;type&#34;: &#34;CX&#34;}}, {&#34;args&#34;: [[&#34;q&#34;, [0]], [&#34;q&#34;, [1]]], &#34;op&#34;: {&#34;type&#34;: &#34;CX&#34;}}], &#34;created_qubits&#34;: [], &#34;discarded_qubits&#34;: [], &#34;implicit_permutation&#34;: [[[&#34;q&#34;, [0]], [&#34;q&#34;, [0]]], [[&#34;q&#34;, [1]], [&#34;q&#34;, [1]]], [[&#34;q&#34;, [2]], [&#34;q&#34;, [2]]], [[&#34;q&#34;, [3]], [&#34;q&#34;, [3]]]], &#34;phase&#34;: &#34;0.0&#34;, &#34;qubits&#34;: [[&#34;q&#34;, [0]], [&#34;q&#34;, [1]], [&#34;q&#34;, [2]], [&#34;q&#34;, [3]]]}&lt;/div&gt;\n",
       "        &lt;/div&gt;\n",
       "        &lt;circuit-display-container\n",
       "                :circuit-element-str=&#34;&#39;#circuit-json-to-display&#39;&#34;\n",
       "                :init-render-options=&#34;initRenderOptions&#34;\n",
       "        &gt;&lt;/circuit-display-container&gt;\n",
       "    &lt;/div&gt;\n",
       "    &lt;script type=&#34;application/javascript&#34;&gt;\n",
       "      const circuitRendererUid = &#34;1a4cd885-2fda-4d53-824b-57e12c56360d&#34;;\n",
       "      const displayOptions = JSON.parse(&#39;{}&#39;);\n",
       "\n",
       "      // Script to initialise the circuit renderer app\n",
       "\n",
       "const { createApp } = Vue;\n",
       "const circuitDisplayContainer = window[&#34;pytket-circuit-renderer&#34;].default;\n",
       "// Init variables to be shared between circuit display instances\n",
       "if (typeof window.pytketCircuitDisplays === &#34;undefined&#34;) {\n",
       "    window.pytketCircuitDisplays = {};\n",
       "}\n",
       "// Create the root Vue component\n",
       "const app = createApp({\n",
       "    delimiters: [&#39;[[#&#39;, &#39;#]]&#39;],\n",
       "    components: { circuitDisplayContainer },\n",
       "    data () {\n",
       "      return {\n",
       "        initRenderOptions: displayOptions,\n",
       "      }\n",
       "    }\n",
       "})\n",
       "app.config.unwrapInjectedRef = true;\n",
       "app.mount(&#34;#circuit-display-vue-container-&#34;+circuitRendererUid);\n",
       "window.pytketCircuitDisplays[circuitRendererUid] = app;\n",
       "    &lt;/script&gt;\n",
       "\n",
       "\n",
       "\n",
       "&lt;/body&gt;\n",
       "&lt;/html&gt;\n",
       "\"\n",
       "            width=\"100%\" height=\"100%\"\n",
       "            style=\"border: none; outline: none; overflow: auto\"></iframe>\n",
       "</div>\n",
       "\n"
      ],
      "text/plain": [
       "<IPython.core.display.HTML object>"
      ]
     },
     "metadata": {},
     "output_type": "display_data"
    },
    {
     "name": "stdout",
     "output_type": "stream",
     "text": [
      "\n",
      "CNOT GATES:  4\n",
      "<tket::Circuit, qubits=4, gates=31>\n"
     ]
    }
   ],
   "source": [
    "# Preload the Hamiltonian for H2\n",
    "# see the Aer tutorial for details\n",
    "from inquanto.express import load_h5\n",
    "\n",
    "h2 = load_h5(\"h2_sto3g.h5\", as_tuple=True)\n",
    "hamiltonian = h2.hamiltonian_operator\n",
    "\n",
    "from inquanto.spaces import FermionSpace\n",
    "from inquanto.states import FermionState\n",
    "from inquanto.symmetry import PointGroup\n",
    "from inquanto.ansatzes import FermionSpaceStateExpChemicallyAware\n",
    "\n",
    "# Define fermion space, state, and map the fermionic operator to qubits\n",
    "space = FermionSpace(\n",
    "    4, point_group=PointGroup(\"D2h\"), orb_irreps=[\"Ag\", \"Ag\", \"B1u\", \"B1u\"]\n",
    ")\n",
    "\n",
    "state = FermionState([1, 1, 0, 0])\n",
    "qubit_hamiltonian = hamiltonian.qubit_encode()\n",
    "\n",
    "exponents = space.construct_single_ucc_operators(state)\n",
    "## the above adds nothing due to the symmetry of the system\n",
    "exponents += space.construct_double_ucc_operators(state)\n",
    "# Construct an efficient ansatz\n",
    "ansatz = FermionSpaceStateExpChemicallyAware(exponents, state)\n",
    "\n",
    "p = ansatz.state_symbols.construct_from_array([0.4996755931358105])\n",
    "print(p)\n",
    "\n",
    "# Import an InQuanto Computable for measuring an expecation value. \n",
    "# The operator is the qubit Hamiltonian, and the wavefunction is the ansatz.\n",
    "from inquanto.computables import ExpectationValue\n",
    "\n",
    "print(hamiltonian)\n",
    "expectation0 = ExpectationValue(ansatz, hamiltonian.qubit_encode())\n",
    "\n",
    "# Analyze the ansatz circuit\n",
    "from pytket.circuit.display import render_circuit_jupyter\n",
    "from pytket import Circuit, OpType\n",
    "\n",
    "render_circuit_jupyter(ansatz.get_circuit(p))  # this is the uncompiled ansatz circuit\n",
    "\n",
    "print(\"2-qubit GATES:  {}\".format(ansatz.circuit_resources()['gates_2q'])\n",
    "print(ansatz.state_circuit)"
   ]
  },
  {
   "attachments": {},
   "cell_type": "markdown",
   "id": "145ad269-7da6-4645-af96-613a8170f98e",
   "metadata": {},
   "source": [
    "### 2. Machine emulation for quantum noise \n",
    "\n",
    "Running emulator experiments before hardware experiments is a crucial step in the development and optimization of quantum algorithms and applications. Emulators provide a controlled environment where one can fine-tune algorithms, explore error mitigation strategies, and gain valuable insights about the behavior of quantum circuits without some constraints of physical hardware.\n",
    "\n",
    "Below, we provide instructions for conducting experiments utilizing a Quantinuum H-series emulator. To utilize hardware instead of the emulator one only needs to change their choice of device when instantiating the `QuantinuumBackend`. \n",
    "\n",
    "<font color='red'> Note that we use the `pytket-quantinuum` extension to access a Quantinuum backend.</font>\n",
    "\n",
    "`QuantinuumBackend` is a pytket backend that calls an H-series device (\"H1-1\", \"H1-2\") or its emulator with the corresponding noise profile (\"H1-1E\", \"H2-1E\"). The emulators are run remotely on a server. Accessing the backend retrieves information from your Quantinuum account. More information can be found on the [pytket-quantinuum page.](https://docs.quantinuum.com/tket/extensions/pytket-quantinuum/)\n",
    "\n",
    "For comparison in the figure below, we have also plotted the exact energy (-0.5876463677224993 Ha) for H$_2$ and the user should also compare these results to result from the first part of this tutorial."
   ]
  },
  {
   "cell_type": "code",
   "execution_count": null,
   "id": "b059c2ee",
   "metadata": {},
   "outputs": [
    {
     "name": "stdout",
     "output_type": "stream",
     "text": [
      "H1-1E status: online\n"
     ]
    }
   ],
   "source": [
    "from pytket.extensions.quantinuum import QuantinuumBackend\n",
    "\n",
    "# Initialize the backend, make sure to login with your credentials. \n",
    "# Change the machine name and add the label and the group if necessary.\n",
    "machine = \"H1-1E\"\n",
    "backend = QuantinuumBackend(device_name=machine, group=\"\")\n",
    "\n",
    "# The QuantinuumBackend has additional arguements for accessing resources and labelling circuits\n",
    "# label (Optional[str], optional) – Job labels used if Circuits have no name, defaults to “job”\n",
    "# group (Optional[str], optional) – string identifier of a collection of jobs, can be used for usage tracking.\n",
    "\n",
    "# Running the next line (device_state) will require logging into your \n",
    "# quantinuum account. This can also be called with backend.login()\n",
    "print(machine, \"status:\", QuantinuumBackend.device_state(device_name=machine))"
   ]
  },
  {
   "cell_type": "code",
   "execution_count": null,
   "id": "11b53c55-e4ab-4198-bde2-b217f54c5505",
   "metadata": {},
   "outputs": [
    {
     "data": {
      "text/html": [
       "\n",
       "\n",
       "\n",
       "\n",
       "\n",
       "\n",
       "<div style=\"resize: vertical; overflow: auto; height: 400px; display: block\">\n",
       "    <iframe srcdoc=\"\n",
       "&lt;!DOCTYPE html&gt;\n",
       "&lt;html lang=&#34;en&#34;&gt;\n",
       "&lt;head&gt;\n",
       "    &lt;meta charset=&#34;UTF-8&#34;&gt;\n",
       "    &lt;!-- Download Vue 3--&gt;\n",
       "&lt;script type=&#34;application/javascript&#34; src=&#34;https://cdn.jsdelivr.net/npm/vue@3&#34;&gt;&lt;/script&gt;\n",
       "&lt;!-- Download Circuit Renderer with styles --&gt;\n",
       "&lt;script type=&#34;application/javascript&#34; src=&#34;https://unpkg.com/pytket-circuit-renderer@0.7/dist/pytket-circuit-renderer.umd.js&#34;&gt;&lt;/script&gt;\n",
       "&lt;link rel=&#34;stylesheet&#34; href=&#34;https://unpkg.com/pytket-circuit-renderer@0.7/dist/pytket-circuit-renderer.css&#34;&gt;\n",
       "&lt;/head&gt;\n",
       "&lt;body&gt;\n",
       "\n",
       "\n",
       "\n",
       "    &lt;div id=&#34;circuit-display-vue-container-f175f66e-a2b6-4733-b0c5-49509d6a7257&#34; class=&#34;pytket-circuit-display-container&#34;&gt;\n",
       "        &lt;div style=&#34;display: none&#34;&gt;\n",
       "            &lt;div id=&#34;circuit-json-to-display&#34;&gt;{&#34;bits&#34;: [[&#34;c&#34;, [0]], [&#34;c&#34;, [1]], [&#34;c&#34;, [2]], [&#34;c&#34;, [3]]], &#34;commands&#34;: [{&#34;args&#34;: [[&#34;q&#34;, [0]]], &#34;op&#34;: {&#34;params&#34;: [&#34;-1.5&#34;, &#34;0&#34;], &#34;type&#34;: &#34;PhasedX&#34;}}, {&#34;args&#34;: [[&#34;q&#34;, [1]]], &#34;op&#34;: {&#34;params&#34;: [&#34;0.5&#34;, &#34;0.5&#34;], &#34;type&#34;: &#34;PhasedX&#34;}}, {&#34;args&#34;: [[&#34;q&#34;, [2]]], &#34;op&#34;: {&#34;params&#34;: [&#34;1/2&#34;, &#34;0&#34;], &#34;type&#34;: &#34;PhasedX&#34;}}, {&#34;args&#34;: [[&#34;q&#34;, [3]]], &#34;op&#34;: {&#34;params&#34;: [&#34;0.5&#34;, &#34;0.5&#34;], &#34;type&#34;: &#34;PhasedX&#34;}}, {&#34;args&#34;: [[&#34;q&#34;, [2]], [&#34;q&#34;, [0]]], &#34;op&#34;: {&#34;params&#34;: [&#34;0.5&#34;], &#34;type&#34;: &#34;ZZPhase&#34;}}, {&#34;args&#34;: [[&#34;q&#34;, [0]]], &#34;op&#34;: {&#34;params&#34;: [&#34;-0.159051681179878&#34;, &#34;-1/2&#34;], &#34;type&#34;: &#34;PhasedX&#34;}}, {&#34;args&#34;: [[&#34;q&#34;, [2]]], &#34;op&#34;: {&#34;params&#34;: [&#34;-0.159051681179877&#34;, &#34;-1/2&#34;], &#34;type&#34;: &#34;PhasedX&#34;}}, {&#34;args&#34;: [[&#34;q&#34;, [2]], [&#34;q&#34;, [0]]], &#34;op&#34;: {&#34;params&#34;: [&#34;0.5&#34;], &#34;type&#34;: &#34;ZZPhase&#34;}}, {&#34;args&#34;: [[&#34;q&#34;, [0]]], &#34;op&#34;: {&#34;params&#34;: [&#34;-1.5&#34;, &#34;-3.0&#34;], &#34;type&#34;: &#34;PhasedX&#34;}}, {&#34;args&#34;: [[&#34;q&#34;, [2]]], &#34;op&#34;: {&#34;params&#34;: [&#34;-1.5&#34;, &#34;0&#34;], &#34;type&#34;: &#34;PhasedX&#34;}}, {&#34;args&#34;: [[&#34;q&#34;, [0]], [&#34;q&#34;, [1]]], &#34;op&#34;: {&#34;params&#34;: [&#34;1.0&#34;], &#34;type&#34;: &#34;ZZPhase&#34;}}, {&#34;args&#34;: [[&#34;q&#34;, [2]], [&#34;q&#34;, [3]]], &#34;op&#34;: {&#34;params&#34;: [&#34;0.5&#34;], &#34;type&#34;: &#34;ZZPhase&#34;}}, {&#34;args&#34;: [[&#34;q&#34;, [1]]], &#34;op&#34;: {&#34;params&#34;: [&#34;1/2&#34;, &#34;-3.5&#34;], &#34;type&#34;: &#34;PhasedX&#34;}}, {&#34;args&#34;: [[&#34;q&#34;, [2]]], &#34;op&#34;: {&#34;params&#34;: [&#34;-1.5&#34;, &#34;-3&#34;], &#34;type&#34;: &#34;PhasedX&#34;}}, {&#34;args&#34;: [[&#34;q&#34;, [1]], [&#34;c&#34;, [1]]], &#34;op&#34;: {&#34;type&#34;: &#34;Measure&#34;}}, {&#34;args&#34;: [[&#34;q&#34;, [0]], [&#34;q&#34;, [2]]], &#34;op&#34;: {&#34;params&#34;: [&#34;0.5&#34;], &#34;type&#34;: &#34;ZZPhase&#34;}}, {&#34;args&#34;: [[&#34;q&#34;, [0]], [&#34;q&#34;, [3]]], &#34;op&#34;: {&#34;params&#34;: [&#34;0.5&#34;], &#34;type&#34;: &#34;ZZPhase&#34;}}, {&#34;args&#34;: [[&#34;q&#34;, [2]]], &#34;op&#34;: {&#34;params&#34;: [&#34;1/2&#34;, &#34;-7/2&#34;], &#34;type&#34;: &#34;PhasedX&#34;}}, {&#34;args&#34;: [[&#34;q&#34;, [2]], [&#34;c&#34;, [2]]], &#34;op&#34;: {&#34;type&#34;: &#34;Measure&#34;}}, {&#34;args&#34;: [[&#34;q&#34;, [0]]], &#34;op&#34;: {&#34;params&#34;: [&#34;1/2&#34;, &#34;-9.5&#34;], &#34;type&#34;: &#34;PhasedX&#34;}}, {&#34;args&#34;: [[&#34;q&#34;, [3]]], &#34;op&#34;: {&#34;params&#34;: [&#34;1/2&#34;, &#34;-3.5&#34;], &#34;type&#34;: &#34;PhasedX&#34;}}, {&#34;args&#34;: [[&#34;q&#34;, [0]], [&#34;c&#34;, [0]]], &#34;op&#34;: {&#34;type&#34;: &#34;Measure&#34;}}, {&#34;args&#34;: [[&#34;q&#34;, [3]], [&#34;c&#34;, [3]]], &#34;op&#34;: {&#34;type&#34;: &#34;Measure&#34;}}], &#34;created_qubits&#34;: [], &#34;discarded_qubits&#34;: [], &#34;implicit_permutation&#34;: [[[&#34;q&#34;, [0]], [&#34;q&#34;, [0]]], [[&#34;q&#34;, [1]], [&#34;q&#34;, [1]]], [[&#34;q&#34;, [2]], [&#34;q&#34;, [2]]], [[&#34;q&#34;, [3]], [&#34;q&#34;, [3]]]], &#34;name&#34;: &#34;GQ4WEZBUGM3DI,1&#34;, &#34;phase&#34;: &#34;0.75&#34;, &#34;qubits&#34;: [[&#34;q&#34;, [0]], [&#34;q&#34;, [1]], [&#34;q&#34;, [2]], [&#34;q&#34;, [3]]]}&lt;/div&gt;\n",
       "        &lt;/div&gt;\n",
       "        &lt;circuit-display-container\n",
       "                :circuit-element-str=&#34;&#39;#circuit-json-to-display&#39;&#34;\n",
       "                :init-render-options=&#34;initRenderOptions&#34;\n",
       "        &gt;&lt;/circuit-display-container&gt;\n",
       "    &lt;/div&gt;\n",
       "    &lt;script type=&#34;application/javascript&#34;&gt;\n",
       "      const circuitRendererUid = &#34;f175f66e-a2b6-4733-b0c5-49509d6a7257&#34;;\n",
       "      const displayOptions = JSON.parse(&#39;{}&#39;);\n",
       "\n",
       "      // Script to initialise the circuit renderer app\n",
       "\n",
       "const { createApp } = Vue;\n",
       "const circuitDisplayContainer = window[&#34;pytket-circuit-renderer&#34;].default;\n",
       "// Init variables to be shared between circuit display instances\n",
       "if (typeof window.pytketCircuitDisplays === &#34;undefined&#34;) {\n",
       "    window.pytketCircuitDisplays = {};\n",
       "}\n",
       "// Create the root Vue component\n",
       "const app = createApp({\n",
       "    delimiters: [&#39;[[#&#39;, &#39;#]]&#39;],\n",
       "    components: { circuitDisplayContainer },\n",
       "    data () {\n",
       "      return {\n",
       "        initRenderOptions: displayOptions,\n",
       "      }\n",
       "    }\n",
       "})\n",
       "app.config.unwrapInjectedRef = true;\n",
       "app.mount(&#34;#circuit-display-vue-container-&#34;+circuitRendererUid);\n",
       "window.pytketCircuitDisplays[circuitRendererUid] = app;\n",
       "    &lt;/script&gt;\n",
       "\n",
       "\n",
       "\n",
       "&lt;/body&gt;\n",
       "&lt;/html&gt;\n",
       "\"\n",
       "            width=\"100%\" height=\"100%\"\n",
       "            style=\"border: none; outline: none; overflow: auto\"></iframe>\n",
       "</div>\n",
       "\n"
      ],
      "text/plain": [
       "<IPython.core.display.HTML object>"
      ]
     },
     "metadata": {},
     "output_type": "display_data"
    }
   ],
   "source": [
    "from inquanto.protocols import PauliAveraging\n",
    "from pytket.partition import PauliPartitionStrat\n",
    "\n",
    "# here we demonstrate building the \n",
    "protocol = PauliAveraging(\n",
    "    backend,\n",
    "    shots_per_circuit=10,\n",
    "    pauli_partition_strategy=PauliPartitionStrat.CommutingSets,\n",
    ")\n",
    "protocol.build(p, ansatz, hamiltonian.qubit_encode())\n",
    "protocol.compile_circuits()\n",
    "\n",
    "# you can inspect compiled measurement circuits contained in the protocol that was run on the backend\n",
    "# note that the gateset of this circuit is different to the ansatz \n",
    "\n",
    "render_circuit_jupyter(protocol.get_circuits()[1])\n"
   ]
  },
  {
   "cell_type": "code",
   "execution_count": null,
   "id": "f7391ae0",
   "metadata": {},
   "outputs": [],
   "source": [
    "# now we loop over different numbers of shots to examine convergence \n",
    "# the protocols are built, run, and the expectation values collected\n",
    "set_shots = [10, 50, 100, 500, 1000, 5000, 10000]\n",
    "noisy_H1_1E_energies = []\n",
    "\n",
    "for i in set_shots:\n",
    "    protocol = PauliAveraging(\n",
    "        backend,\n",
    "        shots_per_circuit=i,\n",
    "        pauli_partition_strategy=PauliPartitionStrat.CommutingSets,\n",
    "    )\n",
    "    protocol.build(p, ansatz, hamiltonian.qubit_encode())\n",
    "    protocol.compile_circuits()\n",
    "    protocol.run()  # no seeding H series, returns results to the protocol\n",
    "    noisy_H1_1E_expectation = protocol.evaluate_expectation_value(\n",
    "        ansatz, hamiltonian.qubit_encode()\n",
    "    )\n",
    "    noisy_H1_1E_energies.append(noisy_H1_1E_expectation)"
   ]
  },
  {
   "cell_type": "markdown",
   "id": "2b624552",
   "metadata": {},
   "source": [
    "The Quantinuum Portal can be used to inspect your submitted job progress and other details as illustrated below. \n",
    "\n",
    "| Status    | JobID                            | Name            | MACHINE | Group     | Submit Date      | Start Date       | Result Date      | Shots |      | Cost |\n",
    "|-----------|----------------------------------|-----------------|---------|-----------|------------------|------------------|------------------|-------|------|------|\n",
    "| queued    | 3049eb4cf05746ffb271c8bf11cd6e91 | GQ4WEZBUGM3DI,1 | H1-1E   | UserGroup | 29/11/2023 11:42 |                  |                  | 10000 |      | 251  |\n",
    "| queued    | 474e5da741a34c5b9ad0b577db0141a0 | GQ4WEZBUGM3DI,0 | H1-1E   | UserGroup | 29/11/2023 11:42 |                  |                  | 10000 |      | 185  |\n",
    "| completed | 7dd6b36ea21a43c8bb8dd5067244a11f | GQ4WEZBUGM3DI,1 | H1-1E   | UserGroup | 29/11/2023 11:40 | 29/11/2023 11:42 | 29/11/2023 11:42 | 5000  | 5000 | 128  |\n",
    "| completed | df15c1a8e2f442a694463c59538d466f | GQ4WEZBUGM3DI,0 | H1-1E   | UserGroup | 29/11/2023 11:40 | 29/11/2023 11:42 | 29/11/2023 11:42 | 5000  | 5000 | 95   |\n"
   ]
  },
  {
   "cell_type": "code",
   "execution_count": null,
   "id": "2794313a",
   "metadata": {},
   "outputs": [
    {
     "data": {
      "text/plain": [
       "<matplotlib.legend.Legend at 0x7f605017bc70>"
      ]
     },
     "execution_count": null,
     "metadata": {},
     "output_type": "execute_result"
    },
    {
     "data": {
      "image/png": "[encoded data removed]",
      "text/plain": [
       "<Figure size 1200x400 with 1 Axes>"
      ]
     },
     "metadata": {},
     "output_type": "display_data"
    }
   ],
   "source": [
    "import matplotlib.pyplot as plt\n",
    "# we plot the results of our sampling\n",
    "plt.rcParams[\"figure.figsize\"] = (12, 4)\n",
    "\n",
    "plt.hlines(\n",
    "    y=-0.5876463677224993,\n",
    "    xmin=10,\n",
    "    xmax=50000,\n",
    "    ls=\"--\",\n",
    "    colors=\"black\",\n",
    "    label=\"Exact Energy\",\n",
    ")\n",
    "plt.plot(set_shots, noisy_H1_1E_energies, label=\"H1-1E\")\n",
    "plt.xscale(\"log\")\n",
    "plt.ylim([-0.8, 0])\n",
    "plt.xlabel(\"Number of shots\")\n",
    "plt.ylabel(\"Energy (Ha)\")\n",
    "plt.title(\n",
    "    \"Convergence behavior of the expectation value for \"\n",
    "    + r\"$\\theta=$%.5f\" % list(p.values())[0]\n",
    ")\n",
    "plt.legend()"
   ]
  },
  {
   "attachments": {},
   "cell_type": "markdown",
   "id": "f12c4ba2-cb30-4c82-8c1e-74517dc544c5",
   "metadata": {},
   "source": [
    "### 3. Noise mitigation methods in Quantinuum emulation\n",
    "\n",
    "We can use noise mitigation techniques to reduce the impact of noise in our expectation value. In this case we will 'purify' results by discarding a shot if it has a certain error. There are many other mitigation methods. \n",
    "\n",
    "Specifically, we will define the symmetries of the Qubit Operators in the system to use PMSV (Partition Measurement Symmetry Verification). As a result, noise mitigation improves the accuracy of the energy obtained from the quantum hardware compared to the unmitigated results and the exact energy of H<sub>2</sub>.\n",
    "\n",
    "State Preparation and Measurement (SPAM) correction, which calibrates the calculation for system noise, can also be used."
   ]
  },
  {
   "cell_type": "code",
   "execution_count": null,
   "id": "afc57872-f90e-477a-864a-1532602f2f55",
   "metadata": {},
   "outputs": [],
   "source": [
    "from inquanto.protocols.averaging._mitigation import PMSV\n",
    "from inquanto.mappings import QubitMappingJordanWigner\n",
    "\n",
    "backend = QuantinuumBackend(device_name=\"\", label=\"\", group=\"\")\n",
    "\n",
    "stabilizers = QubitMappingJordanWigner().operator_map(\n",
    "    space.symmetry_operators_z2_in_sector(state)\n",
    ")\n",
    "\n",
    "mitms_pmsv = PMSV(stabilizers)\n",
    "\n",
    "miti_H1_1E_energies = []\n",
    "for i in set_shots:\n",
    "    protocol = PauliAveraging(\n",
    "        backend,\n",
    "        shots_per_circuit=i,\n",
    "        pauli_partition_strategy=PauliPartitionStrat.CommutingSets,\n",
    "    )\n",
    "    protocol.build(\n",
    "        p, ansatz, hamiltonian.qubit_encode(), noise_mitigation=mitms_pmsv\n",
    "    ).compile_circuits().run()\n",
    "\n",
    "    miti_H1_1E_expectation = protocol.evaluate_expectation_value(\n",
    "        ansatz, hamiltonian.qubit_encode()\n",
    "    )\n",
    "    miti_H1_1E_energies.append(miti_H1_1E_expectation)"
   ]
  },
  {
   "cell_type": "code",
   "execution_count": null,
   "id": "8ff54e2e",
   "metadata": {},
   "outputs": [
    {
     "data": {
      "text/plain": [
       "<matplotlib.legend.Legend at 0x7f6049d55ae0>"
      ]
     },
     "execution_count": null,
     "metadata": {},
     "output_type": "execute_result"
    },
    {
     "data": {
      "image/png": "[encoded data removed]",
      "text/plain": [
       "<Figure size 1200x400 with 1 Axes>"
      ]
     },
     "metadata": {},
     "output_type": "display_data"
    }
   ],
   "source": [
    "#statevector \n",
    "plt.hlines(\n",
    "    y=-0.5876463677224993,\n",
    "    xmin=10,\n",
    "    xmax=50000,\n",
    "    ls=\"--\",\n",
    "    colors=\"black\",\n",
    "    label=\"Exact Energy\",\n",
    ")\n",
    "plt.plot(set_shots, noisy_H1_1E_energies, label=\"H1-1E\")\n",
    "plt.plot(set_shots, miti_H1_1E_energies, label=\"H1-1E mitigated\")\n",
    "plt.xscale(\"log\")\n",
    "plt.ylim([-0.8, 0])\n",
    "plt.xlabel(\"Number of shots\")\n",
    "plt.ylabel(\"Energy (Ha)\")\n",
    "plt.title(\n",
    "    \"Convergence behavior of the expectation value for \"\n",
    "    + r\"$\\theta=$%.5f\" % list(p.values())[0]\n",
    ")\n",
    "plt.legend()"
   ]
  },
  {
   "attachments": {},
   "cell_type": "markdown",
   "id": "c132e5c7-acf8-4a77-9ffd-1a247c256249",
   "metadata": {},
   "source": [
    "One may also explore the impact of SPAM on enhancing the convergence behavior of the expectation value. In the case of this simple system with a shallow circuit, the energy converges with slightly improved efficiency and/or heightened precision upon employing noise mitigation techniques.\n",
    "\n",
    "Transitioning to hardware experiments is straightforward. This is facilitated by the `pytket.extensions.quantinuum` module. The user simply changes the device name (e.g., from \"H1-1E\" to \"H1-1\"), and the circuit will be run on the physical quantum device provided sufficient credits and circuit syntax. "
   ]
  }
 ],
 "metadata": {
  "kernelspec": {
   "display_name": "new_prod",
   "language": "python",
   "name": "python3"
  },
  "language_info": {
   "codemirror_mode": {
    "name": "ipython",
    "version": 3
   },
   "file_extension": ".py",
   "mimetype": "text/x-python",
   "name": "python",
   "nbconvert_exporter": "python",
   "pygments_lexer": "ipython3",
   "version": "3.11.0"
  }
 },
 "nbformat": 4,
 "nbformat_minor": 5
}
