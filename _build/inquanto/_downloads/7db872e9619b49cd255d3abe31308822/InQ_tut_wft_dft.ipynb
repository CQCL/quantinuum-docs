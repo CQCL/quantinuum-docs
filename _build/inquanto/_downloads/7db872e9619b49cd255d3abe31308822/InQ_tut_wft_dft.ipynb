{
 "cells": [
  {
   "cell_type": "markdown",
   "id": "2eda7956-93e9-43ee-ba25-810fb5ffa15c",
   "metadata": {},
   "source": [
    "Projection-based embedding \n",
    "==========================="
   ]
  },
  {
   "cell_type": "markdown",
   "id": "e8cc6e16-4299-4bcd-a1b7-a6ade798a5cf",
   "metadata": {},
   "source": [
    "This tutorial aims to provide an introduction to projection-based embedding ([Manby et al (2012)](https://pubs.acs.org/doi/10.1021/ct300544e)) for quantum chemistry calculations. Projection-based embedding, particularly within Density Functional Theory (DFT), is employed to address the computational challenges associated with large systems. This technique divides the system into a subsystem (e.g., a molecule) and an environment (e.g., crystal or solvent), treating them with different methods to optimize computational efficiency while maintaining accuracy for the region of interest. The fundamental concept involves projecting the wavefunction or electron density of the entire system onto the subsystem using projection operators. These operators define the interaction between the electronic structure of the subsystem and the surrounding environment.\n",
    "\n",
    "The implementation involves partitioning the system, projecting the electronic information onto the subsystem using projection operators, and performing separate calculations for the subsystem (using DFT) and the environment (using a simpler method). The results are then combined to obtain the overall electronic structure of the system. The form of the projection operators depends on the specific details of the chosen embedding method. These operators encompass terms related to electron density, potential, or other relevant properties that describe the interaction between the subsystem and the environment.\n",
    "\n",
    "Applications of projection-based embedding are prominent in materials science, especially in studying electronic properties in complex environments like surfaces or interfaces. The accuracy of this technique depends on the chosen methods for the subsystem and the approximations made in describing the environment. \n",
    "\n",
    "**Wavefunction-in-DFT Embedding**\n",
    "\n",
    "The projection-based approach readily allows for wavefunction-in-DFT (WF-in-DFT) embedding, in which subsystem $\\mathrm{A}$ is treated using a WF-level description and subsystem $\\mathrm{B}$ is described at the DFT level. Here, the WF-in-DFT energy is simply obtained by substituting the DFT energy of subsystem $\\mathrm{A}$ with the corresponding WF energy:\n",
    "\n",
    "$$\\begin{aligned} E_{\\mathrm{WF}-\\mathrm{in}-\\mathrm{DFT}}\\left[\\widetilde{\\Psi}^\\mathrm{A} ; \\gamma^{\\mathrm{A}}, \\gamma^{\\mathrm{B}}\\right]= & E_{\\mathrm{WF}}\\left[\\widetilde{\\Psi}^{\\mathrm{A}}\\right]+\\operatorname{tr}\\left[\\left(\\widetilde{\\gamma}^\\mathrm{A} -\\gamma^{\\mathrm{A}}\\right)  \\mathbf{v}_{\\mathrm{emb}}\\left[\\gamma^{\\Lambda}, \\gamma^{\\mathrm{B}}\\right]\\right]+ \\\\ & + E_{\\mathrm{DFT}}\\left[\\gamma^{\\Lambda}+\\gamma^{\\mathrm{B}}\\right]-E_{\\mathrm{DFT}}\\left[\\gamma^{\\mathrm{A}}\\right] +\\mu \\operatorname{tr}\\left[\\widetilde{\\gamma}^{\\Lambda} \\mathbf{P}^{\\mathrm{B}}\\right]\\end{aligned}$$\n",
    "\n",
    "where $\\widetilde{\\Psi}^\\mathrm{A}$ is the WF for subsystem $\\mathrm{A}$, $\\gamma^{\\mathrm{A}}$ is the one-particle reduced density matrix corresponding to $\\widetilde{\\Psi}^\\mathrm{A}$, and $E_{\\mathrm{WF}}\\left[\\widetilde{\\Psi}^{\\mathrm{A}}\\right]$ is the WF energy of subsystem $\\mathrm{A}$. \n",
    "\n",
    "A projection-based WF-in-DFT embedding calculation proceeds as follows. A KS-DFT calculation is first performed over the full system. The resulting occupied MOs are localized and partitioned into two sets, corresponding to subsystems $\\mathrm{A}$ and $\\mathrm{B}$. These sets are used to construct $\\mathbf{h}^{\\mathrm{A-in-B}}$,\n",
    "\n",
    "$$\\mathbf{h}^{\\mathrm{A-in-B}}\\left[\\gamma^{\\mathrm{A}}, \\gamma^{\\mathrm{B}}\\right]=\\mathbf{h}+\\mathbf{v}_{\\mathrm{emb}}\\left[\\gamma^{\\mathrm{A}}, \\gamma^{\\mathrm{B}}\\right]+\\mu \\mathbf{P}^{\\mathrm{B}}$$\n",
    "\n",
    "which is an effective one-electron Hamiltonian containing the standard one-electron Hamiltonian, the embedding potential, and the projection operator. Finally, a correlated WF calculation is performed on subsystem $\\mathrm{A}$ wherein $\\mathbf{h}^{\\mathrm{A-in-B}}$ replaces the standard one-electron Hamiltonian. The final WF-in-DFT energy is given by equation 1.\n",
    "\n",
    "The WF calculation for subsystem $\\mathrm{A}$ consists of two steps: first, a set of reference orbitals is generated, and second, a correlated WF calculation is performed using those orbitals. The reference orbitals can be obtained either via Hartree–Fock (HF) or a multiconfigurational method. For the former case, the subsystem $\\mathrm{A}$ post-HF calculation begins with HF-in-DFT embedding. The HF-in-DFT Fock matrix, $\\mathbf{F}^\\mathrm{A}$, is derived by inserting a Slater determinant for the subsystem $\\mathrm{A}$ WF into equation 1 and differentiating with respect to ${\\widetilde{\\gamma}_{\\mathrm{HF}}^\\mathrm{A}}$, giving\n",
    "\n",
    "\n",
    "$$\\mathbf{F}^\\mathrm{A}=\\frac{\\partial}{\\partial \\widetilde{\\gamma}_{\\mathrm{HF}}^\\mathrm{A}} E_{\\mathrm{HF}-\\mathrm{in}-\\mathrm{DFT}}\\left[\\tilde{\\gamma}_{\\mathrm{HF}}^\\mathrm{A} ; \\gamma^{\\mathrm{A}}, \\gamma^{\\mathrm{B}}\\right]=\\mathbf{h}^{\\mathrm{A}-\\mathrm{in}-\\mathrm{B}}\\left[\\gamma^{\\mathrm{A}}, \\gamma^{\\mathrm{B}}\\right]+\\mathbf{g}\\left[\\tilde{\\gamma}_{\\mathrm{HF}}^{\\mathrm{A}}\\right ]$$\n",
    "\n",
    "\n",
    "where $\\mathbf{g}$ includes all of the usual HF two-electron terms and $\\mathbf{h}^{\\mathrm{A-in-B}}$ represents the effective one-electron Hamiltonian given by equation 2. Once the subsystem $\\mathrm{A}$ HF MOs are optimized in the presence of the DFT embedding potential, they are used for the correlated subsystem $\\mathrm{A}$ post-HF calculation. An analogous procedure holds for the case of multireference methods, wherein a multiconfigurational WF is substituted in place of the single Slater determinant in equation 1. In this way, projection-based WF-in-DFT embedding can be readily performed with any existing WF method (or quantum impurity solver) simply by modifying the one-electron Hamiltonian in the WF method to include the projection-based embedding terms. While projection-based embedding is exact for (same-functional) DFT-in-DFT embedding, projection-based WF-in-DFT embedding is necessarily approximate. For additional details, you can refer to [Manby et al (2012)](https://pubs.acs.org/doi/10.1021/ct300544e)."
   ]
  },
  {
   "cell_type": "markdown",
   "id": "b9df6bc2-ef8f-429a-8ae8-84bcff76d92f",
   "metadata": {},
   "source": [
    "**WF-in-DFT in InQuanto**\n",
    "\n",
    "In InQuanto, WF-in-DFT is partially based on [PsiEmbed](https://psiembed.readthedocs.io/en/master/), a computational chemistry software package tailored for quantum mechanical calculations, particularly focusing on projection-based embedding techniques. To demonstrate this embedding method, we employ the stretched ethane (C$_2$H$_6$) molecule as an example, as depicted below using the NGLView visualizer for InQuanto.\n",
    "\n",
    "Here are the steps outlined:\n",
    "\n",
    "* Define the system\n",
    "* Define the embedded driver \n",
    "* Run VQE to get the ground state energy using the embedded driver"
   ]
  },
  {
   "cell_type": "code",
   "execution_count": null,
   "id": "fb1289e6-a39b-47dd-b02c-7f865cdf50e7",
   "metadata": {},
   "outputs": [],
   "source": [
    "import warnings\n",
    "warnings.filterwarnings('ignore')\n",
    "\n",
    "geometry = [\n",
    "    [\"C\", [ 0.000000000, -0.664929641,  0.141563265]],\n",
    "    [\"C\", [ 0.000000000,  0.664929641,  0.141563265]],\n",
    "    [\"H\", [ 0.923341000, -1.237750972,  0.141563265]],\n",
    "    [\"H\", [-0.923341000, -1.237750972,  0.141563265]],\n",
    "    [\"H\", [ 0.923341000,  1.237750972,  0.141563265]],\n",
    "    [\"H\", [-0.923341000,  1.237750972,  0.141563265]],\n",
    "    [\"H\", [ 0.000000000,  0.000000000, -3.937392259]],\n",
    "    [\"H\", [ 0.000000000,  0.000000000,  4.200000000]],\n",
    "]\n",
    "\n"
   ]
  },
  {
   "cell_type": "markdown",
   "id": "9364d291-e454-42b6-86bd-f56b1d9d0d7a",
   "metadata": {},
   "source": [
    "The NGLView visualizer for InQuanto can be used to display the system."
   ]
  },
  {
   "cell_type": "code",
   "execution_count": null,
   "id": "881678be-c155-49ad-afe1-c5cfc38fad3a",
   "metadata": {},
   "outputs": [],
   "source": [
    "from inquanto.geometries import GeometryMolecular\n",
    "from inquanto.extensions.nglview import VisualizerNGL\n",
    "\n",
    "C2H6_geom = GeometryMolecular(geometry)\n",
    "visualizer = VisualizerNGL(C2H6_geom)"
   ]
  },
  {
   "cell_type": "code",
   "execution_count": null,
   "id": "9a04c699",
   "metadata": {},
   "outputs": [],
   "source": [
    "#visualizer.visualize_molecule()"
   ]
  },
  {
   "cell_type": "markdown",
   "id": "431d19e7",
   "metadata": {},
   "source": [
    "![](_images/wft_dft_1.png)"
   ]
  },
  {
   "cell_type": "markdown",
   "id": "b5a99f1f-63d2-4319-9a24-1971c2656c7b",
   "metadata": {},
   "source": [
    "The initial step involves creating the InQuanto-PySCF projection-based embedding driver (`inquanto.extensions.pyscf.ChemistryDriverPySCFEmbeddingROHF`). This driver is essential for conducting molecular ROHF calculations and storing the outcomes in an InQuanto `QubitOperator`.\n",
    "\n",
    "Parameters used:\n",
    "\n",
    "`geometry` – Molecular geometry.\n",
    "\n",
    "`basis` – Atomic basis set valid for Mole class.\n",
    "\n",
    "`multiplicity` – Spin multiplicity of the total system.\n",
    "\n",
    "`frozen` – Frozen orbital information.\n",
    "\n",
    "`functional` – KS functional to use for the system calculation, or None if RHF is desired.\n",
    "\n",
    "\n",
    "The `FromActiveSpace` function aids in determining the frozen orbital list based on the information provided about the active space. In this context, `ncas` represents the number of active orbitals, and `nelecas` represents the number of active electrons."
   ]
  },
  {
   "cell_type": "code",
   "execution_count": null,
   "id": "52c0d26e",
   "metadata": {},
   "outputs": [],
   "source": [
    "from inquanto.extensions.pyscf import ChemistryDriverPySCFEmbeddingROHF,FromActiveSpace\n",
    "\n",
    "ncas, nelecas = 2, 2\n",
    "\n",
    "driver = ChemistryDriverPySCFEmbeddingROHF(\n",
    "    geometry=geometry,\n",
    "    basis=\"3-21G*\",\n",
    "    multiplicity=3,\n",
    "    frozen=FromActiveSpace(ncas, nelecas),\n",
    "    functional=\"b3lyp5\",\n",
    ")"
   ]
  },
  {
   "cell_type": "markdown",
   "id": "e603c357-d548-4351-8bbb-92d4d7a05c35",
   "metadata": {},
   "source": [
    "Additionally, it's possible to compute the HF energy using the InQuanto driver."
   ]
  },
  {
   "cell_type": "code",
   "execution_count": null,
   "id": "05f8e2c7-1f82-4b95-b3ae-553a998cc7c6",
   "metadata": {},
   "outputs": [
    {
     "data": {
      "text/plain": [
       "-79.0951494122172"
      ]
     },
     "execution_count": null,
     "metadata": {},
     "output_type": "execute_result"
    }
   ],
   "source": [
    "driver.run_hf()"
   ]
  },
  {
   "cell_type": "markdown",
   "id": "f0bb7dc7-8815-45b9-9881-1659e733b2d7",
   "metadata": {},
   "source": [
    "The `get_system` function is responsible for computing the fermionic Hamiltonian operator, Fock space, and Hartree Fock state. The `qubit_encode` function carries out qubit encoding, utilizing the mapping class associated with the current integral operator. The default mapping approach is the Jordan-Wigner method. "
   ]
  },
  {
   "cell_type": "code",
   "execution_count": null,
   "id": "a3b339c2-5136-430d-b6a6-b67046ea0373",
   "metadata": {},
   "outputs": [],
   "source": [
    "chem_hamiltonian, space, state = driver.get_system()\n",
    "\n",
    "qubit_hamiltonian = chem_hamiltonian.qubit_encode()"
   ]
  },
  {
   "cell_type": "markdown",
   "id": "bf8e0488-f679-40ee-9694-88dfdf246d07",
   "metadata": {},
   "source": [
    "To construct our ansatz for the specified fermion space and fermion state, we have employed the Chemically Aware Unitary Coupled Cluster with singles and doubles excitations (UCCSD). The circuit is synthesized using Jordan-Wigner encoding."
   ]
  },
  {
   "cell_type": "code",
   "execution_count": null,
   "id": "6fc80ff8-cafd-4cf1-8ae6-79e6db73dda9",
   "metadata": {},
   "outputs": [],
   "source": [
    "from inquanto.ansatzes import FermionSpaceAnsatzChemicallyAwareUCCSD\n",
    "\n",
    "ansatz = FermionSpaceAnsatzChemicallyAwareUCCSD(space, state)"
   ]
  },
  {
   "cell_type": "markdown",
   "id": "55a494c6-82c9-46fc-9acf-ec0c707947a6",
   "metadata": {},
   "source": [
    "Here, we carry out a straightforward VQE experiment to obtain the ground state energy of our system. For a more extensive guide on executing VQE calculations with InQuanto on quantum computers, we suggest referring to the [ VQE tutorial.](InQ_tut_vqe_1.ipynb) To define where the computation is performed we set the `backend` to `AerStateBackend()`. "
   ]
  },
  {
   "cell_type": "code",
   "execution_count": null,
   "id": "a6e1aff9-6d9b-4d03-9ea8-dd208d5d9303",
   "metadata": {},
   "outputs": [
    {
     "name": "stdout",
     "output_type": "stream",
     "text": [
      "# TIMER BLOCK-1 BEGINS AT 2024-02-15 21:02:39.509513\n",
      "# TIMER BLOCK-1 ENDS - DURATION (s):  0.0184985 [0:00:00.018499]\n"
     ]
    }
   ],
   "source": [
    "from inquanto.express import run_vqe\n",
    "from pytket.extensions.qiskit import AerStateBackend\n",
    "from inquanto.minimizers import MinimizerRotosolve\n",
    "\n",
    "backend = AerStateBackend()\n",
    "\n",
    "vqe = run_vqe(\n",
    "    ansatz,\n",
    "    qubit_hamiltonian,\n",
    "    backend=backend,\n",
    "    with_gradient=False,\n",
    "    minimizer=MinimizerRotosolve(),\n",
    ")"
   ]
  },
  {
   "cell_type": "markdown",
   "id": "70c8311e-4c0a-4b3c-b663-229b95ce4174",
   "metadata": {},
   "source": [
    "Finally, we can print out the calculated energy value using VQE and compare the results with those obtained from CASCI and HF methods."
   ]
  },
  {
   "cell_type": "code",
   "execution_count": null,
   "id": "c88d09a1-165d-4cac-9b18-8a9d5917a3e7",
   "metadata": {},
   "outputs": [
    {
     "data": {
      "text/plain": [
       "-79.15210375702887"
      ]
     },
     "execution_count": null,
     "metadata": {},
     "output_type": "execute_result"
    }
   ],
   "source": [
    "vqe.final_value"
   ]
  }
 ],
 "metadata": {
  "kernelspec": {
   "display_name": "Python 3 (ipykernel)",
   "language": "python",
   "name": "python3"
  },
  "language_info": {
   "codemirror_mode": {
    "name": "ipython",
    "version": 3
   },
   "file_extension": ".py",
   "mimetype": "text/x-python",
   "name": "python",
   "nbconvert_exporter": "python",
   "pygments_lexer": "ipython3",
   "version": "3.11.0"
  }
 },
 "nbformat": 4,
 "nbformat_minor": 5
}
