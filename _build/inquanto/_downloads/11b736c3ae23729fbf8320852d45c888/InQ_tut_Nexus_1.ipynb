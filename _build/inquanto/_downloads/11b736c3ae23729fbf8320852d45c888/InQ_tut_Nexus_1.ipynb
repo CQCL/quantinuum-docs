{
 "cells": [
  {
   "attachments": {},
   "cell_type": "markdown",
   "metadata": {},
   "source": [
    "![Inquanto logo](../_static/inquanto_logo.png)\n",
    "\n",
    "## <b>Tutorial: InQuanto + qnexus</b>\n",
    "\n",
    "<b>Hamiltonian averaging project on H1 Emulator using InQuanto and qnexus to estimate the ground-state energy for CH<sub>2</sub></b>\n",
    "\n",
    "This notebook demonstrates a computable workflow with InQuanto and Nexus. To access Nexus, the user needs to use `inquanto.extensions.nexus` to submit circuits and retrieve results. Today, the intention is to submit circuits to the H1-1 emulator (H1-1E) for execution. Once results are available, they can be retrieved and processed by InQuanto to determine the ground-state energy."
   ]
  },
  {
   "cell_type": "markdown",
   "metadata": {},
   "source": [
    "![Quantinuum Nexus logo](../_static/nexus_logo.png)\n",
    "\n",
    "<b>1. Nexus Project Name Setup</b>\n",
    "\n",
    "We can use a new Nexus project for managing our chemistry jobs, or we can re-use an old one. "
   ]
  },
  {
   "cell_type": "code",
   "execution_count": null,
   "metadata": {},
   "outputs": [
    {
     "name": "stdout",
     "output_type": "stream",
     "text": [
      "\n",
      "Login Successful.\n"
     ]
    }
   ],
   "source": [
    "from qnexus.client import projects\n",
    "\n",
    "project_name = f\"InQuanto::Project\"\n",
    "\n",
    "project_ref = projects.get_or_create(\n",
    "    name=project_name, description=\"A demo project with inquanto-nexus\", properties={}\n",
    ")"
   ]
  },
  {
   "cell_type": "markdown",
   "metadata": {},
   "source": [
    "<b>2. Chemical Specification</b>\n",
    "\n",
    "Here we will run an example calculation on methylene,  CH<sub>2</sub>. \n",
    "\n",
    "Initially, the geometry of CH<sub>2</sub> is specified, loaded into `inquanto.geometries.GeometryMolecular` and rendered as a pandas DataFrame.\n",
    "\n",
    "The geometry we use is from CCSD(T)=FULL/aug-cc-pVTZ level calculations presented on the Computational Chemistry Comparison and Benchmark DataBase. https://cccbdb.nist.gov/"
   ]
  },
  {
   "cell_type": "code",
   "execution_count": null,
   "metadata": {},
   "outputs": [
    {
     "data": {
      "text/html": [
       "<div>\n",
       "<style scoped>\n",
       "    .dataframe tbody tr th:only-of-type {\n",
       "        vertical-align: middle;\n",
       "    }\n",
       "\n",
       "    .dataframe tbody tr th {\n",
       "        vertical-align: top;\n",
       "    }\n",
       "\n",
       "    .dataframe thead th {\n",
       "        text-align: right;\n",
       "    }\n",
       "</style>\n",
       "<table border=\"1\" class=\"dataframe\">\n",
       "  <thead>\n",
       "    <tr style=\"text-align: right;\">\n",
       "      <th></th>\n",
       "      <th>element</th>\n",
       "      <th>x</th>\n",
       "      <th>y</th>\n",
       "      <th>z</th>\n",
       "      <th>atom</th>\n",
       "    </tr>\n",
       "    <tr>\n",
       "      <th>id</th>\n",
       "      <th></th>\n",
       "      <th></th>\n",
       "      <th></th>\n",
       "      <th></th>\n",
       "      <th></th>\n",
       "    </tr>\n",
       "  </thead>\n",
       "  <tbody>\n",
       "    <tr>\n",
       "      <th>0</th>\n",
       "      <td>C</td>\n",
       "      <td>0.0</td>\n",
       "      <td>0.000000</td>\n",
       "      <td>0.105132</td>\n",
       "      <td>C1</td>\n",
       "    </tr>\n",
       "    <tr>\n",
       "      <th>1</th>\n",
       "      <td>H</td>\n",
       "      <td>0.0</td>\n",
       "      <td>0.988263</td>\n",
       "      <td>-0.315396</td>\n",
       "      <td>H2</td>\n",
       "    </tr>\n",
       "    <tr>\n",
       "      <th>2</th>\n",
       "      <td>H</td>\n",
       "      <td>0.0</td>\n",
       "      <td>-0.988263</td>\n",
       "      <td>-0.315396</td>\n",
       "      <td>H3</td>\n",
       "    </tr>\n",
       "  </tbody>\n",
       "</table>\n",
       "</div>"
      ],
      "text/plain": [
       "   element    x         y         z atom\n",
       "id                                      \n",
       "0        C  0.0  0.000000  0.105132   C1\n",
       "1        H  0.0  0.988263 -0.315396   H2\n",
       "2        H  0.0 -0.988263 -0.315396   H3"
      ]
     },
     "execution_count": null,
     "metadata": {},
     "output_type": "execute_result"
    }
   ],
   "source": [
    "from inquanto.geometries import GeometryMolecular\n",
    "\n",
    "xyz = [\n",
    "    [\"C\", [0.0, 0.0, 0.1051320]],\n",
    "    [\"H\", [0.0, 0.9882630,-0.3153960]],\n",
    "    [\"H\", [0.0, -0.9882630, -0.3153960]],\n",
    "]\n",
    "\n",
    "geometry = GeometryMolecular(xyz, \"angstrom\")\n",
    "geometry.df"
   ]
  },
  {
   "cell_type": "markdown",
   "metadata": {},
   "source": [
    "This structure can be visualised using NGLview, via the InQuanto-NGLView extension."
   ]
  },
  {
   "cell_type": "code",
   "execution_count": 1,
   "metadata": {},
   "outputs": [
    {
     "data": {
      "application/vnd.jupyter.widget-view+json": {
       "model_id": "c000374251f6488a8a88ab48df1cca16",
       "version_major": 2,
       "version_minor": 0
      },
      "text/plain": []
     },
     "metadata": {},
     "output_type": "display_data"
    }
   ],
   "source": [
    "#from inquanto.extensions.nglview import VisualizerNGL\n",
    "\n",
    "#visualizer_nglview = VisualizerNGL(geometry)\n",
    "#visualizer_nglview.visualize_molecule()"
   ]
  },
  {
   "cell_type": "markdown",
   "metadata": {},
   "source": [
    "Next, we construct an InQuanto driver object, which is used to prepare the qubit operators and spaces needed to construct the circuits. \n",
    "\n",
    "To do this, we use the InQuanto interface to PySCF. \n",
    "\n",
    "For a basic driver we need to specify the charge and multiplicity of our system. Here we construct a more advanced driver by applying an orbital rotation (transf). This transformation is to the basis of natural orbitals obtained after performing a CASSCF calculation with an active space of 2 electrons in 3 spatial (6-spin) orbitals"
   ]
  },
  {
   "cell_type": "code",
   "execution_count": null,
   "metadata": {},
   "outputs": [
    {
     "name": "stderr",
     "output_type": "stream",
     "text": [
      "/python3.9/site-packages/pyscf/dft/libxc.py:772: UserWarning: Since PySCF-2.3, B3LYP (and B3P86) are changed to the VWN-RPA variant, the same to the B3LYP functional in Gaussian and ORCA (issue 1480). To restore the VWN5 definition, you can put the setting \"B3LYP_WITH_VWN5 = True\" in pyscf_conf.py\n",
      "  warnings.warn('Since PySCF-2.3, B3LYP (and B3P86) are changed to the VWN-RPA variant, '\n"
     ]
    }
   ],
   "source": [
    "from inquanto.extensions.pyscf import (\n",
    "    FromActiveSpace,\n",
    "    ChemistryDriverPySCFMolecularROHF,\n",
    "    CASSCF,\n",
    ")\n",
    "\n",
    "charge = 0\n",
    "basis = \"sto-3g\"\n",
    "multiplicity = 1\n",
    "ncas = 3\n",
    "nelecas = 2\n",
    "frozen = FromActiveSpace(ncas=ncas, nelecas=nelecas) \n",
    "transf = CASSCF(ncas=ncas, nelecas=nelecas)\n",
    "point_group_symmetry=True\n",
    "\n",
    "driver_parameters = {\n",
    "    \"geometry\": geometry, # As a GeometryMolecular object\n",
    "    \"charge\": charge,\n",
    "    \"basis\": basis,\n",
    "    \"transf\": transf,\n",
    "    \"frozen\": frozen,\n",
    "    \"multiplicity\": multiplicity,\n",
    "    \"point_group_symmetry\": True,\n",
    "}\n",
    "\n",
    "driver = ChemistryDriverPySCFMolecularROHF(**driver_parameters)"
   ]
  },
  {
   "cell_type": "markdown",
   "metadata": {},
   "source": [
    "When the driver variables are defined we can use its get_system method to obtain the fermionic hamiltonian, space, and state. We'll carry these objects forward to build our circuits. "
   ]
  },
  {
   "cell_type": "code",
   "execution_count": null,
   "metadata": {},
   "outputs": [],
   "source": [
    "fermion_hamiltonian, fermion_space, fermion_state = driver.get_system()"
   ]
  },
  {
   "cell_type": "markdown",
   "metadata": {},
   "source": [
    "We can also inspect various results of our calculation, such as the point group symmetry or orbital symmetries."
   ]
  },
  {
   "cell_type": "code",
   "execution_count": null,
   "metadata": {},
   "outputs": [
    {
     "data": {
      "text/plain": [
       "'This structure has a point group of C2v'"
      ]
     },
     "execution_count": null,
     "metadata": {},
     "output_type": "execute_result"
    }
   ],
   "source": [
    "f\"This structure has a point group of {driver.point_group}\""
   ]
  },
  {
   "cell_type": "markdown",
   "metadata": {},
   "source": [
    "As well as obtaining the objects needed to construct circuits, we can also use some driver convenience functions to perform classical computational chemistry methods to give results for comparison. \n",
    "\n",
    "Here we calculate Coupled Cluster Singles & Doubles (CCSD) energies classically for comparison. "
   ]
  },
  {
   "cell_type": "code",
   "execution_count": null,
   "metadata": {},
   "outputs": [
    {
     "name": "stdout",
     "output_type": "stream",
     "text": [
      "Hartree Fock (RHF) energy: -38.338090203517844 Ha\n",
      "CCSD energy: -38.35882707387484 Ha\n",
      "CCSD energy correlation energy: 0.020736870356998338 Ha\n"
     ]
    }
   ],
   "source": [
    "ccsd_energy = driver.run_ccsd()\n",
    "scf_energy = driver.run_hf()\n",
    "ccsd_correlation_energy = scf_energy - ccsd_energy \n",
    "# correlation is positive: ccsd should be lower in energy than HF\n",
    "\n",
    "print(f\"Hartree Fock (RHF) energy: {scf_energy} Ha\")\n",
    "print(f\"CCSD energy: {ccsd_energy} Ha\")\n",
    "print(f\"CCSD energy correlation energy: {ccsd_correlation_energy} Ha\") "
   ]
  },
  {
   "cell_type": "markdown",
   "metadata": {},
   "source": [
    "<b>3. Review Hamiltonian</b> \n",
    "\n",
    "Here, we inspect the fermionic Hamiltonian we generated for CH<sub>2</sub> with HF in the STO-3G basis set.  Initially, we view the Fermionic strings. Each index in the string corresponds to action on a spin orbital. The symbol, `^`, following an index denotes electron creation, otherwise it is an electron destroying action. Our Hamiltonian contains 132 Fermionic strings (discluding the identity term)."
   ]
  },
  {
   "cell_type": "code",
   "execution_count": null,
   "metadata": {},
   "outputs": [
    {
     "data": {
      "text/html": [
       "<div>\n",
       "<style scoped>\n",
       "    .dataframe tbody tr th:only-of-type {\n",
       "        vertical-align: middle;\n",
       "    }\n",
       "\n",
       "    .dataframe tbody tr th {\n",
       "        vertical-align: top;\n",
       "    }\n",
       "\n",
       "    .dataframe thead th {\n",
       "        text-align: right;\n",
       "    }\n",
       "</style>\n",
       "<table border=\"1\" class=\"dataframe\">\n",
       "  <thead>\n",
       "    <tr style=\"text-align: right;\">\n",
       "      <th></th>\n",
       "      <th>Coefficients</th>\n",
       "      <th>Terms</th>\n",
       "    </tr>\n",
       "  </thead>\n",
       "  <tbody>\n",
       "    <tr>\n",
       "      <th>0</th>\n",
       "      <td>-37.107696</td>\n",
       "      <td></td>\n",
       "    </tr>\n",
       "    <tr>\n",
       "      <th>1</th>\n",
       "      <td>-0.968197</td>\n",
       "      <td>F0^ F0</td>\n",
       "    </tr>\n",
       "    <tr>\n",
       "      <th>2</th>\n",
       "      <td>-0.030656</td>\n",
       "      <td>F0^ F4</td>\n",
       "    </tr>\n",
       "    <tr>\n",
       "      <th>3</th>\n",
       "      <td>0.353000</td>\n",
       "      <td>F1^ F0^ F0  F1</td>\n",
       "    </tr>\n",
       "    <tr>\n",
       "      <th>4</th>\n",
       "      <td>0.353000</td>\n",
       "      <td>F1^ F0^ F0  F1</td>\n",
       "    </tr>\n",
       "    <tr>\n",
       "      <th>...</th>\n",
       "      <td>...</td>\n",
       "      <td>...</td>\n",
       "    </tr>\n",
       "    <tr>\n",
       "      <th>128</th>\n",
       "      <td>0.024456</td>\n",
       "      <td>F5^ F4^ F2  F3</td>\n",
       "    </tr>\n",
       "    <tr>\n",
       "      <th>129</th>\n",
       "      <td>0.024456</td>\n",
       "      <td>F5^ F4^ F2  F3</td>\n",
       "    </tr>\n",
       "    <tr>\n",
       "      <th>130</th>\n",
       "      <td>0.280721</td>\n",
       "      <td>F5^ F4^ F4  F5</td>\n",
       "    </tr>\n",
       "    <tr>\n",
       "      <th>131</th>\n",
       "      <td>0.280721</td>\n",
       "      <td>F5^ F4^ F4  F5</td>\n",
       "    </tr>\n",
       "    <tr>\n",
       "      <th>132</th>\n",
       "      <td>-0.271034</td>\n",
       "      <td>F5^ F5</td>\n",
       "    </tr>\n",
       "  </tbody>\n",
       "</table>\n",
       "<p>133 rows × 2 columns</p>\n",
       "</div>"
      ],
      "text/plain": [
       "     Coefficients            Terms\n",
       "0      -37.107696                 \n",
       "1       -0.968197          F0^ F0 \n",
       "2       -0.030656          F0^ F4 \n",
       "3        0.353000  F1^ F0^ F0  F1 \n",
       "4        0.353000  F1^ F0^ F0  F1 \n",
       "..            ...              ...\n",
       "128      0.024456  F5^ F4^ F2  F3 \n",
       "129      0.024456  F5^ F4^ F2  F3 \n",
       "130      0.280721  F5^ F4^ F4  F5 \n",
       "131      0.280721  F5^ F4^ F4  F5 \n",
       "132     -0.271034          F5^ F5 \n",
       "\n",
       "[133 rows x 2 columns]"
      ]
     },
     "execution_count": null,
     "metadata": {},
     "output_type": "execute_result"
    }
   ],
   "source": [
    "fermion_hamiltonian.df()"
   ]
  },
  {
   "cell_type": "markdown",
   "metadata": {},
   "source": [
    "The Hamiltonian can now be converted into a qubit representation. We use the Jordan-Wigner transformation to accomplish this task. Each Fermionic string is now transformed to a Pauli operator (`I`, `X`, `Y`, `Z`) acting on a qubit `q[i]`, where: <ul><li>`q` is the name of the qubit register;</li><li>`i` is the qubit index.</li></ul>. We refer to each term in this new representation as 'Pauli word'. After the transformation, the Hamiltonian in the Qubit Pauli basis contains 61 terms, not including identity (`I`)"
   ]
  },
  {
   "cell_type": "code",
   "execution_count": null,
   "metadata": {},
   "outputs": [
    {
     "data": {
      "text/html": [
       "<div>\n",
       "<style scoped>\n",
       "    .dataframe tbody tr th:only-of-type {\n",
       "        vertical-align: middle;\n",
       "    }\n",
       "\n",
       "    .dataframe tbody tr th {\n",
       "        vertical-align: top;\n",
       "    }\n",
       "\n",
       "    .dataframe thead th {\n",
       "        text-align: right;\n",
       "    }\n",
       "</style>\n",
       "<table border=\"1\" class=\"dataframe\">\n",
       "  <thead>\n",
       "    <tr style=\"text-align: right;\">\n",
       "      <th></th>\n",
       "      <th>Coefficient</th>\n",
       "      <th>Term</th>\n",
       "      <th>Coefficient Type</th>\n",
       "    </tr>\n",
       "  </thead>\n",
       "  <tbody>\n",
       "    <tr>\n",
       "      <th>0</th>\n",
       "      <td>-37.272826</td>\n",
       "      <td></td>\n",
       "      <td>&lt;class 'numpy.float64'&gt;</td>\n",
       "    </tr>\n",
       "    <tr>\n",
       "      <th>1</th>\n",
       "      <td>-0.462449</td>\n",
       "      <td>Z5</td>\n",
       "      <td>&lt;class 'numpy.float64'&gt;</td>\n",
       "    </tr>\n",
       "    <tr>\n",
       "      <th>2</th>\n",
       "      <td>-0.462449</td>\n",
       "      <td>Z4</td>\n",
       "      <td>&lt;class 'numpy.float64'&gt;</td>\n",
       "    </tr>\n",
       "    <tr>\n",
       "      <th>3</th>\n",
       "      <td>0.140360</td>\n",
       "      <td>Z4 Z5</td>\n",
       "      <td>&lt;class 'numpy.float64'&gt;</td>\n",
       "    </tr>\n",
       "    <tr>\n",
       "      <th>4</th>\n",
       "      <td>-0.243190</td>\n",
       "      <td>Z3</td>\n",
       "      <td>&lt;class 'numpy.float64'&gt;</td>\n",
       "    </tr>\n",
       "    <tr>\n",
       "      <th>...</th>\n",
       "      <td>...</td>\n",
       "      <td>...</td>\n",
       "      <td>...</td>\n",
       "    </tr>\n",
       "    <tr>\n",
       "      <th>57</th>\n",
       "      <td>0.148791</td>\n",
       "      <td>Z0 Z3</td>\n",
       "      <td>&lt;class 'numpy.float64'&gt;</td>\n",
       "    </tr>\n",
       "    <tr>\n",
       "      <th>58</th>\n",
       "      <td>0.135623</td>\n",
       "      <td>Z0 Z2</td>\n",
       "      <td>&lt;class 'numpy.float64'&gt;</td>\n",
       "    </tr>\n",
       "    <tr>\n",
       "      <th>59</th>\n",
       "      <td>-0.005837</td>\n",
       "      <td>Z0 X1 Z2 Z3 Z4 X5</td>\n",
       "      <td>&lt;class 'numpy.float64'&gt;</td>\n",
       "    </tr>\n",
       "    <tr>\n",
       "      <th>60</th>\n",
       "      <td>-0.005837</td>\n",
       "      <td>Z0 Y1 Z2 Z3 Z4 Y5</td>\n",
       "      <td>&lt;class 'numpy.float64'&gt;</td>\n",
       "    </tr>\n",
       "    <tr>\n",
       "      <th>61</th>\n",
       "      <td>0.176500</td>\n",
       "      <td>Z0 Z1</td>\n",
       "      <td>&lt;class 'numpy.float64'&gt;</td>\n",
       "    </tr>\n",
       "  </tbody>\n",
       "</table>\n",
       "<p>62 rows × 3 columns</p>\n",
       "</div>"
      ],
      "text/plain": [
       "    Coefficient               Term         Coefficient Type\n",
       "0    -37.272826                     <class 'numpy.float64'>\n",
       "1     -0.462449                 Z5  <class 'numpy.float64'>\n",
       "2     -0.462449                 Z4  <class 'numpy.float64'>\n",
       "3      0.140360              Z4 Z5  <class 'numpy.float64'>\n",
       "4     -0.243190                 Z3  <class 'numpy.float64'>\n",
       "..          ...                ...                      ...\n",
       "57     0.148791              Z0 Z3  <class 'numpy.float64'>\n",
       "58     0.135623              Z0 Z2  <class 'numpy.float64'>\n",
       "59    -0.005837  Z0 X1 Z2 Z3 Z4 X5  <class 'numpy.float64'>\n",
       "60    -0.005837  Z0 Y1 Z2 Z3 Z4 Y5  <class 'numpy.float64'>\n",
       "61     0.176500              Z0 Z1  <class 'numpy.float64'>\n",
       "\n",
       "[62 rows x 3 columns]"
      ]
     },
     "execution_count": null,
     "metadata": {},
     "output_type": "execute_result"
    }
   ],
   "source": [
    "from inquanto.mappings import QubitMappingJordanWigner\n",
    "\n",
    "jw_map = QubitMappingJordanWigner()\n",
    "qubit_hamiltonian_jw = fermion_hamiltonian.qubit_encode(jw_map)\n",
    "qubit_hamiltonian_jw.df()"
   ]
  },
  {
   "cell_type": "markdown",
   "metadata": {},
   "source": [
    "<b>4. Chemically Aware Unitary Coupled Cluster State-Preparation</b>\n",
    "\n",
    "We now build the Unitary Coupled Cluster Singles & Doubles (UCCSD) state-preparation circuit. This captures a similar level of electronic correlation as classical CCSD. "
   ]
  },
  {
   "cell_type": "markdown",
   "metadata": {},
   "source": [
    "Inside the state and space from our driver is symmetry information and orbital occupancies, which are now inputted into the `FermionSpaceAnsatzChemicallyAwareUCCSD` object to generate the UCCSD state-preparation circuit. We can inspect some of this data as such:"
   ]
  },
  {
   "cell_type": "code",
   "execution_count": null,
   "metadata": {},
   "outputs": [
    {
     "name": "stdout",
     "output_type": "stream",
     "text": [
      " 0 0a         :  1    \n",
      " 1 0b         :  1    \n",
      " 2 1a         :  0    \n",
      " 3 1b         :  0    \n",
      " 4 2a         :  0    \n",
      " 5 2b         :  0    \n"
     ]
    }
   ],
   "source": [
    "fermion_space.print_state(fermion_state)"
   ]
  },
  {
   "cell_type": "markdown",
   "metadata": {},
   "source": [
    "Then, we use these quantities to build the ansatz state-preparation circuit:"
   ]
  },
  {
   "cell_type": "code",
   "execution_count": null,
   "metadata": {},
   "outputs": [],
   "source": [
    "from inquanto.ansatzes import FermionSpaceAnsatzChemicallyAwareUCCSD\n",
    "from pytket.circuit import OpType\n",
    "\n",
    "ansatz = FermionSpaceAnsatzChemicallyAwareUCCSD(fermion_space, fermion_state)\n"
   ]
  },
  {
   "cell_type": "markdown",
   "metadata": {},
   "source": [
    "As a first, we print some basic circuit statistics:<ul><li># of qubits;</li><li># of symbols;</li><li># of CX gates.</li></ul>"
   ]
  },
  {
   "cell_type": "code",
   "execution_count": null,
   "metadata": {},
   "outputs": [
    {
     "name": "stdout",
     "output_type": "stream",
     "text": [
      "# of qubits: 6\n",
      "# of symbols: 4\n",
      "# of CX gates: 23\n"
     ]
    }
   ],
   "source": [
    "\n",
    "print(f\"# of qubits: {ansatz.n_qubits}\")\n",
    "print(f\"# of symbols: {ansatz.n_symbols}\")\n",
    "print(f\"# of 2=qubit gates: {ansatz.circuit_resources()['gates_2q']}\")"
   ]
  },
  {
   "cell_type": "markdown",
   "metadata": {},
   "source": [
    "We can also render the State-Preparation circuit in jupyter for inspection"
   ]
  },
  {
   "cell_type": "code",
   "execution_count": null,
   "metadata": {},
   "outputs": [
    {
     "data": {
      "text/html": [
       "\n",
       "\n",
       "\n",
       "\n",
       "\n",
       "\n",
       "<div style=\"resize: vertical; overflow: auto; height: 400px; display: block\">\n",
       "    <iframe srcdoc=\"\n",
       "&lt;!DOCTYPE html&gt;\n",
       "&lt;html lang=&#34;en&#34;&gt;\n",
       "&lt;head&gt;\n",
       "    &lt;meta charset=&#34;UTF-8&#34;&gt;\n",
       "    &lt;!-- Download Vue 3--&gt;\n",
       "&lt;script type=&#34;application/javascript&#34; src=&#34;https://cdn.jsdelivr.net/npm/vue@3&#34;&gt;&lt;/script&gt;\n",
       "&lt;!-- Download Circuit Renderer with styles --&gt;\n",
       "&lt;script type=&#34;application/javascript&#34; src=&#34;https://unpkg.com/pytket-circuit-renderer@0.6/dist/pytket-circuit-renderer.umd.js&#34;&gt;&lt;/script&gt;\n",
       "&lt;link rel=&#34;stylesheet&#34; href=&#34;https://unpkg.com/pytket-circuit-renderer@0.6/dist/pytket-circuit-renderer.css&#34;&gt;\n",
       "&lt;/head&gt;\n",
       "&lt;body&gt;\n",
       "\n",
       "\n",
       "\n",
       "    &lt;div id=&#34;circuit-display-vue-container-a192c444-059f-4c30-9101-f78b16d722fe&#34; class=&#34;pytket-circuit-display-container&#34;&gt;\n",
       "        &lt;div style=&#34;display: none&#34;&gt;\n",
       "            &lt;div id=&#34;circuit-json-to-display&#34;&gt;{&#34;bits&#34;: [], &#34;commands&#34;: [{&#34;args&#34;: [[&#34;q&#34;, [0]]], &#34;op&#34;: {&#34;type&#34;: &#34;X&#34;}}, {&#34;args&#34;: [[&#34;q&#34;, [1]]], &#34;op&#34;: {&#34;type&#34;: &#34;S&#34;}}, {&#34;args&#34;: [[&#34;q&#34;, [2]]], &#34;op&#34;: {&#34;type&#34;: &#34;V&#34;}}, {&#34;args&#34;: [[&#34;q&#34;, [3]]], &#34;op&#34;: {&#34;type&#34;: &#34;S&#34;}}, {&#34;args&#34;: [[&#34;q&#34;, [4]]], &#34;op&#34;: {&#34;type&#34;: &#34;S&#34;}}, {&#34;args&#34;: [[&#34;q&#34;, [5]]], &#34;op&#34;: {&#34;type&#34;: &#34;S&#34;}}, {&#34;args&#34;: [[&#34;q&#34;, [0]]], &#34;op&#34;: {&#34;type&#34;: &#34;Sdg&#34;}}, {&#34;args&#34;: [[&#34;q&#34;, [1]]], &#34;op&#34;: {&#34;type&#34;: &#34;H&#34;}}, {&#34;args&#34;: [[&#34;q&#34;, [3]]], &#34;op&#34;: {&#34;type&#34;: &#34;H&#34;}}, {&#34;args&#34;: [[&#34;q&#34;, [4]]], &#34;op&#34;: {&#34;type&#34;: &#34;H&#34;}}, {&#34;args&#34;: [[&#34;q&#34;, [5]]], &#34;op&#34;: {&#34;type&#34;: &#34;H&#34;}}, {&#34;args&#34;: [[&#34;q&#34;, [0]]], &#34;op&#34;: {&#34;type&#34;: &#34;Vdg&#34;}}, {&#34;args&#34;: [[&#34;q&#34;, [1]]], &#34;op&#34;: {&#34;type&#34;: &#34;S&#34;}}, {&#34;args&#34;: [[&#34;q&#34;, [3]]], &#34;op&#34;: {&#34;type&#34;: &#34;S&#34;}}, {&#34;args&#34;: [[&#34;q&#34;, [4]]], &#34;op&#34;: {&#34;type&#34;: &#34;S&#34;}}, {&#34;args&#34;: [[&#34;q&#34;, [5]]], &#34;op&#34;: {&#34;type&#34;: &#34;S&#34;}}, {&#34;args&#34;: [[&#34;q&#34;, [2]], [&#34;q&#34;, [0]]], &#34;op&#34;: {&#34;type&#34;: &#34;CX&#34;}}, {&#34;args&#34;: [[&#34;q&#34;, [1]]], &#34;op&#34;: {&#34;type&#34;: &#34;V&#34;}}, {&#34;args&#34;: [[&#34;q&#34;, [3]]], &#34;op&#34;: {&#34;type&#34;: &#34;V&#34;}}, {&#34;args&#34;: [[&#34;q&#34;, [4]]], &#34;op&#34;: {&#34;type&#34;: &#34;V&#34;}}, {&#34;args&#34;: [[&#34;q&#34;, [5]]], &#34;op&#34;: {&#34;type&#34;: &#34;V&#34;}}, {&#34;args&#34;: [[&#34;q&#34;, [0]]], &#34;op&#34;: {&#34;params&#34;: [&#34;1.0*d0/pi&#34;], &#34;type&#34;: &#34;Rz&#34;}}, {&#34;args&#34;: [[&#34;q&#34;, [1]]], &#34;op&#34;: {&#34;type&#34;: &#34;S&#34;}}, {&#34;args&#34;: [[&#34;q&#34;, [2]]], &#34;op&#34;: {&#34;type&#34;: &#34;H&#34;}}, {&#34;args&#34;: [[&#34;q&#34;, [3]]], &#34;op&#34;: {&#34;type&#34;: &#34;S&#34;}}, {&#34;args&#34;: [[&#34;q&#34;, [4]]], &#34;op&#34;: {&#34;type&#34;: &#34;V&#34;}}, {&#34;args&#34;: [[&#34;q&#34;, [5]]], &#34;op&#34;: {&#34;type&#34;: &#34;S&#34;}}, {&#34;args&#34;: [[&#34;q&#34;, [1]]], &#34;op&#34;: {&#34;type&#34;: &#34;H&#34;}}, {&#34;args&#34;: [[&#34;q&#34;, [2]]], &#34;op&#34;: {&#34;params&#34;: [&#34;-1.0*d0/pi&#34;], &#34;type&#34;: &#34;Rz&#34;}}, {&#34;args&#34;: [[&#34;q&#34;, [3]]], &#34;op&#34;: {&#34;type&#34;: &#34;H&#34;}}, {&#34;args&#34;: [[&#34;q&#34;, [5]]], &#34;op&#34;: {&#34;type&#34;: &#34;H&#34;}}, {&#34;args&#34;: [[&#34;q&#34;, [1]]], &#34;op&#34;: {&#34;type&#34;: &#34;S&#34;}}, {&#34;args&#34;: [[&#34;q&#34;, [2]]], &#34;op&#34;: {&#34;type&#34;: &#34;H&#34;}}, {&#34;args&#34;: [[&#34;q&#34;, [3]]], &#34;op&#34;: {&#34;type&#34;: &#34;S&#34;}}, {&#34;args&#34;: [[&#34;q&#34;, [5]]], &#34;op&#34;: {&#34;type&#34;: &#34;S&#34;}}, {&#34;args&#34;: [[&#34;q&#34;, [2]], [&#34;q&#34;, [0]]], &#34;op&#34;: {&#34;type&#34;: &#34;CX&#34;}}, {&#34;args&#34;: [[&#34;q&#34;, [1]]], &#34;op&#34;: {&#34;type&#34;: &#34;V&#34;}}, {&#34;args&#34;: [[&#34;q&#34;, [3]]], &#34;op&#34;: {&#34;type&#34;: &#34;V&#34;}}, {&#34;args&#34;: [[&#34;q&#34;, [5]]], &#34;op&#34;: {&#34;type&#34;: &#34;V&#34;}}, {&#34;args&#34;: [[&#34;q&#34;, [0]]], &#34;op&#34;: {&#34;type&#34;: &#34;V&#34;}}, {&#34;args&#34;: [[&#34;q&#34;, [2]]], &#34;op&#34;: {&#34;type&#34;: &#34;Vdg&#34;}}, {&#34;args&#34;: [[&#34;q&#34;, [0]]], &#34;op&#34;: {&#34;type&#34;: &#34;S&#34;}}, {&#34;args&#34;: [[&#34;q&#34;, [2]]], &#34;op&#34;: {&#34;type&#34;: &#34;S&#34;}}, {&#34;args&#34;: [[&#34;q&#34;, [0]]], &#34;op&#34;: {&#34;type&#34;: &#34;S&#34;}}, {&#34;args&#34;: [[&#34;q&#34;, [2]]], &#34;op&#34;: {&#34;type&#34;: &#34;H&#34;}}, {&#34;args&#34;: [[&#34;q&#34;, [0]]], &#34;op&#34;: {&#34;type&#34;: &#34;H&#34;}}, {&#34;args&#34;: [[&#34;q&#34;, [2]]], &#34;op&#34;: {&#34;type&#34;: &#34;S&#34;}}, {&#34;args&#34;: [[&#34;q&#34;, [0]]], &#34;op&#34;: {&#34;type&#34;: &#34;S&#34;}}, {&#34;args&#34;: [[&#34;q&#34;, [2]]], &#34;op&#34;: {&#34;type&#34;: &#34;V&#34;}}, {&#34;args&#34;: [[&#34;q&#34;, [0]]], &#34;op&#34;: {&#34;type&#34;: &#34;V&#34;}}, {&#34;args&#34;: [[&#34;q&#34;, [2]]], &#34;op&#34;: {&#34;type&#34;: &#34;S&#34;}}, {&#34;args&#34;: [[&#34;q&#34;, [0]]], &#34;op&#34;: {&#34;type&#34;: &#34;Sdg&#34;}}, {&#34;args&#34;: [[&#34;q&#34;, [2]]], &#34;op&#34;: {&#34;type&#34;: &#34;H&#34;}}, {&#34;args&#34;: [[&#34;q&#34;, [0]]], &#34;op&#34;: {&#34;type&#34;: &#34;Vdg&#34;}}, {&#34;args&#34;: [[&#34;q&#34;, [2]]], &#34;op&#34;: {&#34;type&#34;: &#34;S&#34;}}, {&#34;args&#34;: [[&#34;q&#34;, [4]], [&#34;q&#34;, [0]]], &#34;op&#34;: {&#34;type&#34;: &#34;CX&#34;}}, {&#34;args&#34;: [[&#34;q&#34;, [2]]], &#34;op&#34;: {&#34;type&#34;: &#34;V&#34;}}, {&#34;args&#34;: [[&#34;q&#34;, [0]]], &#34;op&#34;: {&#34;params&#34;: [&#34;1.0*d1/pi&#34;], &#34;type&#34;: &#34;Rz&#34;}}, {&#34;args&#34;: [[&#34;q&#34;, [2]], [&#34;q&#34;, [3]]], &#34;op&#34;: {&#34;type&#34;: &#34;CX&#34;}}, {&#34;args&#34;: [[&#34;q&#34;, [4]]], &#34;op&#34;: {&#34;type&#34;: &#34;H&#34;}}, {&#34;args&#34;: [[&#34;q&#34;, [3]], [&#34;q&#34;, [2]]], &#34;op&#34;: {&#34;type&#34;: &#34;CX&#34;}}, {&#34;args&#34;: [[&#34;q&#34;, [4]]], &#34;op&#34;: {&#34;params&#34;: [&#34;-1.0*d1/pi&#34;], &#34;type&#34;: &#34;Rz&#34;}}, {&#34;args&#34;: [[&#34;q&#34;, [4]]], &#34;op&#34;: {&#34;type&#34;: &#34;H&#34;}}, {&#34;args&#34;: [[&#34;q&#34;, [4]], [&#34;q&#34;, [0]]], &#34;op&#34;: {&#34;type&#34;: &#34;CX&#34;}}, {&#34;args&#34;: [[&#34;q&#34;, [0]]], &#34;op&#34;: {&#34;type&#34;: &#34;V&#34;}}, {&#34;args&#34;: [[&#34;q&#34;, [4]]], &#34;op&#34;: {&#34;type&#34;: &#34;Vdg&#34;}}, {&#34;args&#34;: [[&#34;q&#34;, [0]]], &#34;op&#34;: {&#34;type&#34;: &#34;S&#34;}}, {&#34;args&#34;: [[&#34;q&#34;, [4]]], &#34;op&#34;: {&#34;type&#34;: &#34;S&#34;}}, {&#34;args&#34;: [[&#34;q&#34;, [0]]], &#34;op&#34;: {&#34;type&#34;: &#34;S&#34;}}, {&#34;args&#34;: [[&#34;q&#34;, [4]]], &#34;op&#34;: {&#34;type&#34;: &#34;H&#34;}}, {&#34;args&#34;: [[&#34;q&#34;, [0]]], &#34;op&#34;: {&#34;type&#34;: &#34;H&#34;}}, {&#34;args&#34;: [[&#34;q&#34;, [4]]], &#34;op&#34;: {&#34;type&#34;: &#34;S&#34;}}, {&#34;args&#34;: [[&#34;q&#34;, [0]]], &#34;op&#34;: {&#34;type&#34;: &#34;S&#34;}}, {&#34;args&#34;: [[&#34;q&#34;, [4]]], &#34;op&#34;: {&#34;type&#34;: &#34;V&#34;}}, {&#34;args&#34;: [[&#34;q&#34;, [0]]], &#34;op&#34;: {&#34;type&#34;: &#34;V&#34;}}, {&#34;args&#34;: [[&#34;q&#34;, [4]], [&#34;q&#34;, [5]]], &#34;op&#34;: {&#34;type&#34;: &#34;CX&#34;}}, {&#34;args&#34;: [[&#34;q&#34;, [0]], [&#34;q&#34;, [1]]], &#34;op&#34;: {&#34;type&#34;: &#34;CX&#34;}}, {&#34;args&#34;: [[&#34;q&#34;, [4]]], &#34;op&#34;: {&#34;type&#34;: &#34;V&#34;}}, {&#34;args&#34;: [[&#34;q&#34;, [5]]], &#34;op&#34;: {&#34;type&#34;: &#34;S&#34;}}, {&#34;args&#34;: [[&#34;q&#34;, [0]]], &#34;op&#34;: {&#34;type&#34;: &#34;Sdg&#34;}}, {&#34;args&#34;: [[&#34;q&#34;, [2]], [&#34;q&#34;, [1]]], &#34;op&#34;: {&#34;type&#34;: &#34;CX&#34;}}, {&#34;args&#34;: [[&#34;q&#34;, [4]]], &#34;op&#34;: {&#34;type&#34;: &#34;S&#34;}}, {&#34;args&#34;: [[&#34;q&#34;, [5]]], &#34;op&#34;: {&#34;type&#34;: &#34;H&#34;}}, {&#34;args&#34;: [[&#34;q&#34;, [0]]], &#34;op&#34;: {&#34;type&#34;: &#34;Vdg&#34;}}, {&#34;args&#34;: [[&#34;q&#34;, [1]], [&#34;q&#34;, [4]]], &#34;op&#34;: {&#34;type&#34;: &#34;CX&#34;}}, {&#34;args&#34;: [[&#34;q&#34;, [5]]], &#34;op&#34;: {&#34;type&#34;: &#34;S&#34;}}, {&#34;args&#34;: [[&#34;q&#34;, [4]]], &#34;op&#34;: {&#34;type&#34;: &#34;Sdg&#34;}}, {&#34;args&#34;: [[&#34;q&#34;, [5]]], &#34;op&#34;: {&#34;type&#34;: &#34;V&#34;}}, {&#34;args&#34;: [[&#34;q&#34;, [4]], [&#34;q&#34;, [0]]], &#34;op&#34;: {&#34;type&#34;: &#34;CX&#34;}}, {&#34;args&#34;: [[&#34;q&#34;, [5]]], &#34;op&#34;: {&#34;type&#34;: &#34;V&#34;}}, {&#34;args&#34;: [[&#34;q&#34;, [0]]], &#34;op&#34;: {&#34;params&#34;: [&#34;1.0*s0/pi&#34;], &#34;type&#34;: &#34;Rz&#34;}}, {&#34;args&#34;: [[&#34;q&#34;, [4]]], &#34;op&#34;: {&#34;type&#34;: &#34;H&#34;}}, {&#34;args&#34;: [[&#34;q&#34;, [5]]], &#34;op&#34;: {&#34;type&#34;: &#34;S&#34;}}, {&#34;args&#34;: [[&#34;q&#34;, [4]]], &#34;op&#34;: {&#34;params&#34;: [&#34;-1.0*s0/pi&#34;], &#34;type&#34;: &#34;Rz&#34;}}, {&#34;args&#34;: [[&#34;q&#34;, [4]]], &#34;op&#34;: {&#34;type&#34;: &#34;H&#34;}}, {&#34;args&#34;: [[&#34;q&#34;, [4]], [&#34;q&#34;, [0]]], &#34;op&#34;: {&#34;type&#34;: &#34;CX&#34;}}, {&#34;args&#34;: [[&#34;q&#34;, [0]]], &#34;op&#34;: {&#34;type&#34;: &#34;V&#34;}}, {&#34;args&#34;: [[&#34;q&#34;, [4]]], &#34;op&#34;: {&#34;type&#34;: &#34;S&#34;}}, {&#34;args&#34;: [[&#34;q&#34;, [0]]], &#34;op&#34;: {&#34;type&#34;: &#34;S&#34;}}, {&#34;args&#34;: [[&#34;q&#34;, [1]], [&#34;q&#34;, [4]]], &#34;op&#34;: {&#34;type&#34;: &#34;CX&#34;}}, {&#34;args&#34;: [[&#34;q&#34;, [0]]], &#34;op&#34;: {&#34;type&#34;: &#34;S&#34;}}, {&#34;args&#34;: [[&#34;q&#34;, [2]], [&#34;q&#34;, [1]]], &#34;op&#34;: {&#34;type&#34;: &#34;CX&#34;}}, {&#34;args&#34;: [[&#34;q&#34;, [4]]], &#34;op&#34;: {&#34;type&#34;: &#34;Sdg&#34;}}, {&#34;args&#34;: [[&#34;q&#34;, [0]]], &#34;op&#34;: {&#34;type&#34;: &#34;H&#34;}}, {&#34;args&#34;: [[&#34;q&#34;, [1]]], &#34;op&#34;: {&#34;type&#34;: &#34;S&#34;}}, {&#34;args&#34;: [[&#34;q&#34;, [3]], [&#34;q&#34;, [2]]], &#34;op&#34;: {&#34;type&#34;: &#34;CX&#34;}}, {&#34;args&#34;: [[&#34;q&#34;, [4]]], &#34;op&#34;: {&#34;type&#34;: &#34;Vdg&#34;}}, {&#34;args&#34;: [[&#34;q&#34;, [0]]], &#34;op&#34;: {&#34;type&#34;: &#34;S&#34;}}, {&#34;args&#34;: [[&#34;q&#34;, [1]]], &#34;op&#34;: {&#34;type&#34;: &#34;H&#34;}}, {&#34;args&#34;: [[&#34;q&#34;, [2]]], &#34;op&#34;: {&#34;type&#34;: &#34;S&#34;}}, {&#34;args&#34;: [[&#34;q&#34;, [3]]], &#34;op&#34;: {&#34;type&#34;: &#34;S&#34;}}, {&#34;args&#34;: [[&#34;q&#34;, [4]]], &#34;op&#34;: {&#34;type&#34;: &#34;S&#34;}}, {&#34;args&#34;: [[&#34;q&#34;, [0]]], &#34;op&#34;: {&#34;type&#34;: &#34;V&#34;}}, {&#34;args&#34;: [[&#34;q&#34;, [1]]], &#34;op&#34;: {&#34;type&#34;: &#34;S&#34;}}, {&#34;args&#34;: [[&#34;q&#34;, [2]]], &#34;op&#34;: {&#34;type&#34;: &#34;H&#34;}}, {&#34;args&#34;: [[&#34;q&#34;, [3]]], &#34;op&#34;: {&#34;type&#34;: &#34;H&#34;}}, {&#34;args&#34;: [[&#34;q&#34;, [4]]], &#34;op&#34;: {&#34;type&#34;: &#34;H&#34;}}, {&#34;args&#34;: [[&#34;q&#34;, [0]]], &#34;op&#34;: {&#34;type&#34;: &#34;S&#34;}}, {&#34;args&#34;: [[&#34;q&#34;, [1]]], &#34;op&#34;: {&#34;type&#34;: &#34;V&#34;}}, {&#34;args&#34;: [[&#34;q&#34;, [2]]], &#34;op&#34;: {&#34;type&#34;: &#34;S&#34;}}, {&#34;args&#34;: [[&#34;q&#34;, [3]]], &#34;op&#34;: {&#34;type&#34;: &#34;S&#34;}}, {&#34;args&#34;: [[&#34;q&#34;, [4]]], &#34;op&#34;: {&#34;type&#34;: &#34;S&#34;}}, {&#34;args&#34;: [[&#34;q&#34;, [0]]], &#34;op&#34;: {&#34;type&#34;: &#34;H&#34;}}, {&#34;args&#34;: [[&#34;q&#34;, [1]]], &#34;op&#34;: {&#34;type&#34;: &#34;Sdg&#34;}}, {&#34;args&#34;: [[&#34;q&#34;, [2]]], &#34;op&#34;: {&#34;type&#34;: &#34;V&#34;}}, {&#34;args&#34;: [[&#34;q&#34;, [3]]], &#34;op&#34;: {&#34;type&#34;: &#34;V&#34;}}, {&#34;args&#34;: [[&#34;q&#34;, [4]]], &#34;op&#34;: {&#34;type&#34;: &#34;V&#34;}}, {&#34;args&#34;: [[&#34;q&#34;, [0]]], &#34;op&#34;: {&#34;type&#34;: &#34;S&#34;}}, {&#34;args&#34;: [[&#34;q&#34;, [1]]], &#34;op&#34;: {&#34;type&#34;: &#34;Vdg&#34;}}, {&#34;args&#34;: [[&#34;q&#34;, [4]], [&#34;q&#34;, [3]]], &#34;op&#34;: {&#34;type&#34;: &#34;CX&#34;}}, {&#34;args&#34;: [[&#34;q&#34;, [0]]], &#34;op&#34;: {&#34;type&#34;: &#34;V&#34;}}, {&#34;args&#34;: [[&#34;q&#34;, [3]], [&#34;q&#34;, [2]]], &#34;op&#34;: {&#34;type&#34;: &#34;CX&#34;}}, {&#34;args&#34;: [[&#34;q&#34;, [2]], [&#34;q&#34;, [5]]], &#34;op&#34;: {&#34;type&#34;: &#34;CX&#34;}}, {&#34;args&#34;: [[&#34;q&#34;, [5]]], &#34;op&#34;: {&#34;type&#34;: &#34;Sdg&#34;}}, {&#34;args&#34;: [[&#34;q&#34;, [5]], [&#34;q&#34;, [1]]], &#34;op&#34;: {&#34;type&#34;: &#34;CX&#34;}}, {&#34;args&#34;: [[&#34;q&#34;, [1]]], &#34;op&#34;: {&#34;params&#34;: [&#34;1.0*s1/pi&#34;], &#34;type&#34;: &#34;Rz&#34;}}, {&#34;args&#34;: [[&#34;q&#34;, [5]]], &#34;op&#34;: {&#34;type&#34;: &#34;H&#34;}}, {&#34;args&#34;: [[&#34;q&#34;, [5]]], &#34;op&#34;: {&#34;params&#34;: [&#34;-1.0*s1/pi&#34;], &#34;type&#34;: &#34;Rz&#34;}}, {&#34;args&#34;: [[&#34;q&#34;, [5]]], &#34;op&#34;: {&#34;type&#34;: &#34;H&#34;}}, {&#34;args&#34;: [[&#34;q&#34;, [5]], [&#34;q&#34;, [1]]], &#34;op&#34;: {&#34;type&#34;: &#34;CX&#34;}}, {&#34;args&#34;: [[&#34;q&#34;, [1]]], &#34;op&#34;: {&#34;type&#34;: &#34;V&#34;}}, {&#34;args&#34;: [[&#34;q&#34;, [5]]], &#34;op&#34;: {&#34;type&#34;: &#34;S&#34;}}, {&#34;args&#34;: [[&#34;q&#34;, [1]]], &#34;op&#34;: {&#34;type&#34;: &#34;S&#34;}}, {&#34;args&#34;: [[&#34;q&#34;, [2]], [&#34;q&#34;, [5]]], &#34;op&#34;: {&#34;type&#34;: &#34;CX&#34;}}, {&#34;args&#34;: [[&#34;q&#34;, [1]]], &#34;op&#34;: {&#34;type&#34;: &#34;S&#34;}}, {&#34;args&#34;: [[&#34;q&#34;, [3]], [&#34;q&#34;, [2]]], &#34;op&#34;: {&#34;type&#34;: &#34;CX&#34;}}, {&#34;args&#34;: [[&#34;q&#34;, [5]]], &#34;op&#34;: {&#34;type&#34;: &#34;Sdg&#34;}}, {&#34;args&#34;: [[&#34;q&#34;, [1]]], &#34;op&#34;: {&#34;type&#34;: &#34;H&#34;}}, {&#34;args&#34;: [[&#34;q&#34;, [2]]], &#34;op&#34;: {&#34;type&#34;: &#34;S&#34;}}, {&#34;args&#34;: [[&#34;q&#34;, [4]], [&#34;q&#34;, [3]]], &#34;op&#34;: {&#34;type&#34;: &#34;CX&#34;}}, {&#34;args&#34;: [[&#34;q&#34;, [5]]], &#34;op&#34;: {&#34;type&#34;: &#34;Vdg&#34;}}, {&#34;args&#34;: [[&#34;q&#34;, [1]]], &#34;op&#34;: {&#34;type&#34;: &#34;S&#34;}}, {&#34;args&#34;: [[&#34;q&#34;, [2]]], &#34;op&#34;: {&#34;type&#34;: &#34;H&#34;}}, {&#34;args&#34;: [[&#34;q&#34;, [3]]], &#34;op&#34;: {&#34;type&#34;: &#34;S&#34;}}, {&#34;args&#34;: [[&#34;q&#34;, [4]]], &#34;op&#34;: {&#34;type&#34;: &#34;S&#34;}}, {&#34;args&#34;: [[&#34;q&#34;, [5]]], &#34;op&#34;: {&#34;type&#34;: &#34;S&#34;}}, {&#34;args&#34;: [[&#34;q&#34;, [1]]], &#34;op&#34;: {&#34;type&#34;: &#34;V&#34;}}, {&#34;args&#34;: [[&#34;q&#34;, [2]]], &#34;op&#34;: {&#34;type&#34;: &#34;S&#34;}}, {&#34;args&#34;: [[&#34;q&#34;, [3]]], &#34;op&#34;: {&#34;type&#34;: &#34;H&#34;}}, {&#34;args&#34;: [[&#34;q&#34;, [4]]], &#34;op&#34;: {&#34;type&#34;: &#34;H&#34;}}, {&#34;args&#34;: [[&#34;q&#34;, [5]]], &#34;op&#34;: {&#34;type&#34;: &#34;H&#34;}}, {&#34;args&#34;: [[&#34;q&#34;, [2]]], &#34;op&#34;: {&#34;type&#34;: &#34;V&#34;}}, {&#34;args&#34;: [[&#34;q&#34;, [3]]], &#34;op&#34;: {&#34;type&#34;: &#34;S&#34;}}, {&#34;args&#34;: [[&#34;q&#34;, [4]]], &#34;op&#34;: {&#34;type&#34;: &#34;S&#34;}}, {&#34;args&#34;: [[&#34;q&#34;, [5]]], &#34;op&#34;: {&#34;type&#34;: &#34;S&#34;}}, {&#34;args&#34;: [[&#34;q&#34;, [3]]], &#34;op&#34;: {&#34;type&#34;: &#34;V&#34;}}, {&#34;args&#34;: [[&#34;q&#34;, [4]]], &#34;op&#34;: {&#34;type&#34;: &#34;V&#34;}}, {&#34;args&#34;: [[&#34;q&#34;, [5]]], &#34;op&#34;: {&#34;type&#34;: &#34;V&#34;}}], &#34;created_qubits&#34;: [], &#34;discarded_qubits&#34;: [], &#34;implicit_permutation&#34;: [[[&#34;q&#34;, [0]], [&#34;q&#34;, [0]]], [[&#34;q&#34;, [1]], [&#34;q&#34;, [1]]], [[&#34;q&#34;, [2]], [&#34;q&#34;, [2]]], [[&#34;q&#34;, [3]], [&#34;q&#34;, [3]]], [[&#34;q&#34;, [4]], [&#34;q&#34;, [4]]], [[&#34;q&#34;, [5]], [&#34;q&#34;, [5]]]], &#34;phase&#34;: &#34;0.0&#34;, &#34;qubits&#34;: [[&#34;q&#34;, [0]], [&#34;q&#34;, [1]], [&#34;q&#34;, [2]], [&#34;q&#34;, [3]], [&#34;q&#34;, [4]], [&#34;q&#34;, [5]]]}&lt;/div&gt;\n",
       "        &lt;/div&gt;\n",
       "        &lt;circuit-display-container\n",
       "                :circuit-element-str=&#34;&#39;#circuit-json-to-display&#39;&#34;\n",
       "                :init-render-options=&#34;initRenderOptions&#34;\n",
       "        &gt;&lt;/circuit-display-container&gt;\n",
       "    &lt;/div&gt;\n",
       "    &lt;script type=&#34;application/javascript&#34;&gt;\n",
       "      const circuitRendererUid = &#34;a192c444-059f-4c30-9101-f78b16d722fe&#34;;\n",
       "      const displayOptions = JSON.parse(&#39;{}&#39;);\n",
       "\n",
       "      // Script to initialise the circuit renderer app\n",
       "\n",
       "const { createApp } = Vue;\n",
       "const circuitDisplayContainer = window[&#34;pytket-circuit-renderer&#34;].default;\n",
       "// Init variables to be shared between circuit display instances\n",
       "if (typeof window.pytketCircuitDisplays === &#34;undefined&#34;) {\n",
       "    window.pytketCircuitDisplays = {};\n",
       "}\n",
       "// Create the root Vue component\n",
       "const app = createApp({\n",
       "    delimiters: [&#39;[[#&#39;, &#39;#]]&#39;],\n",
       "    components: { circuitDisplayContainer },\n",
       "    data () {\n",
       "      return {\n",
       "        initRenderOptions: displayOptions,\n",
       "      }\n",
       "    }\n",
       "})\n",
       "app.config.unwrapInjectedRef = true;\n",
       "app.mount(&#34;#circuit-display-vue-container-&#34;+circuitRendererUid);\n",
       "window.pytketCircuitDisplays[circuitRendererUid] = app;\n",
       "    &lt;/script&gt;\n",
       "\n",
       "\n",
       "\n",
       "&lt;/body&gt;\n",
       "&lt;/html&gt;\n",
       "\"\n",
       "            width=\"100%\" height=\"100%\"\n",
       "            style=\"border: none; outline: none; overflow: auto\"></iframe>\n",
       "</div>\n",
       "\n"
      ],
      "text/plain": [
       "<IPython.core.display.HTML object>"
      ]
     },
     "metadata": {},
     "output_type": "display_data"
    }
   ],
   "source": [
    "from pytket.circuit.display import render_circuit_jupyter\n",
    "\n",
    "render_circuit_jupyter(ansatz.state_circuit)"
   ]
  },
  {
   "cell_type": "markdown",
   "metadata": {},
   "source": [
    "<b>5. Perform a classical VQE project to obtain parameters that characterise the ground-state wavefunction</b>\n",
    "\n",
    "In the cell below we perform a variational quantum eigensolver using inquanto's express module. This is a statevector backed only convenience function. \n",
    "Firstly we instantiate a statevector NexusConfig into our NexusBackend. \n",
    "Then we provide the run_vqe algorithm class with the qubit hamiltonian and the ansatz circuit. A loop then beings where, at each step, the statevector job is submitted to our Nexus project and executed. These jobs can be inspected as https://nexus.quantinuum.com/ . \n",
    "When the VQE cycle has converged with respect to energy the cycle stops and we can inspect the total energy obtained and the symbol coefficients of our parameterized circuit\n"
   ]
  },
  {
   "cell_type": "code",
   "execution_count": null,
   "metadata": {},
   "outputs": [
    {
     "name": "stdout",
     "output_type": "stream",
     "text": [
      "\n",
      "Started using project with name: InQuanto::Project\n",
      "# TIMER BLOCK-0 BEGINS AT 2023-10-26 08:04:47.252666\n",
      "# TIMER BLOCK-0 ENDS - DURATION (s): 197.9548447 [0:03:17.954845]\n",
      "VQE Energy: -38.35882707384031\n",
      "{d0: -0.3732936553004727, d1: -0.004352090240814768, s0: -2.206496678468692e-06, s1: -1.8038857692025435e-06}\n"
     ]
    }
   ],
   "source": [
    "from inquanto.express import run_vqe\n",
    "from qnexus import AerStateConfig\n",
    "\n",
    "\n",
    "vqe = run_vqe(ansatz, qubit_hamiltonian_jw, AerStateConfig(), with_gradient=False, project_ref=project_ref)\n",
    "print(f\"VQE Energy: {vqe.final_value}\")\n",
    "gs_parameters = vqe.final_parameters\n",
    "print(vqe.final_parameters)"
   ]
  },
  {
   "cell_type": "markdown",
   "metadata": {},
   "source": [
    "We can relate these coefficients to the fermionic exponents:"
   ]
  },
  {
   "cell_type": "code",
   "execution_count": null,
   "metadata": {},
   "outputs": [
    {
     "name": "stdout",
     "output_type": "stream",
     "text": [
      "Fermion Excitations and Amplitudes\n",
      "==================================\n",
      "Exponent\t\t\t\t\tAmplitude\t\tSymbol\n",
      "(1.0, F2^ F0  F3^ F1 ), (-1.0, F1^ F3  F0^ F2 )\t-0.3732936553004727\td0\n",
      "(1.0, F4^ F0  F5^ F1 ), (-1.0, F1^ F5  F0^ F4 )\t-0.004352090240814768\td1\n",
      "(1.0, F4^ F0 ), (-1.0, F0^ F4 )\t-2.206496678468692e-06\ts0\n",
      "(1.0, F5^ F1 ), (-1.0, F1^ F5 )\t-1.8038857692025435e-06\ts1\n"
     ]
    }
   ],
   "source": [
    "print(\"Fermion Excitations and Amplitudes\")\n",
    "print(\"==================================\")\n",
    "print(\"Exponent\\t\\t\\t\\t\\tAmplitude\\t\\tSymbol\")\n",
    "for fermion_operator, symbol in ansatz._fermion_operator_exponents:\n",
    "    parameter = vqe.final_parameters[symbol]\n",
    "    print(f\"{fermion_operator}\\t{parameter}\\t{symbol}\")"
   ]
  },
  {
   "cell_type": "markdown",
   "metadata": {},
   "source": [
    "<b>6. Hamiltonian Averaging using InQuanto Computables</b>\n",
    "\n",
    "In general, InQuanto uses 'Computables' to calculate the chemical quantity of relevance. A protocol is then the blueprint which defines how we calculate the chemical quantity on the quantum computer. The simplest computables, such as expectation values of an operator on a state, can be evaluated directly using a single protocol. More details on these structures can be found at https://inquanto.quantinuum.com/\n",
    "\n",
    "\n",
    "<b>6. a. Prepare Protocol</b>\n",
    "\n",
    "We will re-use our ansatz and operator from above. \n",
    "\n",
    "The protocol we use today is called `PauliAveraging`, and is one way to perform Hamiltonian Averaging. This protocol generates measurement circuits from the Hamiltonian and state-preparation circuit. These circuits will be submitted to the H1 emulator (H1-1E) via Nexus. Once the results are retrieved, the protocol can then estimate the expectation value of the Pauli words. These expectations are multiplied by the corresponding coefficient in the Hamiltonian, and summed to obtain the ground-state energy."
   ]
  },
  {
   "cell_type": "code",
   "execution_count": null,
   "metadata": {},
   "outputs": [
    {
     "name": "stdout",
     "output_type": "stream",
     "text": [
      "\n",
      "Started using project with name: InQuanto::Project\n"
     ]
    }
   ],
   "source": [
    "from inquanto.protocols import PauliAveraging\n",
    "from qnexus import QuantinuumConfig\n",
    "from inquanto.core._tket import PauliPartitionStrat\n",
    "\n",
    "configuration = QuantinuumConfig(device_name=\"H1-1E\", user_group=\"Default - UK\")\n",
    "protocol = PauliAveraging(\n",
    "    configuration,\n",
    "    shots_per_circuit=5000,\n",
    "    pauli_partition_strategy=PauliPartitionStrat.CommutingSets,\n",
    "    project_ref=project_ref\n",
    ")"
   ]
  },
  {
   "cell_type": "markdown",
   "metadata": {},
   "source": [
    "<b>6. b. Partition Measurement Symmetry Verification</b>\n",
    "\n",
    "We recognise that our system possesses C2v point group symmetry. This can be exploited in the Hamiltonian Averaging procedure since we know the parity of certain Pauli words and therefore their expectation values. \n",
    "\n",
    "These Pauli words corresponding to symmetry operations - mirror planes and pi radian rotations. \n",
    "\n",
    "One can use InQuanto to calculate the Pauli words (within Jordan Wigner encoding)"
   ]
  },
  {
   "cell_type": "code",
   "execution_count": null,
   "metadata": {},
   "outputs": [
    {
     "name": "stdout",
     "output_type": "stream",
     "text": [
      "(1.0, Z2 Z3)\n",
      "(1.0, Z0 Z1 Z2 Z3 Z4 Z5)\n",
      "(-1.0, Z0 Z2 Z4)\n"
     ]
    }
   ],
   "source": [
    "pauli_symmetries = jw_map.operator_map(fermion_space.symmetry_operators_z2_in_sector(fermion_state))\n",
    "\n",
    "for op in pauli_symmetries:\n",
    "    print(op)"
   ]
  },
  {
   "cell_type": "markdown",
   "metadata": {},
   "source": [
    "The protocol can be modified to include Symmetry Verification step. The flavour we use in InQuanto is called Partition Measurement Symmetry Verification (PMSV). The steps are as follows:\n",
    "<ol>\n",
    "<li>Find largest Abelian point group of molecule. Transformations of this point group are Pauli-symmetries.</li>\n",
    "<li>Build symmetry verifiable circuits using the measurement reduction facility in tket. The operators that we need to measure on the quantum device to solve out problem consist of Pauli-Is, Pauli-Xs, Pauli-Ys and Pauli-Zs across the qubit register. These operations can be partitioned into commuting sets. For element in a commuting set, if the Pauli-symmetries commute element-wise, it can be added to the commuting set. This way, each commuting set is symmetry verifiable.</li>\n",
    "<li>Post-select on measurement result before counting bitstrings to compute expectation value of problem Hamiltonian. The quantity to post-select on is the XOR sum over the bit-strings needed to compute expectation value of Pauli-symmetry.</li>\n",
    "</ol>"
   ]
  },
  {
   "cell_type": "code",
   "execution_count": null,
   "metadata": {},
   "outputs": [
    {
     "name": "stderr",
     "output_type": "stream",
     "text": [
      "/inquanto/protocols/averaging/_mitigation.py:205: UserWarning: The PMSV is still experimental.\n",
      "  warnings.warn(f\"The {self.__class__.__name__} is still experimental.\")\n"
     ]
    },
    {
     "data": {
      "text/plain": [
       "<inquanto.protocols.averaging._pauli_averaging.PauliAveraging at 0x7f15ab798400>"
      ]
     },
     "execution_count": null,
     "metadata": {},
     "output_type": "execute_result"
    }
   ],
   "source": [
    "from inquanto.protocols import PMSV\n",
    "mitms_pmsv = PMSV(pauli_symmetries)\n",
    "protocol.clear()"
   ]
  },
  {
   "cell_type": "markdown",
   "metadata": {},
   "source": [
    "<b>6. c. Build Protocol</b>\n",
    "\n",
    "We now build and compile the measurement circuits for the shot based protocol, including instructions for symmetry verification noise mitigation with Hamiltonian Averaging. Note that compilation is also performed using Nexus. The uncompiled circuits are sent and compiled circuits are retrieved. When all compiled circuits are obtained we can launch the execution job. "
   ]
  },
  {
   "cell_type": "code",
   "execution_count": null,
   "metadata": {},
   "outputs": [
    {
     "data": {
      "text/plain": [
       "<inquanto.protocols.averaging._pauli_averaging.PauliAveraging at 0x7f15ab798400>"
      ]
     },
     "execution_count": null,
     "metadata": {},
     "output_type": "execute_result"
    }
   ],
   "source": [
    "protocol.build(vqe.final_parameters, ansatz, qubit_hamiltonian_jw, noise_mitigation=mitms_pmsv).compile_circuits()"
   ]
  },
  {
   "cell_type": "code",
   "execution_count": null,
   "metadata": {},
   "outputs": [
    {
     "data": {
      "text/html": [
       "<div>\n",
       "<style scoped>\n",
       "    .dataframe tbody tr th:only-of-type {\n",
       "        vertical-align: middle;\n",
       "    }\n",
       "\n",
       "    .dataframe tbody tr th {\n",
       "        vertical-align: top;\n",
       "    }\n",
       "\n",
       "    .dataframe thead th {\n",
       "        text-align: right;\n",
       "    }\n",
       "</style>\n",
       "<table border=\"1\" class=\"dataframe\">\n",
       "  <thead>\n",
       "    <tr style=\"text-align: right;\">\n",
       "      <th></th>\n",
       "      <th>Qubits</th>\n",
       "      <th>Depth</th>\n",
       "      <th>Depth2q</th>\n",
       "      <th>DepthCX</th>\n",
       "      <th>Shots</th>\n",
       "    </tr>\n",
       "  </thead>\n",
       "  <tbody>\n",
       "    <tr>\n",
       "      <th>0</th>\n",
       "      <td>6</td>\n",
       "      <td>46</td>\n",
       "      <td>24</td>\n",
       "      <td>0</td>\n",
       "      <td>5000</td>\n",
       "    </tr>\n",
       "    <tr>\n",
       "      <th>1</th>\n",
       "      <td>6</td>\n",
       "      <td>40</td>\n",
       "      <td>20</td>\n",
       "      <td>0</td>\n",
       "      <td>5000</td>\n",
       "    </tr>\n",
       "    <tr>\n",
       "      <th>2</th>\n",
       "      <td>6</td>\n",
       "      <td>46</td>\n",
       "      <td>24</td>\n",
       "      <td>0</td>\n",
       "      <td>5000</td>\n",
       "    </tr>\n",
       "    <tr>\n",
       "      <th>3</th>\n",
       "      <td>6</td>\n",
       "      <td>46</td>\n",
       "      <td>24</td>\n",
       "      <td>0</td>\n",
       "      <td>5000</td>\n",
       "    </tr>\n",
       "    <tr>\n",
       "      <th>4</th>\n",
       "      <td>6</td>\n",
       "      <td>50</td>\n",
       "      <td>26</td>\n",
       "      <td>0</td>\n",
       "      <td>5000</td>\n",
       "    </tr>\n",
       "    <tr>\n",
       "      <th>5</th>\n",
       "      <td>6</td>\n",
       "      <td>47</td>\n",
       "      <td>24</td>\n",
       "      <td>0</td>\n",
       "      <td>5000</td>\n",
       "    </tr>\n",
       "    <tr>\n",
       "      <th>Sum</th>\n",
       "      <td>-</td>\n",
       "      <td>-</td>\n",
       "      <td>-</td>\n",
       "      <td>-</td>\n",
       "      <td>30000</td>\n",
       "    </tr>\n",
       "  </tbody>\n",
       "</table>\n",
       "</div>"
      ],
      "text/plain": [
       "    Qubits Depth Depth2q DepthCX  Shots\n",
       "0        6    46      24       0   5000\n",
       "1        6    40      20       0   5000\n",
       "2        6    46      24       0   5000\n",
       "3        6    46      24       0   5000\n",
       "4        6    50      26       0   5000\n",
       "5        6    47      24       0   5000\n",
       "Sum      -     -       -       -  30000"
      ]
     },
     "execution_count": null,
     "metadata": {},
     "output_type": "execute_result"
    }
   ],
   "source": [
    "protocol.dataframe_circuit_shot()"
   ]
  },
  {
   "cell_type": "code",
   "execution_count": null,
   "metadata": {},
   "outputs": [],
   "source": [
    "circuits=protocol.get_circuits()"
   ]
  },
  {
   "cell_type": "markdown",
   "metadata": {},
   "source": [
    "We can examine the `circuits` object here, which is a list of NexusCircuits (as opposed to tket Circuits like usual). Not only does this contain a tket circuit, but it also contains information about the job and its submission"
   ]
  },
  {
   "cell_type": "code",
   "execution_count": null,
   "metadata": {},
   "outputs": [
    {
     "data": {
      "text/plain": [
       "NexusCircuit(id=fde92d6f-5c54-45cd-85dd-8f13a1d131a6, submitted_time=2023-10-26 08:08:16.504778+00:00, project_name=InQuanto::Project, project_id=f225abb6-e9b9-472a-92b6-32a6f066b796)[PhasedX(2.5, 0) q[0]; PhasedX(2.5, 0.5) q[1]; PhasedX(0.5, 0) q[2]; PhasedX(0.5, 0.5) q[3]; PhasedX(0.5, 0) q[4]; PhasedX(0.5, 0.5) q[5]; ZZPhase(0.5) q[2], q[0]; PhasedX(0.118823, 1.5) q[0]; PhasedX(2.11882, 1.5) q[2]; ZZPhase(0.5) q[2], q[0]; ZZPhase(0.5) q[4], q[0]; PhasedX(0.5, 0) q[2]; PhasedX(2.00139, 0.5) q[0]; ZZPhase(0.5) q[2], q[3]; PhasedX(2.00139, 1.5) q[4]; ZZPhase(0.5) q[4], q[0]; PhasedX(2.5, 1) q[2]; PhasedX(0.5, 0) q[3]; PhasedX(0.5, 0) q[0]; ZZPhase(0.5) q[3], q[2]; PhasedX(2.5, 0) q[4]; ZZPhase(0.5) q[0], q[1]; PhasedX(0.5, 0.5) q[2]; ZZPhase(0.5) q[4], q[5]; PhasedX(0.5, 0.5) q[0]; ZZPhase(0.5) q[2], q[1]; PhasedX(1, 0.5) q[4]; PhasedX(1.5, 0) q[5]; PhasedX(0.5, 0.5) q[1]; ZZPhase(0.5) q[1], q[4]; PhasedX(0.5, 0) q[4]; ZZPhase(0.5) q[4], q[0]; PhasedX(2, 0) q[0]; PhasedX(2, 0.5) q[4]; ZZPhase(0.5) q[4], q[0]; PhasedX(0.5, 0) q[0]; PhasedX(0.5, 0) q[4]; ZZPhase(0.5) q[1], q[4]; PhasedX(2.5, 0.5) q[1]; PhasedX(1, 1.5) q[4]; ZZPhase(0.5) q[2], q[1]; PhasedX(1.5, 0.5) q[1]; PhasedX(1.5, 1.5) q[2]; ZZPhase(0.5) q[3], q[2]; PhasedX(0.5, 0) q[3]; ZZPhase(0.5) q[4], q[3]; PhasedX(0.5, 1.5) q[3]; ZZPhase(0.5) q[3], q[2]; PhasedX(0.5, 0.5) q[2]; ZZPhase(0.5) q[2], q[5]; PhasedX(3.5, 0) q[5]; ZZPhase(0.5) q[5], q[1]; PhasedX(2, 1.5) q[1]; PhasedX(2, 1.5) q[5]; ZZPhase(0.5) q[5], q[1]; PhasedX(1.5, 0) q[1]; PhasedX(0.5, 1) q[5]; Measure q[1] --> c[1]; ZZPhase(0.5) q[2], q[5]; PhasedX(1.5, 1.5) q[2]; PhasedX(3.5, 1) q[5]; ZZPhase(0.5) q[3], q[2]; PhasedX(1.5, 0.5) q[3]; ZZPhase(0.5) q[4], q[3]; PhasedX(1, 1) q[4]; ZZPhase(0.5) q[0], q[4]; PhasedX(0.5, 0) q[0]; PhasedX(0.5, 0.5) q[4]; Measure q[4] --> c[4]; ZZPhase(0.5) q[0], q[2]; ZZPhase(0.5) q[0], q[3]; PhasedX(0.5, 0.5) q[2]; Measure q[2] --> c[2]; ZZPhase(0.5) q[0], q[5]; PhasedX(0.5, 1.5) q[3]; Measure q[3] --> c[3]; PhasedX(0.5, 1.5) q[0]; PhasedX(0.5, 0.5) q[5]; Measure q[0] --> c[0]; Measure q[5] --> c[5]; ]"
      ]
     },
     "execution_count": null,
     "metadata": {},
     "output_type": "execute_result"
    }
   ],
   "source": [
    "circuits[0]"
   ]
  },
  {
   "cell_type": "markdown",
   "metadata": {},
   "source": [
    "With the circuits returned, we can launch them for execution using `protocol.launch()`. This will tell Nexus to run the list of circuits in the protocol on the backend, returning a ResultsHandle for each circuit so that we may later retrieve them when our hardware/emulation is complete. "
   ]
  },
  {
   "cell_type": "code",
   "execution_count": null,
   "metadata": {},
   "outputs": [],
   "source": [
    "results_handles=protocol.launch()\n",
    "#wait "
   ]
  },
  {
   "cell_type": "markdown",
   "metadata": {},
   "source": [
    "The `result_handles` is a list of ResultHandle objects. These are made up of tuples of the job id and an enumerator. "
   ]
  },
  {
   "cell_type": "code",
   "execution_count": null,
   "metadata": {},
   "outputs": [
    {
     "name": "stdout",
     "output_type": "stream",
     "text": [
      "[ResultHandle('723e324f-dfbc-458f-a459-5a26afa86ba3', 1199879), ResultHandle('723e324f-dfbc-458f-a459-5a26afa86ba3', 1199880), ResultHandle('723e324f-dfbc-458f-a459-5a26afa86ba3', 1199881), ResultHandle('723e324f-dfbc-458f-a459-5a26afa86ba3', 1199882), ResultHandle('723e324f-dfbc-458f-a459-5a26afa86ba3', 1199883), ResultHandle('723e324f-dfbc-458f-a459-5a26afa86ba3', 1199884)]\n"
     ]
    }
   ],
   "source": [
    "print(results_handles)"
   ]
  },
  {
   "cell_type": "markdown",
   "metadata": {},
   "source": [
    "<b>6. e. Retrieve results from Nexus</b>\n",
    "\n",
    "Results can be retrieved from Nexus using the computables \"retrieve_distributions\" function when they have completed. "
   ]
  },
  {
   "cell_type": "code",
   "execution_count": null,
   "metadata": {},
   "outputs": [],
   "source": [
    "results = protocol.retrieve(results_handles)"
   ]
  },
  {
   "cell_type": "markdown",
   "metadata": {},
   "source": [
    "Now our protocol is complete and we can examine and evaluate it! Firstly we take a peak at the results for the individual Pauli strings we measured for our hamiltonian and PMSV. Note that sample size is below 5000 has symmetry violating shots are discarded. Some Pauli strings have been measured by multiple circuits and so have more than 5000 samples. "
   ]
  },
  {
   "cell_type": "code",
   "execution_count": null,
   "metadata": {},
   "outputs": [
    {
     "data": {
      "text/html": [
       "<div>\n",
       "<style scoped>\n",
       "    .dataframe tbody tr th:only-of-type {\n",
       "        vertical-align: middle;\n",
       "    }\n",
       "\n",
       "    .dataframe tbody tr th {\n",
       "        vertical-align: top;\n",
       "    }\n",
       "\n",
       "    .dataframe thead th {\n",
       "        text-align: right;\n",
       "    }\n",
       "</style>\n",
       "<table border=\"1\" class=\"dataframe\">\n",
       "  <thead>\n",
       "    <tr style=\"text-align: right;\">\n",
       "      <th></th>\n",
       "      <th>pauli_string</th>\n",
       "      <th>mean</th>\n",
       "      <th>stderr</th>\n",
       "      <th>umean</th>\n",
       "      <th>sample_size</th>\n",
       "    </tr>\n",
       "  </thead>\n",
       "  <tbody>\n",
       "    <tr>\n",
       "      <th>0</th>\n",
       "      <td>Z1 Z5</td>\n",
       "      <td>-0.728972</td>\n",
       "      <td>0.009978</td>\n",
       "      <td>-0.729+/-0.010</td>\n",
       "      <td>4708</td>\n",
       "    </tr>\n",
       "    <tr>\n",
       "      <th>1</th>\n",
       "      <td>Y1 Z3 Z4 Y5</td>\n",
       "      <td>0.012744</td>\n",
       "      <td>0.014574</td>\n",
       "      <td>0.013+/-0.015</td>\n",
       "      <td>4708</td>\n",
       "    </tr>\n",
       "    <tr>\n",
       "      <th>2</th>\n",
       "      <td>Z2</td>\n",
       "      <td>0.728972</td>\n",
       "      <td>0.009978</td>\n",
       "      <td>0.729+/-0.010</td>\n",
       "      <td>4708</td>\n",
       "    </tr>\n",
       "    <tr>\n",
       "      <th>3</th>\n",
       "      <td>Y2 Y3 X4 X5</td>\n",
       "      <td>0.005788</td>\n",
       "      <td>0.014642</td>\n",
       "      <td>0.006+/-0.015</td>\n",
       "      <td>4665</td>\n",
       "    </tr>\n",
       "    <tr>\n",
       "      <th>4</th>\n",
       "      <td>Z4</td>\n",
       "      <td>0.995327</td>\n",
       "      <td>0.001407</td>\n",
       "      <td>0.9953+/-0.0014</td>\n",
       "      <td>4708</td>\n",
       "    </tr>\n",
       "    <tr>\n",
       "      <th>5</th>\n",
       "      <td>Y0 Z1 Z3 Y4</td>\n",
       "      <td>-0.003215</td>\n",
       "      <td>0.014643</td>\n",
       "      <td>-0.003+/-0.015</td>\n",
       "      <td>4665</td>\n",
       "    </tr>\n",
       "    <tr>\n",
       "      <th>6</th>\n",
       "      <td>X2 X3 Y4 Y5</td>\n",
       "      <td>-0.008321</td>\n",
       "      <td>0.014608</td>\n",
       "      <td>-0.008+/-0.015</td>\n",
       "      <td>4687</td>\n",
       "    </tr>\n",
       "    <tr>\n",
       "      <th>7</th>\n",
       "      <td>X0 X1 Y2 Y3</td>\n",
       "      <td>0.635161</td>\n",
       "      <td>0.011283</td>\n",
       "      <td>0.635+/-0.011</td>\n",
       "      <td>4687</td>\n",
       "    </tr>\n",
       "    <tr>\n",
       "      <th>8</th>\n",
       "      <td>Y0 X1 X4 Y5</td>\n",
       "      <td>0.005731</td>\n",
       "      <td>0.014571</td>\n",
       "      <td>0.006+/-0.015</td>\n",
       "      <td>4711</td>\n",
       "    </tr>\n",
       "    <tr>\n",
       "      <th>9</th>\n",
       "      <td>Z3 Z5</td>\n",
       "      <td>0.726045</td>\n",
       "      <td>0.010069</td>\n",
       "      <td>0.726+/-0.010</td>\n",
       "      <td>4665</td>\n",
       "    </tr>\n",
       "    <tr>\n",
       "      <th>10</th>\n",
       "      <td>X1 Z2 Z3 X5</td>\n",
       "      <td>0.013169</td>\n",
       "      <td>0.014574</td>\n",
       "      <td>0.013+/-0.015</td>\n",
       "      <td>4708</td>\n",
       "    </tr>\n",
       "    <tr>\n",
       "      <th>11</th>\n",
       "      <td>X0 Z1 Z2 Z3 X4 Z5</td>\n",
       "      <td>-0.024055</td>\n",
       "      <td>0.014653</td>\n",
       "      <td>-0.024+/-0.015</td>\n",
       "      <td>4656</td>\n",
       "    </tr>\n",
       "    <tr>\n",
       "      <th>12</th>\n",
       "      <td>X0 Z1 X2 X3 Z4 X5</td>\n",
       "      <td>0.006580</td>\n",
       "      <td>0.014571</td>\n",
       "      <td>0.007+/-0.015</td>\n",
       "      <td>4711</td>\n",
       "    </tr>\n",
       "    <tr>\n",
       "      <th>13</th>\n",
       "      <td>Y0 Z1 Z2 Z3 Y4 Z5</td>\n",
       "      <td>-0.013934</td>\n",
       "      <td>0.014641</td>\n",
       "      <td>-0.014+/-0.015</td>\n",
       "      <td>4665</td>\n",
       "    </tr>\n",
       "    <tr>\n",
       "      <th>14</th>\n",
       "      <td>Y0 Z1 Z2 Y4</td>\n",
       "      <td>-0.003215</td>\n",
       "      <td>0.014643</td>\n",
       "      <td>-0.003+/-0.015</td>\n",
       "      <td>4665</td>\n",
       "    </tr>\n",
       "    <tr>\n",
       "      <th>15</th>\n",
       "      <td>X0 X1 Y4 Y5</td>\n",
       "      <td>0.022402</td>\n",
       "      <td>0.014605</td>\n",
       "      <td>0.022+/-0.015</td>\n",
       "      <td>4687</td>\n",
       "    </tr>\n",
       "    <tr>\n",
       "      <th>16</th>\n",
       "      <td>X1 Z2 Z4 X5</td>\n",
       "      <td>0.027188</td>\n",
       "      <td>0.014570</td>\n",
       "      <td>0.027+/-0.015</td>\n",
       "      <td>4708</td>\n",
       "    </tr>\n",
       "    <tr>\n",
       "      <th>17</th>\n",
       "      <td>Z0 Z1</td>\n",
       "      <td>0.996160</td>\n",
       "      <td>0.001279</td>\n",
       "      <td>0.9962+/-0.0013</td>\n",
       "      <td>4687</td>\n",
       "    </tr>\n",
       "    <tr>\n",
       "      <th>18</th>\n",
       "      <td>Z0 Z3</td>\n",
       "      <td>-0.995327</td>\n",
       "      <td>0.001407</td>\n",
       "      <td>-0.9953+/-0.0014</td>\n",
       "      <td>4708</td>\n",
       "    </tr>\n",
       "    <tr>\n",
       "      <th>19</th>\n",
       "      <td>X0 Y1 Y2 X3</td>\n",
       "      <td>-0.656549</td>\n",
       "      <td>0.010991</td>\n",
       "      <td>-0.657+/-0.011</td>\n",
       "      <td>4711</td>\n",
       "    </tr>\n",
       "    <tr>\n",
       "      <th>20</th>\n",
       "      <td>X1 Z3 Z4 X5</td>\n",
       "      <td>0.027188</td>\n",
       "      <td>0.014570</td>\n",
       "      <td>0.027+/-0.015</td>\n",
       "      <td>4708</td>\n",
       "    </tr>\n",
       "    <tr>\n",
       "      <th>21</th>\n",
       "      <td>X2 Y3 Y4 X5</td>\n",
       "      <td>0.007429</td>\n",
       "      <td>0.014571</td>\n",
       "      <td>0.007+/-0.015</td>\n",
       "      <td>4711</td>\n",
       "    </tr>\n",
       "    <tr>\n",
       "      <th>22</th>\n",
       "      <td>Z5</td>\n",
       "      <td>0.996134</td>\n",
       "      <td>0.001288</td>\n",
       "      <td>0.9961+/-0.0013</td>\n",
       "      <td>4656</td>\n",
       "    </tr>\n",
       "    <tr>\n",
       "      <th>23</th>\n",
       "      <td>Y1 Z2 Z4 Y5</td>\n",
       "      <td>0.012744</td>\n",
       "      <td>0.014574</td>\n",
       "      <td>0.013+/-0.015</td>\n",
       "      <td>4708</td>\n",
       "    </tr>\n",
       "    <tr>\n",
       "      <th>24</th>\n",
       "      <td>X0 Z2 Z3 X4</td>\n",
       "      <td>0.013934</td>\n",
       "      <td>0.014641</td>\n",
       "      <td>0.014+/-0.015</td>\n",
       "      <td>4665</td>\n",
       "    </tr>\n",
       "    <tr>\n",
       "      <th>25</th>\n",
       "      <td>Z4 Z5</td>\n",
       "      <td>0.996160</td>\n",
       "      <td>0.001279</td>\n",
       "      <td>0.9962+/-0.0013</td>\n",
       "      <td>4687</td>\n",
       "    </tr>\n",
       "    <tr>\n",
       "      <th>26</th>\n",
       "      <td>Y1 Z2 Z3 Y5</td>\n",
       "      <td>0.027613</td>\n",
       "      <td>0.014570</td>\n",
       "      <td>0.028+/-0.015</td>\n",
       "      <td>4708</td>\n",
       "    </tr>\n",
       "    <tr>\n",
       "      <th>27</th>\n",
       "      <td>Y0 Z1 Y2 X3 Z4 X5</td>\n",
       "      <td>0.001072</td>\n",
       "      <td>0.014643</td>\n",
       "      <td>0.001+/-0.015</td>\n",
       "      <td>4665</td>\n",
       "    </tr>\n",
       "    <tr>\n",
       "      <th>28</th>\n",
       "      <td>X0 Z1 Z3 X4</td>\n",
       "      <td>-0.023986</td>\n",
       "      <td>0.014567</td>\n",
       "      <td>-0.024+/-0.015</td>\n",
       "      <td>4711</td>\n",
       "    </tr>\n",
       "    <tr>\n",
       "      <th>29</th>\n",
       "      <td>Y1 Z2 Z3 Z4 Y5</td>\n",
       "      <td>0.027188</td>\n",
       "      <td>0.014570</td>\n",
       "      <td>0.027+/-0.015</td>\n",
       "      <td>4708</td>\n",
       "    </tr>\n",
       "    <tr>\n",
       "      <th>30</th>\n",
       "      <td>Y0 X1 X2 Y3</td>\n",
       "      <td>-0.642182</td>\n",
       "      <td>0.011235</td>\n",
       "      <td>-0.642+/-0.011</td>\n",
       "      <td>4656</td>\n",
       "    </tr>\n",
       "    <tr>\n",
       "      <th>31</th>\n",
       "      <td>Z0</td>\n",
       "      <td>-0.725998</td>\n",
       "      <td>0.010024</td>\n",
       "      <td>-0.726+/-0.010</td>\n",
       "      <td>4708</td>\n",
       "    </tr>\n",
       "    <tr>\n",
       "      <th>32</th>\n",
       "      <td>Z3</td>\n",
       "      <td>0.728972</td>\n",
       "      <td>0.009978</td>\n",
       "      <td>0.729+/-0.010</td>\n",
       "      <td>4708</td>\n",
       "    </tr>\n",
       "    <tr>\n",
       "      <th>33</th>\n",
       "      <td>Y1 Y2 X3 X4</td>\n",
       "      <td>-0.011381</td>\n",
       "      <td>0.014654</td>\n",
       "      <td>-0.011+/-0.015</td>\n",
       "      <td>4657</td>\n",
       "    </tr>\n",
       "    <tr>\n",
       "      <th>34</th>\n",
       "      <td>Y0 Z2 Z3 Y4</td>\n",
       "      <td>0.024055</td>\n",
       "      <td>0.014653</td>\n",
       "      <td>0.024+/-0.015</td>\n",
       "      <td>4656</td>\n",
       "    </tr>\n",
       "    <tr>\n",
       "      <th>35</th>\n",
       "      <td>Y2 X3 X4 Y5</td>\n",
       "      <td>0.007074</td>\n",
       "      <td>0.014642</td>\n",
       "      <td>0.007+/-0.015</td>\n",
       "      <td>4665</td>\n",
       "    </tr>\n",
       "    <tr>\n",
       "      <th>36</th>\n",
       "      <td>Z2 Z5</td>\n",
       "      <td>0.726045</td>\n",
       "      <td>0.010069</td>\n",
       "      <td>0.726+/-0.010</td>\n",
       "      <td>4665</td>\n",
       "    </tr>\n",
       "    <tr>\n",
       "      <th>37</th>\n",
       "      <td>X0 Z1 Z2 Z3 X4</td>\n",
       "      <td>-0.003215</td>\n",
       "      <td>0.014643</td>\n",
       "      <td>-0.003+/-0.015</td>\n",
       "      <td>4665</td>\n",
       "    </tr>\n",
       "    <tr>\n",
       "      <th>38</th>\n",
       "      <td>Y0 Z1 Z2 Z3 Y4</td>\n",
       "      <td>-0.023986</td>\n",
       "      <td>0.014567</td>\n",
       "      <td>-0.024+/-0.015</td>\n",
       "      <td>4711</td>\n",
       "    </tr>\n",
       "    <tr>\n",
       "      <th>39</th>\n",
       "      <td>Z0 Z2</td>\n",
       "      <td>-0.995327</td>\n",
       "      <td>0.001407</td>\n",
       "      <td>-0.9953+/-0.0014</td>\n",
       "      <td>4708</td>\n",
       "    </tr>\n",
       "    <tr>\n",
       "      <th>40</th>\n",
       "      <td>Z1 Z2</td>\n",
       "      <td>-0.996134</td>\n",
       "      <td>0.001288</td>\n",
       "      <td>-0.9961+/-0.0013</td>\n",
       "      <td>4656</td>\n",
       "    </tr>\n",
       "    <tr>\n",
       "      <th>41</th>\n",
       "      <td>Z0 X1 Z2 Z3 Z4 X5</td>\n",
       "      <td>-0.027613</td>\n",
       "      <td>0.014570</td>\n",
       "      <td>-0.028+/-0.015</td>\n",
       "      <td>4708</td>\n",
       "    </tr>\n",
       "    <tr>\n",
       "      <th>42</th>\n",
       "      <td>X0 Y1 Y4 X5</td>\n",
       "      <td>0.005731</td>\n",
       "      <td>0.014571</td>\n",
       "      <td>0.006+/-0.015</td>\n",
       "      <td>4711</td>\n",
       "    </tr>\n",
       "    <tr>\n",
       "      <th>43</th>\n",
       "      <td>Z0 Y1 Z2 Z3 Z4 Y5</td>\n",
       "      <td>-0.013169</td>\n",
       "      <td>0.014574</td>\n",
       "      <td>-0.013+/-0.015</td>\n",
       "      <td>4708</td>\n",
       "    </tr>\n",
       "    <tr>\n",
       "      <th>44</th>\n",
       "      <td>Z1 Z3</td>\n",
       "      <td>-0.996134</td>\n",
       "      <td>0.001288</td>\n",
       "      <td>-0.9961+/-0.0013</td>\n",
       "      <td>4656</td>\n",
       "    </tr>\n",
       "    <tr>\n",
       "      <th>45</th>\n",
       "      <td>Y1 X2 X3 Y4</td>\n",
       "      <td>0.013746</td>\n",
       "      <td>0.014655</td>\n",
       "      <td>0.014+/-0.015</td>\n",
       "      <td>4656</td>\n",
       "    </tr>\n",
       "    <tr>\n",
       "      <th>46</th>\n",
       "      <td>Z2 Z4</td>\n",
       "      <td>0.725998</td>\n",
       "      <td>0.010024</td>\n",
       "      <td>0.726+/-0.010</td>\n",
       "      <td>4708</td>\n",
       "    </tr>\n",
       "    <tr>\n",
       "      <th>47</th>\n",
       "      <td>X1 X2 Y3 Y4</td>\n",
       "      <td>-0.014175</td>\n",
       "      <td>0.014655</td>\n",
       "      <td>-0.014+/-0.015</td>\n",
       "      <td>4656</td>\n",
       "    </tr>\n",
       "    <tr>\n",
       "      <th>48</th>\n",
       "      <td>Y0 Y1 X4 X5</td>\n",
       "      <td>0.022402</td>\n",
       "      <td>0.014605</td>\n",
       "      <td>0.022+/-0.015</td>\n",
       "      <td>4687</td>\n",
       "    </tr>\n",
       "    <tr>\n",
       "      <th>49</th>\n",
       "      <td>X0 Z1 Z2 X4</td>\n",
       "      <td>-0.023986</td>\n",
       "      <td>0.014567</td>\n",
       "      <td>-0.024+/-0.015</td>\n",
       "      <td>4711</td>\n",
       "    </tr>\n",
       "    <tr>\n",
       "      <th>50</th>\n",
       "      <td>Y0 Y1 X2 X3</td>\n",
       "      <td>0.634734</td>\n",
       "      <td>0.011288</td>\n",
       "      <td>0.635+/-0.011</td>\n",
       "      <td>4687</td>\n",
       "    </tr>\n",
       "    <tr>\n",
       "      <th>51</th>\n",
       "      <td>Z0 Z5</td>\n",
       "      <td>-0.729440</td>\n",
       "      <td>0.010025</td>\n",
       "      <td>-0.729+/-0.010</td>\n",
       "      <td>4657</td>\n",
       "    </tr>\n",
       "    <tr>\n",
       "      <th>52</th>\n",
       "      <td>Z0 Z4</td>\n",
       "      <td>-0.728972</td>\n",
       "      <td>0.009978</td>\n",
       "      <td>-0.729+/-0.010</td>\n",
       "      <td>4708</td>\n",
       "    </tr>\n",
       "    <tr>\n",
       "      <th>53</th>\n",
       "      <td>Z2 Z3</td>\n",
       "      <td>1.000000</td>\n",
       "      <td>0.000000</td>\n",
       "      <td>1.0+/-0</td>\n",
       "      <td>28084</td>\n",
       "    </tr>\n",
       "    <tr>\n",
       "      <th>54</th>\n",
       "      <td>Y0 Z1 Y2 Y3 Z4 Y5</td>\n",
       "      <td>-0.007503</td>\n",
       "      <td>0.014642</td>\n",
       "      <td>-0.008+/-0.015</td>\n",
       "      <td>4665</td>\n",
       "    </tr>\n",
       "    <tr>\n",
       "      <th>55</th>\n",
       "      <td>X0 Z1 X2 Y3 Z4 Y5</td>\n",
       "      <td>-0.019540</td>\n",
       "      <td>0.014652</td>\n",
       "      <td>-0.020+/-0.015</td>\n",
       "      <td>4657</td>\n",
       "    </tr>\n",
       "    <tr>\n",
       "      <th>56</th>\n",
       "      <td>X1 Z2 Z3 Z4 X5</td>\n",
       "      <td>0.012744</td>\n",
       "      <td>0.014574</td>\n",
       "      <td>0.013+/-0.015</td>\n",
       "      <td>4708</td>\n",
       "    </tr>\n",
       "    <tr>\n",
       "      <th>57</th>\n",
       "      <td>Z1</td>\n",
       "      <td>-0.726045</td>\n",
       "      <td>0.010069</td>\n",
       "      <td>-0.726+/-0.010</td>\n",
       "      <td>4665</td>\n",
       "    </tr>\n",
       "    <tr>\n",
       "      <th>58</th>\n",
       "      <td>Z1 Z4</td>\n",
       "      <td>-0.729440</td>\n",
       "      <td>0.010025</td>\n",
       "      <td>-0.729+/-0.010</td>\n",
       "      <td>4657</td>\n",
       "    </tr>\n",
       "    <tr>\n",
       "      <th>59</th>\n",
       "      <td>X1 Y2 Y3 X4</td>\n",
       "      <td>0.018467</td>\n",
       "      <td>0.014569</td>\n",
       "      <td>0.018+/-0.015</td>\n",
       "      <td>4711</td>\n",
       "    </tr>\n",
       "    <tr>\n",
       "      <th>60</th>\n",
       "      <td>Z3 Z4</td>\n",
       "      <td>0.725998</td>\n",
       "      <td>0.010024</td>\n",
       "      <td>0.726+/-0.010</td>\n",
       "      <td>4708</td>\n",
       "    </tr>\n",
       "  </tbody>\n",
       "</table>\n",
       "</div>"
      ],
      "text/plain": [
       "         pauli_string      mean    stderr             umean  sample_size\n",
       "0               Z1 Z5 -0.728972  0.009978    -0.729+/-0.010         4708\n",
       "1         Y1 Z3 Z4 Y5  0.012744  0.014574     0.013+/-0.015         4708\n",
       "2                  Z2  0.728972  0.009978     0.729+/-0.010         4708\n",
       "3         Y2 Y3 X4 X5  0.005788  0.014642     0.006+/-0.015         4665\n",
       "4                  Z4  0.995327  0.001407   0.9953+/-0.0014         4708\n",
       "5         Y0 Z1 Z3 Y4 -0.003215  0.014643    -0.003+/-0.015         4665\n",
       "6         X2 X3 Y4 Y5 -0.008321  0.014608    -0.008+/-0.015         4687\n",
       "7         X0 X1 Y2 Y3  0.635161  0.011283     0.635+/-0.011         4687\n",
       "8         Y0 X1 X4 Y5  0.005731  0.014571     0.006+/-0.015         4711\n",
       "9               Z3 Z5  0.726045  0.010069     0.726+/-0.010         4665\n",
       "10        X1 Z2 Z3 X5  0.013169  0.014574     0.013+/-0.015         4708\n",
       "11  X0 Z1 Z2 Z3 X4 Z5 -0.024055  0.014653    -0.024+/-0.015         4656\n",
       "12  X0 Z1 X2 X3 Z4 X5  0.006580  0.014571     0.007+/-0.015         4711\n",
       "13  Y0 Z1 Z2 Z3 Y4 Z5 -0.013934  0.014641    -0.014+/-0.015         4665\n",
       "14        Y0 Z1 Z2 Y4 -0.003215  0.014643    -0.003+/-0.015         4665\n",
       "15        X0 X1 Y4 Y5  0.022402  0.014605     0.022+/-0.015         4687\n",
       "16        X1 Z2 Z4 X5  0.027188  0.014570     0.027+/-0.015         4708\n",
       "17              Z0 Z1  0.996160  0.001279   0.9962+/-0.0013         4687\n",
       "18              Z0 Z3 -0.995327  0.001407  -0.9953+/-0.0014         4708\n",
       "19        X0 Y1 Y2 X3 -0.656549  0.010991    -0.657+/-0.011         4711\n",
       "20        X1 Z3 Z4 X5  0.027188  0.014570     0.027+/-0.015         4708\n",
       "21        X2 Y3 Y4 X5  0.007429  0.014571     0.007+/-0.015         4711\n",
       "22                 Z5  0.996134  0.001288   0.9961+/-0.0013         4656\n",
       "23        Y1 Z2 Z4 Y5  0.012744  0.014574     0.013+/-0.015         4708\n",
       "24        X0 Z2 Z3 X4  0.013934  0.014641     0.014+/-0.015         4665\n",
       "25              Z4 Z5  0.996160  0.001279   0.9962+/-0.0013         4687\n",
       "26        Y1 Z2 Z3 Y5  0.027613  0.014570     0.028+/-0.015         4708\n",
       "27  Y0 Z1 Y2 X3 Z4 X5  0.001072  0.014643     0.001+/-0.015         4665\n",
       "28        X0 Z1 Z3 X4 -0.023986  0.014567    -0.024+/-0.015         4711\n",
       "29     Y1 Z2 Z3 Z4 Y5  0.027188  0.014570     0.027+/-0.015         4708\n",
       "30        Y0 X1 X2 Y3 -0.642182  0.011235    -0.642+/-0.011         4656\n",
       "31                 Z0 -0.725998  0.010024    -0.726+/-0.010         4708\n",
       "32                 Z3  0.728972  0.009978     0.729+/-0.010         4708\n",
       "33        Y1 Y2 X3 X4 -0.011381  0.014654    -0.011+/-0.015         4657\n",
       "34        Y0 Z2 Z3 Y4  0.024055  0.014653     0.024+/-0.015         4656\n",
       "35        Y2 X3 X4 Y5  0.007074  0.014642     0.007+/-0.015         4665\n",
       "36              Z2 Z5  0.726045  0.010069     0.726+/-0.010         4665\n",
       "37     X0 Z1 Z2 Z3 X4 -0.003215  0.014643    -0.003+/-0.015         4665\n",
       "38     Y0 Z1 Z2 Z3 Y4 -0.023986  0.014567    -0.024+/-0.015         4711\n",
       "39              Z0 Z2 -0.995327  0.001407  -0.9953+/-0.0014         4708\n",
       "40              Z1 Z2 -0.996134  0.001288  -0.9961+/-0.0013         4656\n",
       "41  Z0 X1 Z2 Z3 Z4 X5 -0.027613  0.014570    -0.028+/-0.015         4708\n",
       "42        X0 Y1 Y4 X5  0.005731  0.014571     0.006+/-0.015         4711\n",
       "43  Z0 Y1 Z2 Z3 Z4 Y5 -0.013169  0.014574    -0.013+/-0.015         4708\n",
       "44              Z1 Z3 -0.996134  0.001288  -0.9961+/-0.0013         4656\n",
       "45        Y1 X2 X3 Y4  0.013746  0.014655     0.014+/-0.015         4656\n",
       "46              Z2 Z4  0.725998  0.010024     0.726+/-0.010         4708\n",
       "47        X1 X2 Y3 Y4 -0.014175  0.014655    -0.014+/-0.015         4656\n",
       "48        Y0 Y1 X4 X5  0.022402  0.014605     0.022+/-0.015         4687\n",
       "49        X0 Z1 Z2 X4 -0.023986  0.014567    -0.024+/-0.015         4711\n",
       "50        Y0 Y1 X2 X3  0.634734  0.011288     0.635+/-0.011         4687\n",
       "51              Z0 Z5 -0.729440  0.010025    -0.729+/-0.010         4657\n",
       "52              Z0 Z4 -0.728972  0.009978    -0.729+/-0.010         4708\n",
       "53              Z2 Z3  1.000000  0.000000           1.0+/-0        28084\n",
       "54  Y0 Z1 Y2 Y3 Z4 Y5 -0.007503  0.014642    -0.008+/-0.015         4665\n",
       "55  X0 Z1 X2 Y3 Z4 Y5 -0.019540  0.014652    -0.020+/-0.015         4657\n",
       "56     X1 Z2 Z3 Z4 X5  0.012744  0.014574     0.013+/-0.015         4708\n",
       "57                 Z1 -0.726045  0.010069    -0.726+/-0.010         4665\n",
       "58              Z1 Z4 -0.729440  0.010025    -0.729+/-0.010         4657\n",
       "59        X1 Y2 Y3 X4  0.018467  0.014569     0.018+/-0.015         4711\n",
       "60              Z3 Z4  0.725998  0.010024     0.726+/-0.010         4708"
      ]
     },
     "execution_count": null,
     "metadata": {},
     "output_type": "execute_result"
    }
   ],
   "source": [
    "protocol.dataframe_measurements()"
   ]
  },
  {
   "cell_type": "markdown",
   "metadata": {},
   "source": [
    "Then we can evaluate our expectation value using the coefficients in our Hamiltonian. "
   ]
  },
  {
   "cell_type": "code",
   "execution_count": null,
   "metadata": {},
   "outputs": [],
   "source": [
    "energy_nexus = protocol.evaluate_expectation_value(ansatz, qubit_hamiltonian_jw)\n"
   ]
  },
  {
   "cell_type": "markdown",
   "metadata": {},
   "source": [
    "<b>6. f. Post-process classically to evaluate ground-state energy</b>\n",
    "\n",
    "Below  we perform a little analysis of our results."
   ]
  },
  {
   "cell_type": "code",
   "execution_count": null,
   "metadata": {},
   "outputs": [
    {
     "name": "stdout",
     "output_type": "stream",
     "text": [
      "Energy [Hamiltonian Averaging] on H1-1E via nexus: -38.35429920140337 Ha\n",
      "Energy [Benchmark]: -38.35882707387484 Ha\n",
      "\n",
      "Correlation Energy [Hamiltonian Averaging] on H1-1E via nexus: 0.016208997885527765 Ha\n",
      "Correlation Energy [Benchmark]: 0.020736870356998338 Ha\n",
      "\n",
      "Relative Error [Hamiltonian Averaging] on H1-1E via nexus: 0.011803990847327247 %\n",
      "\n",
      "Absolute Error [Hamiltonian Averaging] on H1-1E via nexus: 0.004527872436938196 Ha\n"
     ]
    }
   ],
   "source": [
    "import numpy\n",
    "rel_error = (\n",
    "    100\n",
    "    * numpy.absolute(vqe.final_value - energy_nexus)\n",
    "    / numpy.absolute(vqe.final_value)\n",
    ")\n",
    "abs_error = numpy.absolute(vqe.final_value - energy_nexus)\n",
    "correlation_energy_nexus = scf_energy - energy_nexus\n",
    "\n",
    "print(f\"Energy [Hamiltonian Averaging] on H1-1E via nexus: {energy_nexus} Ha\")\n",
    "print(f\"Energy [Benchmark]: {ccsd_energy} Ha\")\n",
    "print(\n",
    "    f\"\\nCorrelation Energy [Hamiltonian Averaging] on H1-1E via nexus: {correlation_energy_nexus} Ha\"\n",
    ")\n",
    "print(f\"Correlation Energy [Benchmark]: {ccsd_correlation_energy} Ha\")\n",
    "print(f\"\\nRelative Error [Hamiltonian Averaging] on H1-1E via nexus: {rel_error} %\")\n",
    "print(f\"\\nAbsolute Error [Hamiltonian Averaging] on H1-1E via nexus: {abs_error} Ha\")"
   ]
  },
  {
   "cell_type": "markdown",
   "metadata": {},
   "source": [
    "For this small system we've got pretty good results. Our noisy backend averaging is 0.004 Ha from the statevector (noiseless) result when using 5000 shots and PMSV. This represents a relative error of about 0.01 % "
   ]
  },
  {
   "cell_type": "markdown",
   "metadata": {},
   "source": [
    "<img src=\"../_static/quantinuumlogo.png\" height=\"150\" align=\"center\">"
   ]
  }
 ],
 "metadata": {
  "kernelspec": {
   "display_name": "Python 3 (ipykernel)",
   "language": "python",
   "name": "python3"
  },
  "language_info": {
   "codemirror_mode": {
    "name": "ipython",
    "version": 3
   },
   "file_extension": ".py",
   "mimetype": "text/x-python",
   "name": "python",
   "nbconvert_exporter": "python",
   "pygments_lexer": "ipython3",
   "version": "3.10.12"
  }
 },
 "nbformat": 4,
 "nbformat_minor": 4
}
