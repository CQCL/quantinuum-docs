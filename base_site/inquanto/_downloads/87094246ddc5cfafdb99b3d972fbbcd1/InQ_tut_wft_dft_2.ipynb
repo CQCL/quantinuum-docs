{
 "cells": [
  {
   "cell_type": "markdown",
   "id": "2eda7956-93e9-43ee-ba25-810fb5ffa15c",
   "metadata": {},
   "source": [
    "# Projection-based embedding with energy corrections"
   ]
  },
  {
   "cell_type": "markdown",
   "id": "34b564c6-0dcf-4cd5-aaa1-1194951c83c1",
   "metadata": {},
   "source": [
    "This can be viewed as a continuation of the [projection-based embedding tutorial](InQ_tut_wft_dft.ipynb). In this tutorial, we will once again utilize projection-based embedding for quantum chemistry calculations within the context of Density Functional Theory (DFT). However, the key distinction here is the incorporation of NEVPT2 and AC0 energy correction methods to enhance the accuracy of our ground-state energy calculation. Incorporating these methods into our workflow requires us to redefine the final InQuanto driver used for this example because our previous approach did not yield the correct energy results. To demonstrate this, we have selected ethanol (C$_2$H$_6$O) as our test case.\n",
    "\n",
    "To gain a better undersanding of the application of NEVPT2 and AC0 to enhance the precision of quantum computations beyond mean-field methods like Hartree-Fock or density functional theory (DFT), please consult the [NEVPT2+AC0 tutorial](InQ_tut_nevpt2_AC0.ipynb). For further insights into Projection-based embedding, please refer to [Manby et al (2012)](https://pubs.acs.org/doi/10.1021/ct300544e).\n",
    "\n",
    "Here are the steps outlined:\n",
    "\n",
    "* Define the system.\n",
    "* Define the embedded RHF driver using AVAS.\n",
    "* Generate a driver object wrapping the active space Hamiltonian.\n",
    "* Run VQE to get the ground state energy and final parameters.\n",
    "* Compute the NEVPT2 correction to the energy.\n",
    "* Compute the AC0 correction to the energy."
   ]
  },
  {
   "cell_type": "markdown",
   "id": "b5a99f1f-63d2-4319-9a24-1971c2656c7b",
   "metadata": {},
   "source": [
    "The initial step involves creating the InQuanto-PySCF projection-based embedding driver (`inquanto.extensions.pyscf.ChemistryDriverPySCFEmbeddingRHF`). This driver is essential for conducting and storing the outcome of molecular RHF calculations.\n",
    "\n",
    "Parameters used:\n",
    "\n",
    "`geometry` – Molecular geometry.\n",
    "\n",
    "`basis` – Atomic basis set valid for Mole class.\n",
    "\n",
    "`frozen` – Frozen orbital information.\n",
    "\n",
    "`transf` – Orbital transformer.\n",
    "\n",
    "`functional` – KS functional to use for the system calculation, or None if RHF is desired.\n",
    "\n",
    "In order to reduce hardware resource requirements in multi-configuration and multireference electronic structure calculations, the Atomic Valence Active Space (AVAS) approximation in the PySCF extension of InQuanto was used. AVAS is an automated technique for creating active orbital spaces, particularly useful for describing electronic configurations arising from specific atomic valence orbitals, like metal d orbitals in coordination complexes. The variable `aolabels` contains the atomic orbital (AO) labels for the AO active space. The variables `threshold` and `threshold_vir` specify the truncation thresholds for the AO-projector. These thresholds determine which AOs are retained within the active space for occupied and virtual orbitals, respectively, based on their values. More detailed information can be found in [Sayfutyarova et al (2017)](https://arxiv.org/abs/1701.07862) and in [the Fe4N2 system preparation tutorial](InQ_tut_fe4n2_1.ipynb)."
   ]
  },
  {
   "cell_type": "code",
   "execution_count": null,
   "id": "8e417fc6",
   "metadata": {},
   "outputs": [],
   "source": [
    "import warnings\n",
    "warnings.filterwarnings('ignore')\n",
    "\n",
    "geometry = [\n",
    "    [\"O\", [-1.1867, -0.2472, 0.0000]],\n",
    "    [\"H\", [-1.9237, 0.3850, 0.0000]],\n",
    "    [\"H\", [-0.0227, 1.1812, 0.8852]],\n",
    "    [\"C\", [0.0000, 0.5526, 0.0000]],\n",
    "    [\"H\", [-0.0227, 1.1812, -0.8852]],\n",
    "    [\"C\", [1.1879, -0.3829, 0.0000]],\n",
    "    [\"H\", [2.0985, 0.2306, 0.0000]],\n",
    "    [\"H\", [1.1184, -1.0093, 0.8869]],\n",
    "    [\"H\", [1.1184, -1.0093, -0.8869]],\n",
    "]\n",
    "\n",
    "basis=\"3-21G\",\n",
    "functional=\"b3lyp5\""
   ]
  },
  {
   "cell_type": "code",
   "execution_count": null,
   "id": "52c0d26e",
   "metadata": {},
   "outputs": [],
   "source": [
    "from inquanto.extensions.pyscf import ChemistryDriverPySCFEmbeddingRHF, AVAS, FromActiveSpace\n",
    "\n",
    "avas = AVAS(\n",
    "    aolabels=[\"0 O 2p\", \"0 O 3p\", \"0 O 2s\", \"0 O 3s\", \"0 O 3d\", \"1 H\"],\n",
    "    threshold=0.8,\n",
    "    threshold_vir=0.5,\n",
    ")\n",
    "\n",
    "\n",
    "driver = ChemistryDriverPySCFEmbeddingRHF(\n",
    "    geometry=geometry,\n",
    "    basis=basis,\n",
    "    functional=functional,\n",
    "    transf=avas,\n",
    "    frozen=avas.frozenf,\n",
    ")"
   ]
  },
  {
   "cell_type": "markdown",
   "id": "e603c357-d548-4351-8bbb-92d4d7a05c35",
   "metadata": {},
   "source": [
    "To incorporate dynamic energy correlation methods, it is necessary to create a new driver object derived from the effective WF-in-DFT Hamiltonian. Hence, a PySCF driver object that encapsulates the Hamiltonian of the current active space is created using the InQuanto `get_subsystem_driver` function. This function accepts two arguments: the frozen orbital information (`frozen`), and the orbital transformer (`transf`). \n",
    "\n",
    "`FromActiveSpace` aids in determining the frozen orbital list based on the information provided about the active space. In this context, `ncas` represents the number of active orbitals, and `nelecas` represents the number of active electrons. We could also perform postprocessing of orbitals using the Complete Active Space Self-Consistent Field (CASSCF) method to construct molecular integrals by enabling the casscf_transform parameter.\n",
    "\n",
    "The `get_system` function is responsible for computing the fermionic Hamiltonian operator, Fock space, and Hartree Fock state. The `qubit_encode` function carries out qubit encoding, utilizing the mapping class associated with the current integral operator. The default mapping is Jordan-Wigner (used throughout this tutorial). "
   ]
  },
  {
   "cell_type": "code",
   "execution_count": null,
   "id": "87a68836",
   "metadata": {},
   "outputs": [],
   "source": [
    "from inquanto.extensions.pyscf._transf import CASSCF\n",
    "\n",
    "ncas, nelecas = 4, 4\n",
    "casscf_transform = False\n",
    "\n",
    "if casscf_transform:\n",
    "    driver_embedded = driver.get_subsystem_driver(frozen=FromActiveSpace(ncas, nelecas), transf=CASSCF(ncas, nelecas))\n",
    "else:\n",
    "    driver_embedded = driver.get_subsystem_driver(frozen=FromActiveSpace(ncas, nelecas))\n",
    "\n",
    "chem_hamiltonian, space, state = driver_embedded.get_system()\n",
    "qubit_hamiltonian = chem_hamiltonian.qubit_encode()"
   ]
  },
  {
   "cell_type": "markdown",
   "id": "b34f8f01-c673-4fc4-b604-9b6bc4200a39",
   "metadata": {},
   "source": [
    "When we examine the imaginary-coefficient terms of our Hamiltonian by using the `hermitian_factorisation` property, we observe that they are negligible for this active space. Consequently, we have constructed our qubit Hamiltonian by utilizing the hermitian part which exclusively includes terms with real coefficients."
   ]
  },
  {
   "cell_type": "code",
   "execution_count": null,
   "id": "a3b339c2-5136-430d-b6a6-b67046ea0373",
   "metadata": {},
   "outputs": [
    {
     "name": "stdout",
     "output_type": "stream",
     "text": [
      "(0)\n"
     ]
    }
   ],
   "source": [
    "hermitian_part, antihermitian_part = qubit_hamiltonian.hermitian_factorisation()\n",
    "print(antihermitian_part)\n",
    "qubit_hamiltonian_hermitian = qubit_hamiltonian.hermitian_part()"
   ]
  },
  {
   "cell_type": "markdown",
   "id": "bf8e0488-f679-40ee-9694-88dfdf246d07",
   "metadata": {},
   "source": [
    "To construct our ansatz for the specified fermion space and fermion state, we have employed the Chemically Aware Unitary Coupled Cluster with singles and doubles excitations (UCCSD)."
   ]
  },
  {
   "cell_type": "code",
   "execution_count": null,
   "id": "6fc80ff8-cafd-4cf1-8ae6-79e6db73dda9",
   "metadata": {},
   "outputs": [],
   "source": [
    "from inquanto.ansatzes import FermionSpaceAnsatzChemicallyAwareUCCSD\n",
    "\n",
    "ansatz = FermionSpaceAnsatzChemicallyAwareUCCSD(space, state)"
   ]
  },
  {
   "cell_type": "markdown",
   "id": "55a494c6-82c9-46fc-9acf-ec0c707947a6",
   "metadata": {},
   "source": [
    "Here, we carry out a straightforward VQE experiment to obtain the ground state energy of our system. For a more extensive guide on executing VQE calculations with InQuanto on quantum computers, we suggest referring to the [ VQE tutorial.](InQ_tut_vqe_1.ipynb) To define where the computation is performed we set the `backend` to `AerStateBackend()`."
   ]
  },
  {
   "cell_type": "code",
   "execution_count": null,
   "id": "a6e1aff9-6d9b-4d03-9ea8-dd208d5d9303",
   "metadata": {},
   "outputs": [
    {
     "name": "stdout",
     "output_type": "stream",
     "text": [
      "# TIMER BLOCK-0 BEGINS AT 2025-01-30 09:32:14.383906\n",
      "# TIMER BLOCK-0 ENDS - DURATION (s): 10.3656648 [0:00:10.365665]\n"
     ]
    }
   ],
   "source": [
    "from inquanto.express import run_vqe\n",
    "from pytket.extensions.qiskit import AerStateBackend\n",
    "from inquanto.minimizers import MinimizerRotosolve\n",
    "\n",
    "backend = AerStateBackend()\n",
    "\n",
    "vqe = run_vqe(\n",
    "    ansatz,\n",
    "    qubit_hamiltonian_hermitian,\n",
    "    backend=backend,\n",
    "    with_gradient=False,\n",
    "    minimizer=MinimizerRotosolve(),\n",
    ")"
   ]
  },
  {
   "cell_type": "markdown",
   "id": "2d06213b-25cd-44c3-bcdf-be6330d210bc",
   "metadata": {},
   "source": [
    "The InQuanto `symmetry_operators_z2` function is employed to retrieve a list of symmetry operators applicable to our system. These symmetry operators are associated with the point group, spin parity, and particle number parity $\\mathbb{Z}_2$ symmetries that uphold a specific symmetry sector."
   ]
  },
  {
   "cell_type": "code",
   "execution_count": null,
   "id": "39882230-a4a2-4f16-94d7-c8324b8c6ce1",
   "metadata": {},
   "outputs": [],
   "source": [
    "from inquanto.spaces import QubitSpace\n",
    "\n",
    "symmetry_operators = QubitSpace(space.n_spin_orb).symmetry_operators_z2(\n",
    "    qubit_hamiltonian_hermitian\n",
    ")"
   ]
  },
  {
   "cell_type": "markdown",
   "id": "c50d0766-a691-4c3a-9a7f-a82966b6c403",
   "metadata": {},
   "source": [
    "In InQuanto, we can use a quantum computer to measure n-particle Reduced Density Matrices (n-RDMs) and employ them in a classical SC-NEVPT2 calculation, replacing the static correlation effects typically handled by CASCI with quantum simulations. The remaining dynamic electron correlation effects are approximated. \n",
    "\n",
    "The class `inquanto.computables.composite.PDM1234RealComputable` computes the 1st, 2nd, 3rd, and 4th Pre-Density Matrices (PDMs) for a specific state, as determined by the provided ansatz and parameters. \n",
    "\n",
    "Parameters used:\n",
    "\n",
    "`space` – Fermion occupation space spanned by this RDM.\n",
    "\n",
    "`ansatz` – Ansatz state with respect to which expectation values are computed.\n",
    "\n",
    "`encoding`  – Fermion to qubit mapping.\n",
    "\n",
    "`symmetry_operators` – Z2 symmetries of the Hamiltonian.\n",
    "\n",
    "`cas_elec` – Number of active electrons.\n",
    "     \n",
    "`cas_orbs` – Number of active orbitals.\n",
    "\n",
    "\n",
    "The evaluation of PDMs is carried out using `inquanto.protocols.SparseStatevectorProtocol`, which is designed for sparse statevector calculations while utilizing caching. The `get_evaluator` method is employed to generate and provide a function (evaluator) that receives a specific quantum computable and computes it based on its type.\n",
    "\n",
    "The `get_nevpt2_correction` function is used to compute the strongly contracted NEVPT2 correction to the energy using the provided density matrices.\n",
    "\n",
    "For more extensive information about this method, please refer to [Krompiec & Muñoz Ramo (2022)](https://arxiv.org/pdf/2210.05702.pdf).\n",
    "\n",
    "Note that the next cell can take about 15 mins or more to run."
   ]
  },
  {
   "cell_type": "code",
   "execution_count": null,
   "id": "73b1792e-f137-46fc-ab81-85e488fded1e",
   "metadata": {},
   "outputs": [],
   "source": [
    "from inquanto.computables.composite import PDM1234RealComputable\n",
    "from inquanto.mappings import QubitMappingJordanWigner\n",
    "from inquanto.protocols import SparseStatevectorProtocol\n",
    "\n",
    "pdm_computables = PDM1234RealComputable(\n",
    "    space=space,\n",
    "    ansatz=ansatz,\n",
    "    encoding=QubitMappingJordanWigner(),\n",
    "    symmetry_operators=symmetry_operators,\n",
    "    cas_elec=ncas,\n",
    "    cas_orbs=nelecas,\n",
    ")\n",
    "\n",
    "pdms = pdm_computables.evaluate(\n",
    "    SparseStatevectorProtocol(backend).get_evaluator(vqe.final_parameters)\n",
    ")\n"
   ]
  },
  {
   "cell_type": "code",
   "execution_count": null,
   "id": "e1705a56",
   "metadata": {},
   "outputs": [],
   "source": [
    "nevpt2_energy = driver_embedded.get_nevpt2_correction(pdms)"
   ]
  },
  {
   "cell_type": "markdown",
   "id": "41e78f13-bc10-4ee9-8e04-d2f3ddc20a61",
   "metadata": {},
   "source": [
    "As an alternative approach, we can calculate the AC0 correction to the energy using the provided density matrices. Here, one- and two-particle reduced density matrices are employed to account for electron correlation effects. The `inquanto.computables.composite.SpinlessNBodyRDMArrayRealComputable` class was employed to calculate a general n-body RDM.\n",
    "\n",
    "Parameters used:\n",
    "\n",
    "`n` – n-body RDM.\n",
    "     \n",
    "`fermion_space` – Fermion space where the operators are defined.\n",
    "     \n",
    "`ansatz` – Ansatz with respect to which the expectation values are computed. \n",
    "     \n",
    "`encoding` – Qubit encoding from fermion space to qubit space.\n",
    "     \n",
    "`symmetry_operators` – List of Z2 symmetries of the Hamiltonian.\n",
    "     \n",
    "`taperer` – Optional taperer object.\n",
    "     \n",
    "The `inquanto.protocols.SparseStatevectorProtocol` class and its `get_evaluator` method are utilized in the same way as previously.\n",
    "\n",
    "The `get_ac0_correction` function is used to calculate the AC0 correction to the energy from the provided density matrices.\n",
    "\n",
    "To obtain both practical and theoretical insights, you can refer to the [NEVPT2+AC0 tutorial](InQ_tut_nevpt2_AC0.ipynb), which provides an in-depth exploration of NEVPT2 and AC0 corrections within InQuanto."
   ]
  },
  {
   "cell_type": "code",
   "execution_count": null,
   "id": "648af722",
   "metadata": {},
   "outputs": [],
   "source": [
    "from inquanto.computables.composite import SpinlessNBodyRDMArrayRealComputable\n",
    "from inquanto.computables import ComputableList\n",
    "\n",
    "rdm_computable = ComputableList(\n",
    "    [\n",
    "        SpinlessNBodyRDMArrayRealComputable(\n",
    "            n=n,\n",
    "            fermion_space=space,\n",
    "            ansatz=ansatz,\n",
    "            encoding=QubitMappingJordanWigner(),\n",
    "            symmetry_operators=symmetry_operators,\n",
    "            taperer=None,\n",
    "        )\n",
    "        for n in (1, 2)\n",
    "    ]\n",
    ")\n",
    "\n",
    "rdm_computed = rdm_computable.evaluate(\n",
    "    SparseStatevectorProtocol(backend).get_evaluator(vqe.final_parameters)\n",
    ")\n",
    "\n",
    "\n",
    "dm1 = rdm_computed[0]\n",
    "dm2 = rdm_computed[1]\n",
    "\n",
    "ac0_energy = driver_embedded.get_ac0_correction((dm1, dm2))"
   ]
  },
  {
   "cell_type": "markdown",
   "id": "1215526d-b2c6-43c2-95b0-457d029b152e",
   "metadata": {},
   "source": [
    "As the final step, we can conduct a comparison between our results and those obtained from classical calculations. Upon applying energy correction methods to the VQE result, it becomes evident that there is a very slight difference between the quantum and classical ground state energies."
   ]
  },
  {
   "cell_type": "code",
   "execution_count": null,
   "id": "9db829cd-572f-4042-b106-a0ab4becb364",
   "metadata": {},
   "outputs": [
    {
     "name": "stdout",
     "output_type": "stream",
     "text": [
      "FCI-in-DFT reference: -153.760952 Ha\n",
      "VQE Energy: -153.754820 Ha\n",
      "NEVPT2 correction: -0.004566 Ha\n",
      "Total VQE+NEVPT2 energy: -153.759386 Ha\n",
      "AC0 correction using VQE PDMs: -0.004791 Ha\n",
      "Total VQE+AC0 energy: -153.759611 Ha\n"
     ]
    }
   ],
   "source": [
    "print(\"FCI-in-DFT reference: {:.6f} Ha\".format(-153.76095170040134))\n",
    "\n",
    "print(\"VQE Energy: {:.6f} Ha\".format(vqe.final_value))\n",
    "\n",
    "print(\"NEVPT2 correction: {:.6f} Ha\".format(nevpt2_energy))\n",
    "print(\"Total VQE+NEVPT2 energy: {:.6f} Ha\".format(vqe.final_value+nevpt2_energy))\n",
    "\n",
    "print(\"AC0 correction using VQE PDMs: {:.6f} Ha\".format(ac0_energy))\n",
    "print(\"Total VQE+AC0 energy: {:.6f} Ha\".format(vqe.final_value+ac0_energy))"
   ]
  }
 ],
 "metadata": {},
 "nbformat": 4,
 "nbformat_minor": 5
}
