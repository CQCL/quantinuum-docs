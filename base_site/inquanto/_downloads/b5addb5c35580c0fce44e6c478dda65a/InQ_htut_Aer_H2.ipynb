{
 "cells": [
  {
   "cell_type": "markdown",
   "metadata": {},
   "source": [
    "Running on the Aer simulator \n",
    "============================="
   ]
  },
  {
   "attachments": {},
   "cell_type": "markdown",
   "metadata": {},
   "source": [
    "In this two-part tutorial, we demonstrate the process of executing a simple quantum chemical computation using 'shot' based sampling and on noisy quantum emulators and hardware.\n",
    "\n",
    "Since this tutorial is focused on practical quantum computation, we will perform a straightforward calculation: the single-point evaluation of the total energy for the H2 molecule using the Unitary Coupled Cluster (UCC) ansatz, without optimization or parameter variance. \n",
    "\n",
    "In this first part of the tutorial, we take advantage of [pytket-qiskit](https://docs.quantinuum.com/tket/extensions/pytket-qiskit/) to run circuits on the AER simulator locally. For the second part we examine the use of a [Quantinuum hardware emulator](InQ_htut_qsys_H2.ipynb). The use of IBM hardware (and emulator) is also possible, but note that this requires an IBM Quantum account and the appropriate credentials to run on a machine with at least four qubits for a brief duration. Users with access to Quantinuum Nexus can add their [IBMQ credentials](https://docs.quantinuum.com/nexus/user_guide/credentials.html) and access IBMQ backends [via Nexus](https://docs.quantinuum.com/nexus/trainings/notebooks/basics/ibmq_examples.html).\n",
    "\n",
    "The outlined steps are as follows:\n",
    "\n",
    "Notebook 1\n",
    "\n",
    "- Define the system \n",
    "- Perform noise-free simulation (AerStateBackend)\n",
    "- Perform stochastic simulation (AerBackend)\n",
    "- Perform simulation with simple noisy simulation of the quantum computation (AerBackend + custom noise profile)\n",
    "\n",
    "Notebook 2\n",
    "\n",
    "- Redefine the system\n",
    "- Perform computation with emulated hardware noise (QuantinuumBackend emulator + machine noise profile)\n",
    "- Demonstrate error mitigation methods on emulated hardware (PMSV)\n",
    "\n"
   ]
  },
  {
   "cell_type": "markdown",
   "metadata": {},
   "source": [
    "### 0. System preparation\n",
    "To begin, we use the `express` module to load in the converged mean-field (Hartree-Fock) spin-orbitals, potential, and Hamiltonian from a calculation of H2 using the STO-3G basis set. \n"
   ]
  },
  {
   "cell_type": "code",
   "execution_count": null,
   "metadata": {},
   "outputs": [],
   "source": [
    "from inquanto.express import load_h5\n",
    "\n",
    "h2 = load_h5(\"h2_sto3g.h5\", as_tuple=True)\n",
    "hamiltonian = h2.hamiltonian_operator"
   ]
  },
  {
   "cell_type": "markdown",
   "metadata": {},
   "source": [
    "Now we prepare the Fermionic space and define the Fermionic state. \n",
    "\n",
    "The space here is defined with 4 spin-orbitals (which matches the full H2 STO-3G space) and we use the D2h point group.\n",
    "\n",
    "This point group is the most practical high symmetry group to approximate the $\\text{D} \\infty \\text{h}$ group. We also explicitly define the orbital symmetries.\n",
    "\n",
    "The state is then set by the ground state occupations [1,1,0,0] and the Hamiltonian encoded from the Hartree-Fock \n",
    "integrals. \n",
    "\n",
    "A space of excited states is then created using the UCCSD ansatz, which is then mapped to a quantum circuit using Jordan-Wigner (JW) encoding. InQuanto uses an efficient ansatz circuit compilation approach here, provided by the `FermionSpaceStateExpJWChemicallyAware` class, to reduce the computational resources required.\n"
   ]
  },
  {
   "cell_type": "code",
   "execution_count": null,
   "metadata": {},
   "outputs": [],
   "source": [
    "from inquanto.spaces import FermionSpace\n",
    "from inquanto.states import FermionState\n",
    "from inquanto.symmetry import PointGroup\n",
    "from inquanto.ansatzes import FermionSpaceStateExpChemicallyAware\n",
    "\n",
    "space = FermionSpace(\n",
    "    4, point_group=PointGroup(\"D2h\"), orb_irreps=[\"Ag\", \"Ag\", \"B1u\", \"B1u\"]\n",
    ")\n",
    "\n",
    "state = FermionState([1, 1, 0, 0])\n",
    "qubit_hamiltonian = hamiltonian.qubit_encode()\n",
    "\n",
    "exponents = space.construct_single_ucc_operators(state)\n",
    "## the above adds nothing due to the symmetry of the system\n",
    "exponents += space.construct_double_ucc_operators(state)\n",
    "ansatz = FermionSpaceStateExpChemicallyAware(exponents, state)"
   ]
  },
  {
   "cell_type": "markdown",
   "metadata": {},
   "source": [
    "The ansatz circuit structure is well-defined, but the guess for the wave function parameters (weights of the exponentiated determinants / angles of rotation gates) has not been established. These parameters are initialized with a single value denoted as 'p', detailed below. \n",
    "\n",
    "Once the parameters are defined, the `Computable` class is employed to specify the quantity of interest: we seek to evaluate the expectation value of the Hamiltonian for a given parameter value $\\theta$, $E=\\langle \\Psi(\\theta)|\\hat{H} |\\Psi(\\theta)\\rangle$.\n",
    "\n",
    "For demonstration purposes, we fix the random seed on the initialization of the parameters using `seed=6`, which should set a parameter value of 0.499675. Alternatively, this parameter can be set using `p = ansatz.state_symbols.construct_from_array([0.4996755931358105])`."
   ]
  },
  {
   "cell_type": "code",
   "execution_count": null,
   "metadata": {},
   "outputs": [
    {
     "name": "stdout",
     "output_type": "stream",
     "text": [
      "{d0: 0.4996755931358105}\n"
     ]
    }
   ],
   "source": [
    "# p = ansatz.state_symbols.construct_random(seed=6)\n",
    "p = ansatz.state_symbols.construct_from_array([0.4996755931358105])\n",
    "print(p)\n",
    "\n",
    "from inquanto.computables import ExpectationValue\n",
    "\n",
    "expectation0 = ExpectationValue(ansatz, hamiltonian.qubit_encode())"
   ]
  },
  {
   "cell_type": "markdown",
   "metadata": {},
   "source": [
    "With the circuit and parameters now established, it becomes possible to display and analyze the circuit. This particular circuit comprises 4 qubits and consists of 31 gates. Notably, among these gates, the multi-qubit CNOT gates, are expected to contribute the most noise. In this circuit, there are a total of 4 CNOT gates."
   ]
  },
  {
   "cell_type": "code",
   "execution_count": null,
   "metadata": {},
   "outputs": [
    {
     "data": {
      "text/html": [
       "\n",
       "\n",
       "\n",
       "\n",
       "\n",
       "\n",
       "<div style=\"resize: vertical; overflow: auto; height: 400px; display: block\">\n",
       "    <iframe srcdoc=\"\n",
       "&lt;!DOCTYPE html&gt;\n",
       "&lt;html lang=&#34;en&#34;&gt;\n",
       "&lt;head&gt;\n",
       "    &lt;meta charset=&#34;UTF-8&#34;&gt;\n",
       "    &lt;!-- Download Vue 3--&gt;\n",
       "&lt;script type=&#34;application/javascript&#34; src=&#34;https://cdn.jsdelivr.net/npm/vue@3&#34;&gt;&lt;/script&gt;\n",
       "&lt;!-- Download Circuit Renderer with styles --&gt;\n",
       "&lt;script type=&#34;application/javascript&#34; src=&#34;https://unpkg.com/pytket-circuit-renderer@0.10/dist/pytket-circuit-renderer.umd.js&#34;&gt;&lt;/script&gt;\n",
       "&lt;link rel=&#34;stylesheet&#34; href=&#34;https://unpkg.com/pytket-circuit-renderer@0.10/dist/pytket-circuit-renderer.css&#34;&gt;\n",
       "&lt;/head&gt;\n",
       "&lt;body&gt;\n",
       "\n",
       "\n",
       "    &lt;div id=&#34;circuit-display-vue-container-d6a48f88-a51c-4717-aac6-fb45b29ff803&#34; class=&#34;pytket-circuit-display-container&#34;&gt;\n",
       "        &lt;div style=&#34;display: none&#34;&gt;\n",
       "            &lt;div id=&#34;circuit-json-to-display&#34;&gt;{&#34;bits&#34;: [], &#34;commands&#34;: [{&#34;args&#34;: [[&#34;q&#34;, [0]]], &#34;op&#34;: {&#34;type&#34;: &#34;X&#34;}}, {&#34;args&#34;: [[&#34;q&#34;, [1]]], &#34;op&#34;: {&#34;type&#34;: &#34;S&#34;}}, {&#34;args&#34;: [[&#34;q&#34;, [2]]], &#34;op&#34;: {&#34;type&#34;: &#34;V&#34;}}, {&#34;args&#34;: [[&#34;q&#34;, [3]]], &#34;op&#34;: {&#34;type&#34;: &#34;S&#34;}}, {&#34;args&#34;: [[&#34;q&#34;, [0]]], &#34;op&#34;: {&#34;type&#34;: &#34;Sdg&#34;}}, {&#34;args&#34;: [[&#34;q&#34;, [1]]], &#34;op&#34;: {&#34;type&#34;: &#34;H&#34;}}, {&#34;args&#34;: [[&#34;q&#34;, [3]]], &#34;op&#34;: {&#34;type&#34;: &#34;H&#34;}}, {&#34;args&#34;: [[&#34;q&#34;, [0]]], &#34;op&#34;: {&#34;type&#34;: &#34;Vdg&#34;}}, {&#34;args&#34;: [[&#34;q&#34;, [1]]], &#34;op&#34;: {&#34;type&#34;: &#34;S&#34;}}, {&#34;args&#34;: [[&#34;q&#34;, [3]]], &#34;op&#34;: {&#34;type&#34;: &#34;S&#34;}}, {&#34;args&#34;: [[&#34;q&#34;, [2]], [&#34;q&#34;, [0]]], &#34;op&#34;: {&#34;type&#34;: &#34;CX&#34;}}, {&#34;args&#34;: [[&#34;q&#34;, [1]]], &#34;op&#34;: {&#34;type&#34;: &#34;V&#34;}}, {&#34;args&#34;: [[&#34;q&#34;, [3]]], &#34;op&#34;: {&#34;type&#34;: &#34;V&#34;}}, {&#34;args&#34;: [[&#34;q&#34;, [0]]], &#34;op&#34;: {&#34;params&#34;: [&#34;0.499675593135811/pi&#34;], &#34;type&#34;: &#34;Rz&#34;}}, {&#34;args&#34;: [[&#34;q&#34;, [2]]], &#34;op&#34;: {&#34;type&#34;: &#34;H&#34;}}, {&#34;args&#34;: [[&#34;q&#34;, [2]]], &#34;op&#34;: {&#34;params&#34;: [&#34;-0.499675593135811/pi&#34;], &#34;type&#34;: &#34;Rz&#34;}}, {&#34;args&#34;: [[&#34;q&#34;, [2]]], &#34;op&#34;: {&#34;type&#34;: &#34;H&#34;}}, {&#34;args&#34;: [[&#34;q&#34;, [2]], [&#34;q&#34;, [0]]], &#34;op&#34;: {&#34;type&#34;: &#34;CX&#34;}}, {&#34;args&#34;: [[&#34;q&#34;, [0]]], &#34;op&#34;: {&#34;type&#34;: &#34;V&#34;}}, {&#34;args&#34;: [[&#34;q&#34;, [2]]], &#34;op&#34;: {&#34;type&#34;: &#34;Vdg&#34;}}, {&#34;args&#34;: [[&#34;q&#34;, [0]]], &#34;op&#34;: {&#34;type&#34;: &#34;S&#34;}}, {&#34;args&#34;: [[&#34;q&#34;, [2]]], &#34;op&#34;: {&#34;type&#34;: &#34;S&#34;}}, {&#34;args&#34;: [[&#34;q&#34;, [0]]], &#34;op&#34;: {&#34;type&#34;: &#34;S&#34;}}, {&#34;args&#34;: [[&#34;q&#34;, [2]]], &#34;op&#34;: {&#34;type&#34;: &#34;H&#34;}}, {&#34;args&#34;: [[&#34;q&#34;, [0]]], &#34;op&#34;: {&#34;type&#34;: &#34;H&#34;}}, {&#34;args&#34;: [[&#34;q&#34;, [2]]], &#34;op&#34;: {&#34;type&#34;: &#34;S&#34;}}, {&#34;args&#34;: [[&#34;q&#34;, [0]]], &#34;op&#34;: {&#34;type&#34;: &#34;S&#34;}}, {&#34;args&#34;: [[&#34;q&#34;, [2]]], &#34;op&#34;: {&#34;type&#34;: &#34;V&#34;}}, {&#34;args&#34;: [[&#34;q&#34;, [0]]], &#34;op&#34;: {&#34;type&#34;: &#34;V&#34;}}, {&#34;args&#34;: [[&#34;q&#34;, [2]], [&#34;q&#34;, [3]]], &#34;op&#34;: {&#34;type&#34;: &#34;CX&#34;}}, {&#34;args&#34;: [[&#34;q&#34;, [0]], [&#34;q&#34;, [1]]], &#34;op&#34;: {&#34;type&#34;: &#34;CX&#34;}}], &#34;created_qubits&#34;: [], &#34;discarded_qubits&#34;: [], &#34;implicit_permutation&#34;: [[[&#34;q&#34;, [0]], [&#34;q&#34;, [0]]], [[&#34;q&#34;, [1]], [&#34;q&#34;, [1]]], [[&#34;q&#34;, [2]], [&#34;q&#34;, [2]]], [[&#34;q&#34;, [3]], [&#34;q&#34;, [3]]]], &#34;phase&#34;: &#34;0.0&#34;, &#34;qubits&#34;: [[&#34;q&#34;, [0]], [&#34;q&#34;, [1]], [&#34;q&#34;, [2]], [&#34;q&#34;, [3]]]}&lt;/div&gt;\n",
       "        &lt;/div&gt;\n",
       "        &lt;circuit-display-container\n",
       "                :circuit-element-str=&#34;&#39;#circuit-json-to-display&#39;&#34;\n",
       "                :init-render-options=&#34;initRenderOptions&#34;\n",
       "                view-format=&#34;None&#34;\n",
       "        &gt;&lt;/circuit-display-container&gt;\n",
       "    &lt;/div&gt;\n",
       "    &lt;script type=&#34;application/javascript&#34;&gt;\n",
       "      const circuitRendererUid = &#34;d6a48f88-a51c-4717-aac6-fb45b29ff803&#34;;\n",
       "      const displayOptions = JSON.parse(&#39;{}&#39;);\n",
       "\n",
       "      // Script to initialise the circuit renderer app\n",
       "\n",
       "const { createApp } = Vue;\n",
       "const circuitDisplayContainer = window[&#34;pytket-circuit-renderer&#34;].default;\n",
       "// Init variables to be shared between circuit display instances\n",
       "if (typeof window.pytketCircuitDisplays === &#34;undefined&#34;) {\n",
       "    window.pytketCircuitDisplays = {};\n",
       "}\n",
       "// Create the root Vue component\n",
       "const app = createApp({\n",
       "    delimiters: [&#39;[[#&#39;, &#39;#]]&#39;],\n",
       "    components: { circuitDisplayContainer },\n",
       "    data () {\n",
       "      return {\n",
       "        initRenderOptions: displayOptions,\n",
       "      }\n",
       "    }\n",
       "})\n",
       "app.config.unwrapInjectedRef = true;\n",
       "app.mount(&#34;#circuit-display-vue-container-&#34;+circuitRendererUid);\n",
       "window.pytketCircuitDisplays[circuitRendererUid] = app;\n",
       "    &lt;/script&gt;\n",
       "\n",
       "\n",
       "\n",
       "&lt;/body&gt;\n",
       "&lt;/html&gt;\n",
       "\"\n",
       "            width=\"100%\" height=\"100%\"\n",
       "            style=\"border: none; outline: none; overflow: auto\"></iframe>\n",
       "</div>\n",
       "\n"
      ],
      "text/plain": [
       "<IPython.core.display.HTML object>"
      ]
     },
     "metadata": {},
     "output_type": "display_data"
    },
    {
     "name": "stdout",
     "output_type": "stream",
     "text": [
      "\n",
      "2-qubit GATES:  4\n",
      "<tket::Circuit, qubits=4, gates=31>\n"
     ]
    }
   ],
   "source": [
    "from pytket.circuit.display import render_circuit_jupyter\n",
    "\n",
    "render_circuit_jupyter(ansatz.get_circuit(p))\n",
    "\n",
    "from pytket import Circuit, OpType\n",
    "\n",
    "print(\"\\n2-qubit GATES:  {}\".format(ansatz.circuit_resources()['gates_2q']))\n",
    "\n",
    "print(ansatz.state_circuit)"
   ]
  },
  {
   "cell_type": "markdown",
   "metadata": {},
   "source": [
    "We are now ready to think about how we run this circuit. \n",
    "\n",
    "To better comprehend the impact of noise on computing this circuit, in the following cell, we establish a set of \"shots\" to scan over, along with a random seed number and various other parameters. To illustrate the varying degrees of stochasticity and quantum noise across different backends, we will present convergence plots. These plots will demonstrate how the average energy converges towards the expectation value with increasing sampling. "
   ]
  },
  {
   "cell_type": "code",
   "execution_count": null,
   "metadata": {},
   "outputs": [],
   "source": [
    "import matplotlib.pyplot as plt\n",
    "\n",
    "plt.rcParams[\"figure.figsize\"] = (12, 4)\n",
    "\n",
    "set_shots = [10, 20, 50, 100, 200, 500, 1000, 2000, 5000, 10000, 20000, 50000]\n",
    "# N_shots * N_measured_terms is the total number of shots\n",
    "# n_shots arg is number of samples per commuting set formed from the Hamiltonian terms\n",
    "set_seed = 1"
   ]
  },
  {
   "attachments": {},
   "cell_type": "markdown",
   "metadata": {},
   "source": [
    "### 1. Noiseless Statevector simulation\n",
    "\n",
    "The evaluation of a quantum measurement can be carried out directly by state vector methods, which perform the linear algebra of gate operations directly to an explicit $2^N$ dimensional representation of the quantum state. This method returns the computable of the system directly without considering the stochasticity of the quantum measurements at the end of the circuit. Note that statevector backends do not take number of shots as an arguemnt. The needed resultant probability amplitudes are returned directly rather than averaged over sampling the computational basis eigenvalues. For the given system parameter ($\\theta =  0.499676$), we expect an energy of $-0.587646$ Ha.\n",
    "\n",
    "In general, to define where the computation is performed we set the backend, in this case `backend = AerStateBackend()` ."
   ]
  },
  {
   "cell_type": "code",
   "execution_count": null,
   "metadata": {},
   "outputs": [
    {
     "name": "stdout",
     "output_type": "stream",
     "text": [
      "Statevector energy is -0.5876463677225002Ha\n"
     ]
    }
   ],
   "source": [
    "from matplotlib import pyplot as plt\n",
    "import numpy as np\n",
    "\n",
    "from pytket.extensions.qiskit import AerStateBackend\n",
    "from inquanto.computables import ExpectationValue\n",
    "from inquanto.protocols import BackendStatevectorProtocol\n",
    "\n",
    "backend = AerStateBackend()\n",
    "\n",
    "expval_expression = ExpectationValue(ansatz, hamiltonian.qubit_encode())\n",
    "protocol = BackendStatevectorProtocol(backend)\n",
    "evaluator = protocol.get_evaluator(p)\n",
    "statevector_energy = expval_expression.evaluate(evaluator=evaluator)\n",
    "\n",
    "shotless_energies = [statevector_energy,] * len(\n",
    "    set_shots\n",
    ")  # for plotting later\n",
    "\n",
    "print(\"Statevector energy is \" + str(np.real(statevector_energy)) + \"Ha\")"
   ]
  },
  {
   "cell_type": "markdown",
   "metadata": {},
   "source": [
    "### 2. Noiseless simulation\n",
    "\n",
    "Subsequently, we proceed to simulate \"shots\", representing the runs of the quantum computer, using the `AerBackend`. This simulation, devoid of quantum noise such as decoherence during processing, does incorporate the stochastic nature of measuring the system, culminating in a probabilistic collapse into a computational basis state upon simulation completion. Each individual shot yields a measurement outcome of 0 or 1 on each qubit. By accumulating numerous shots, one can estimate the expectation value of each Pauli string within the Hamiltonian. Higher shot counts lead to increased precision in these expectation values, ultimately resulting in enhanced precision of the overall Hamiltonian expectation value.\n",
    "\n",
    "We generate a plot to illustrate the convergence of energy concerning the number of shots. This plot reveals that with approximately 1000 shots, the averaging of the system reaches a sufficient level, closely resembling the results obtained from the AerStateBackend (within a margin of 0.01 Ha).\n",
    "\n",
    "We recommend changing the seed value in `protocol.run()` to examine different convergence regimes. Consider what number of shots is required for consistent precision. "
   ]
  },
  {
   "cell_type": "code",
   "execution_count": null,
   "metadata": {},
   "outputs": [],
   "source": [
    "from pytket.extensions.qiskit import AerBackend\n",
    "from inquanto.protocols import PauliAveraging\n",
    "from pytket.partition import PauliPartitionStrat\n",
    "\n",
    "backend = []\n",
    "backend = AerBackend()\n",
    "\n",
    "protocol_template = PauliAveraging(\n",
    "    backend,\n",
    "    shots_per_circuit=10,\n",
    "    pauli_partition_strategy=PauliPartitionStrat.CommutingSets,\n",
    ")\n",
    "protocol_template.build(p, ansatz, hamiltonian.qubit_encode()).compile_circuits()\n",
    "\n",
    "protocol_pickle = protocol_template.dumps()"
   ]
  },
  {
   "cell_type": "code",
   "execution_count": null,
   "metadata": {},
   "outputs": [],
   "source": [
    "noiseless_energies = []\n",
    "for i in set_shots:\n",
    "    protocol = PauliAveraging.loads(protocol_pickle, backend)\n",
    "    protocol.shots_per_circuit = i\n",
    "    protocol.run(seed=set_seed)\n",
    "    aer_expectation = protocol.evaluate_expectation_value(\n",
    "        ansatz, hamiltonian.qubit_encode()\n",
    "    )\n",
    "    noiseless_energies.append(aer_expectation)"
   ]
  },
  {
   "cell_type": "code",
   "execution_count": null,
   "metadata": {},
   "outputs": [
    {
     "name": "stdout",
     "output_type": "stream",
     "text": [
      "-0.5848319000310381\n"
     ]
    },
    {
     "data": {
      "image/png": "[encoded data removed]",
      "text/plain": [
       "<Figure size 1200x400 with 1 Axes>"
      ]
     },
     "metadata": {},
     "output_type": "display_data"
    }
   ],
   "source": [
    "plt.plot(set_shots, shotless_energies, label=\"AerStateBackend\", color=\"black\", ls=\"--\")\n",
    "plt.plot(set_shots, noiseless_energies, label=\"AerBackend\")\n",
    "plt.xscale(\"log\")\n",
    "plt.ylim([-1, 0])\n",
    "plt.xlabel(\"Number of shots\")\n",
    "plt.ylabel(\"Energy (Ha)\")\n",
    "plt.title(\n",
    "    \"Convergence behavior of the expectation value for \"\n",
    "    + r\"$\\theta=$%.5f\" % list(p.values())[0]\n",
    ")\n",
    "plt.legend()\n",
    "\n",
    "print(noiseless_energies[-1])"
   ]
  },
  {
   "attachments": {},
   "cell_type": "markdown",
   "metadata": {},
   "source": [
    "### 3. Simple quantum noise model\n",
    "\n",
    "Having demonstrated the stochastic nature of quantum measurement, we are ready to consider quantum noise. \n",
    "\n",
    "To do this, first we will use a simple quantum noise model. The noise in quantum circuits can manifest in many ways. A simple noise model is constructed by adding depolarising error to CNOT gates. This can be a reasonable first approximation to multi-qubit operations which generally cause the most quantum noise. \n",
    "\n",
    "There are many other types of quantum noise that can be added, some of which are detailed in the [Qiskit documentation](https://qiskit.org/documentation/aer/stubs/qiskit_aer.noise.NoiseModel.html). One other simple example is the readout error, which represents incorrectly measuring the qubit state at the end of the circuit.\n",
    "\n",
    "We recommend modifying the `cnot_error_rate` parameter and also the seed number in `noisy_aer_expectation.run()`.  In particular, consider whether for larger CNOT error rate (>0.01) the system does or does not practically converge to the AerStateBackend result.\n",
    "\n"
   ]
  },
  {
   "cell_type": "code",
   "execution_count": null,
   "metadata": {},
   "outputs": [
    {
     "name": "stdout",
     "output_type": "stream",
     "text": [
      "False\n"
     ]
    }
   ],
   "source": [
    "## In this cell we define the noise model\n",
    "from qiskit_aer.noise import NoiseModel  # , ReadoutError\n",
    "import qiskit_aer.noise as noise\n",
    "\n",
    "\n",
    "cnot_error_rate = 0.01\n",
    "noise_model = NoiseModel()\n",
    "error_1 = noise.depolarizing_error(cnot_error_rate, 2)\n",
    "\n",
    "n_qubits = 4\n",
    "for qubit in range(n_qubits):\n",
    "    for qubit2 in (x for x in range(n_qubits) if x != qubit):\n",
    "        noise_model.add_quantum_error(error_1, [\"cx\"], [qubit, qubit2])\n",
    "\n",
    "print(noise_model.is_ideal())  ## this reports false if there is noise in the model"
   ]
  },
  {
   "cell_type": "code",
   "execution_count": null,
   "metadata": {},
   "outputs": [
    {
     "data": {
      "text/plain": [
       "<matplotlib.legend.Legend at 0x15f8db890>"
      ]
     },
     "execution_count": null,
     "metadata": {},
     "output_type": "execute_result"
    },
    {
     "data": {
      "image/png": "[encoded data removed]",
      "text/plain": [
       "<Figure size 1200x400 with 1 Axes>"
      ]
     },
     "metadata": {},
     "output_type": "display_data"
    }
   ],
   "source": [
    "## This cell runs the cnot noisy simulation\n",
    "\n",
    "noisy_backend = AerBackend(\n",
    "    noise_model=noise_model\n",
    ")  # this defaults to no noise, which is the same as NoiseModel.is_ideal\n",
    "noisy_energies = []\n",
    "\n",
    "# rebuild protocol/circuits for new noisy backend\n",
    "protocol_template = PauliAveraging(\n",
    "    noisy_backend,\n",
    "    shots_per_circuit=10,\n",
    "    pauli_partition_strategy=PauliPartitionStrat.CommutingSets,\n",
    ")\n",
    "protocol_template.build(p, ansatz, hamiltonian.qubit_encode()).compile_circuits()\n",
    "protocol_pickle = protocol_template.dumps()\n",
    "\n",
    "for i in set_shots:\n",
    "    protocol = PauliAveraging.loads(protocol_pickle, noisy_backend)\n",
    "    protocol.shots_per_circuit = i\n",
    "    protocol.run(seed=set_seed)\n",
    "    aer_expectation = protocol.evaluate_expectation_value(\n",
    "        ansatz, hamiltonian.qubit_encode()\n",
    "    )\n",
    "    noisy_energies.append(aer_expectation)\n",
    "\n",
    "plt.plot(set_shots, shotless_energies, label=\"AerStateBackend\", color=\"black\", ls=\"--\")\n",
    "plt.plot(set_shots, noiseless_energies, label=\"AerBackend\")\n",
    "plt.plot(set_shots, noisy_energies, label=\"Stochastic + CNOT error Aer\")\n",
    "plt.xscale(\"log\")\n",
    "plt.ylim([-1, 0])\n",
    "plt.xlabel(\"Number of shots\")\n",
    "plt.ylabel(\"Energy (Ha)\")\n",
    "plt.title(\n",
    "    \"Convergence behavior of the expectation value for \"\n",
    "    + r\"$\\theta=$%.5f\" % list(p.values())[0]\n",
    ")\n",
    "plt.legend()"
   ]
  },
  {
   "attachments": {},
   "cell_type": "markdown",
   "metadata": {},
   "source": [
    "The final plot shows that noisy operations lead to a shift in the total expectation value due to biasing. Increasing the number of shots should increase precision but not accuracy without the use of error mitigation methods. \n",
    "\n",
    "This tutorial has demonstrated the use of freely available Qiskit backends to evaluate a simple quantum system. The final example adds a simple model of quantum noise. \n",
    "\n",
    "This is the first part of this tutorial, and for the second part we examine the use of a [Quantinuum hardware emulator](InQ_htut_Hser_H2.ipynb) involving a more complex and realistic noise model, and the use of noise mitigation."
   ]
  }
 ],
 "metadata": {
  "language_info": {
   "name": "python"
  }
 },
 "nbformat": 4,
 "nbformat_minor": 4
}
